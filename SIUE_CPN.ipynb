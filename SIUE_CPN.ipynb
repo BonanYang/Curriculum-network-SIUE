{
  "nbformat": 4,
  "nbformat_minor": 0,
  "metadata": {
    "colab": {
      "provenance": []
    },
    "kernelspec": {
      "name": "python3",
      "display_name": "Python 3"
    },
    "language_info": {
      "name": "python"
    }
  },
  "cells": [
    {
      "cell_type": "code",
      "execution_count": null,
      "metadata": {
        "id": "9JBpdbBiI9rC"
      },
      "outputs": [],
      "source": [
        "import numpy as np\n",
        "import networkx as nx\n",
        "import re"
      ]
    },
    {
      "cell_type": "code",
      "source": [
        "######## 1. Read Course Data #############\n",
        "with open('FIN0814.csv', 'r',encoding='UTF-8-sig') as file:\n",
        "    data = file.read().split('\\n') #split into rows\n",
        "temp = []\n",
        "for row in data:\n",
        "    row = row.split(',')\n",
        "    row = [num for num in row if num not in (\" \")]\n",
        "    # row = [float(num) for num in row]\n",
        "    temp.append(row)\n",
        "temp.pop()\n",
        "data=temp\n",
        "#data = np.asarray(temp)\n",
        "#print(type(data))\n",
        "print(len(data))\n",
        "#print(data[59])\n",
        "data = np.asarray(data)\n",
        "# print(data)"
      ],
      "metadata": {
        "id": "Fu5YemMTJNaj",
        "colab": {
          "base_uri": "https://localhost:8080/"
        },
        "outputId": "8cee7066-d2b6-45a3-908f-2e77e65b5e3a"
      },
      "execution_count": null,
      "outputs": [
        {
          "output_type": "stream",
          "name": "stdout",
          "text": [
            "2447\n"
          ]
        },
        {
          "output_type": "stream",
          "name": "stderr",
          "text": [
            "<ipython-input-4-fba108a24569>:16: VisibleDeprecationWarning: Creating an ndarray from ragged nested sequences (which is a list-or-tuple of lists-or-tuples-or ndarrays with different lengths or shapes) is deprecated. If you meant to do this, you must specify 'dtype=object' when creating the ndarray.\n",
            "  data = np.asarray(data)\n"
          ]
        }
      ]
    },
    {
      "cell_type": "code",
      "source": [
        "######## 2. read course info #############\n",
        "dd   = list(d[0] for d in data)\n",
        "dd1  = list(d[-2] for d in data)\n",
        "dd2  = list(d[-1] for d in data)\n",
        "dd3  = list(d[-3] for d in data)\n",
        "\n",
        "# dd: course number; dd1：Major; dd2: meta-major; dd3: AND/OR (for future)"
      ],
      "metadata": {
        "id": "K7eFY2mc73S_"
      },
      "execution_count": null,
      "outputs": []
    },
    {
      "cell_type": "code",
      "source": [
        "######## 3. Mapping majors and meta-majors ########\n",
        "k = list(set(dd1)) #85 majors (unique)\n",
        "k2 = list(set(dd2)) #8 meta-majors (unique)\n",
        "kk = []\n",
        "for i in k:\n",
        "  for j in range(len(dd1)):\n",
        "    if dd1[j] == i:\n",
        "      kk.append([i,dd2[j]])\n",
        "      break\n",
        "  continue\n",
        "ka = dict(kk)\n",
        "# ka is a dict stores [major,meta]\n",
        "# ka['ACCT'] = '3'"
      ],
      "metadata": {
        "id": "i1Dy2PXFwc3p"
      },
      "execution_count": null,
      "outputs": []
    },
    {
      "cell_type": "code",
      "source": [
        "######## 4. Mapping majors and meta-majors ########\n",
        "def majmeta(s,ka):\n",
        "  # a = re.findall(r\"[A-Z]+\",s)[0]\n",
        "  a = str(re.findall(r\"[A-Z]+\",s)[0])\n",
        "  meta = ka[a]\n",
        "\n",
        "  return meta\n",
        "# this function querys course code with meta-major\n",
        "# s = 'ACCT100' ...etc,."
      ],
      "metadata": {
        "id": "izcTiTx8yeJ4"
      },
      "execution_count": null,
      "outputs": []
    },
    {
      "cell_type": "code",
      "source": [
        "\n",
        "MG=nx.DiGraph()\n",
        "for i in range(len(k2)):\n",
        "  MG.add_node(k2[i],attr = k2[i])\n",
        "\n",
        "vv = []\n",
        "for i in range(len(k2)):\n",
        "  for j in range(len(k2)):\n",
        "    vv.append([(k2[i],k2[j]), 0])\n",
        "\n",
        "print(vv)\n",
        "vv = dict(vv)\n",
        "print(len(vv))\n",
        "\n",
        "for i in range(len(data)):\n",
        "  for j in range(len(data[i])-3):\n",
        "    # if( majmeta(data[i][j],ka) in k2 and data[i][j]!= data[i][0]):\n",
        "    if( data[i][j]!= data[i][0]):\n",
        "\n",
        "      vv[majmeta(data[i][j],ka),majmeta(data[i][0],ka)]+=1\n",
        "\n",
        "# meta-major graph, 9 nodes, maximum 81 edges"
      ],
      "metadata": {
        "colab": {
          "base_uri": "https://localhost:8080/"
        },
        "id": "HfdklGW5xfky",
        "outputId": "0c806aed-170b-497c-fddd-756fad734e9e"
      },
      "execution_count": null,
      "outputs": [
        {
          "output_type": "stream",
          "name": "stdout",
          "text": [
            "[[('5', '5'), 0], [('5', '0'), 0], [('5', '8'), 0], [('5', '3'), 0], [('5', '6'), 0], [('5', '2'), 0], [('5', '1'), 0], [('5', '7'), 0], [('5', '4'), 0], [('0', '5'), 0], [('0', '0'), 0], [('0', '8'), 0], [('0', '3'), 0], [('0', '6'), 0], [('0', '2'), 0], [('0', '1'), 0], [('0', '7'), 0], [('0', '4'), 0], [('8', '5'), 0], [('8', '0'), 0], [('8', '8'), 0], [('8', '3'), 0], [('8', '6'), 0], [('8', '2'), 0], [('8', '1'), 0], [('8', '7'), 0], [('8', '4'), 0], [('3', '5'), 0], [('3', '0'), 0], [('3', '8'), 0], [('3', '3'), 0], [('3', '6'), 0], [('3', '2'), 0], [('3', '1'), 0], [('3', '7'), 0], [('3', '4'), 0], [('6', '5'), 0], [('6', '0'), 0], [('6', '8'), 0], [('6', '3'), 0], [('6', '6'), 0], [('6', '2'), 0], [('6', '1'), 0], [('6', '7'), 0], [('6', '4'), 0], [('2', '5'), 0], [('2', '0'), 0], [('2', '8'), 0], [('2', '3'), 0], [('2', '6'), 0], [('2', '2'), 0], [('2', '1'), 0], [('2', '7'), 0], [('2', '4'), 0], [('1', '5'), 0], [('1', '0'), 0], [('1', '8'), 0], [('1', '3'), 0], [('1', '6'), 0], [('1', '2'), 0], [('1', '1'), 0], [('1', '7'), 0], [('1', '4'), 0], [('7', '5'), 0], [('7', '0'), 0], [('7', '8'), 0], [('7', '3'), 0], [('7', '6'), 0], [('7', '2'), 0], [('7', '1'), 0], [('7', '7'), 0], [('7', '4'), 0], [('4', '5'), 0], [('4', '0'), 0], [('4', '8'), 0], [('4', '3'), 0], [('4', '6'), 0], [('4', '2'), 0], [('4', '1'), 0], [('4', '7'), 0], [('4', '4'), 0]]\n",
            "81\n"
          ]
        }
      ]
    },
    {
      "cell_type": "code",
      "source": [
        "mmm = sorted(vv.items(),key = lambda d:d[1],reverse=True)\n",
        "print(mmm[0][0])\n",
        "print(mmm[0][1])\n",
        "\n",
        "med = []\n",
        "for i in mmm:\n",
        "  if(i[1] > 0):\n",
        "    p = (i[0][0],i[0][1],i[1])\n",
        "    med.append(p)\n",
        "for i in med:\n",
        "  if(i[0] != i[1]): #remove self loop\n",
        "    # print(i)\n",
        "    MG.add_edge(i[0],i[1],weight = i[2])\n",
        "\n",
        "nx.write_gml(MG,'MgG08.gml')"
      ],
      "metadata": {
        "colab": {
          "base_uri": "https://localhost:8080/"
        },
        "id": "7wwjm_0TyaOh",
        "outputId": "7184c752-2322-4433-86bf-3ebf82ebe2d2"
      },
      "execution_count": null,
      "outputs": [
        {
          "output_type": "stream",
          "name": "stdout",
          "text": [
            "('5', '5')\n",
            "455\n"
          ]
        }
      ]
    },
    {
      "cell_type": "code",
      "source": [
        "#######################################################\n",
        "#METAMAJOR\n",
        "#######################################################"
      ],
      "metadata": {
        "id": "9nGoyjoBwc8B"
      },
      "execution_count": null,
      "outputs": []
    },
    {
      "cell_type": "code",
      "source": [
        "#######################################################\n",
        "#######################################################\n",
        "#######################################################"
      ],
      "metadata": {
        "id": "1SqF0GxQlRNE"
      },
      "execution_count": null,
      "outputs": []
    },
    {
      "cell_type": "code",
      "source": [
        "dd   = list(d[0] for d in data)\n",
        "dd1  = list(d[-2] for d in data)\n",
        "dd2  = list(d[-1] for d in data)\n",
        "dd3  = list(d[-3] for d in data)"
      ],
      "metadata": {
        "id": "FxHdcDldlRUG"
      },
      "execution_count": 20,
      "outputs": []
    },
    {
      "cell_type": "code",
      "source": [
        "def maj(s):\n",
        "  # a = re.findall(r\"[A-Z]+\",s)[0]\n",
        "  a = str(re.findall(r\"[A-Z]+\",s)[0])\n",
        "  return a\n"
      ],
      "metadata": {
        "id": "Rpub84gypu9j"
      },
      "execution_count": 19,
      "outputs": []
    },
    {
      "cell_type": "code",
      "source": [
        "k = list(set(dd1))\n",
        "k"
      ],
      "metadata": {
        "id": "hnm-sX0xNCJa"
      },
      "execution_count": null,
      "outputs": []
    },
    {
      "cell_type": "code",
      "source": [
        "kk = []\n",
        "for i in k:\n",
        "  for j in range(len(dd1)):\n",
        "    if dd1[j] == i:\n",
        "      kk.append([i,dd2[j]])\n",
        "      break\n",
        "  continue\n",
        "ka = dict(kk)"
      ],
      "metadata": {
        "id": "NZz__R_XIWQn"
      },
      "execution_count": 23,
      "outputs": []
    },
    {
      "cell_type": "code",
      "source": [
        "ka['BIOL']"
      ],
      "metadata": {
        "colab": {
          "base_uri": "https://localhost:8080/",
          "height": 35
        },
        "id": "y8wyPQURwrxh",
        "outputId": "50547043-64da-48fe-bc48-43f669aecb1c"
      },
      "execution_count": 24,
      "outputs": [
        {
          "output_type": "execute_result",
          "data": {
            "text/plain": [
              "'5'"
            ],
            "application/vnd.google.colaboratory.intrinsic+json": {
              "type": "string"
            }
          },
          "metadata": {},
          "execution_count": 24
        }
      ]
    },
    {
      "cell_type": "code",
      "source": [
        "\n",
        "\n",
        "CG=nx.DiGraph() #the cirriculum graph\n",
        "for i in range(len(k)):\n",
        "  CG.add_node(k[i],attr = ka[k[i]]) #$ add all 85 majors"
      ],
      "metadata": {
        "id": "CFnn9NGFlRXE"
      },
      "execution_count": 26,
      "outputs": []
    },
    {
      "cell_type": "code",
      "source": [
        "v = []\n",
        "for i in range(len(k)):\n",
        "  for j in range(len(k)):\n",
        "    v.append([(k[i],k[j]), 0])\n",
        "\n",
        "print(v)\n",
        "v = dict(v)\n",
        "\n",
        "\n",
        "# v[(\"ANTH\",\"ANTH\")] = 1\n",
        "# print(v[(\"ANTH\",\"ANTH\")])"
      ],
      "metadata": {
        "colab": {
          "base_uri": "https://localhost:8080/"
        },
        "id": "2H0YAjJF56LB",
        "outputId": "7f48ce49-c510-4ff1-cf36-4badb9e3edd4"
      },
      "execution_count": 27,
      "outputs": [
        {
          "output_type": "stream",
          "name": "stdout",
          "text": [
            "[[('SAB', 'SAB'), 0], [('SAB', 'CIED'), 0], [('SAB', 'INTG'), 0], [('SAB', 'MC'), 0], [('SAB', 'ENSC'), 0], [('SAB', 'GRK'), 0], [('SAB', 'EPFR'), 0], [('SAB', 'ART'), 0], [('SAB', 'PHYS'), 0], [('SAB', 'UNIV'), 0], [('SAB', 'PBHE'), 0], [('SAB', 'STAT'), 0], [('SAB', 'HIST'), 0], [('SAB', 'ACS'), 0], [('SAB', 'ARA'), 0], [('SAB', 'HONS'), 0], [('SAB', 'ANTH'), 0], [('SAB', 'ENG'), 0], [('SAB', 'FR'), 0], [('SAB', 'ITAL'), 0], [('SAB', 'NUTR'), 0], [('SAB', 'GEOG'), 0], [('SAB', 'ECE'), 0], [('SAB', 'PROD'), 0], [('SAB', 'ESCI'), 0], [('SAB', 'KIN'), 0], [('SAB', 'CJ'), 0], [('SAB', 'CNST'), 0], [('SAB', 'ECON'), 0], [('SAB', 'WMST'), 0], [('SAB', 'CE'), 0], [('SAB', 'RA'), 0], [('SAB', 'FAC'), 0], [('SAB', 'RUSS'), 0], [('SAB', 'POLS'), 0], [('SAB', 'PAPA'), 0], [('SAB', 'MATH'), 0], [('SAB', 'QR'), 0], [('SAB', 'CS'), 0], [('SAB', 'SPAN'), 0], [('SAB', 'FL'), 0], [('SAB', 'EDUC'), 0], [('SAB', 'NURS'), 0], [('SAB', 'SPPA'), 0], [('SAB', 'SCM'), 0], [('SAB', 'IS'), 0], [('SAB', 'AD'), 0], [('SAB', 'IT'), 0], [('SAB', 'LIBS'), 0], [('SAB', 'OR'), 0], [('SAB', 'CMIS'), 0], [('SAB', 'LAT'), 0], [('SAB', 'CHIN'), 0], [('SAB', 'BIOL'), 0], [('SAB', 'SURV'), 0], [('SAB', 'MS'), 0], [('SAB', 'MSC'), 0], [('SAB', 'FST'), 0], [('SAB', 'CODE'), 0], [('SAB', 'HUM'), 0], [('SAB', 'INTS'), 0], [('SAB', 'CHEM'), 0], [('SAB', 'SPE'), 0], [('SAB', 'MUS'), 0], [('SAB', 'THEA'), 0], [('SAB', 'MKTG'), 0], [('SAB', 'ACCT'), 0], [('SAB', 'MRE'), 0], [('SAB', 'AS'), 0], [('SAB', 'PSYC'), 0], [('SAB', 'FIN'), 0], [('SAB', 'DANC'), 0], [('SAB', 'GER'), 0], [('SAB', 'HED'), 0], [('SAB', 'SCI'), 0], [('SAB', 'PHEL'), 0], [('SAB', 'SOC'), 0], [('SAB', 'EDFD'), 0], [('SAB', 'GBA'), 0], [('SAB', 'PHIL'), 0], [('SAB', 'IE'), 0], [('SAB', 'MGMT'), 0], [('SAB', 'CI'), 0], [('SAB', 'SOCW'), 0], [('SAB', 'ME'), 0], [('CIED', 'SAB'), 0], [('CIED', 'CIED'), 0], [('CIED', 'INTG'), 0], [('CIED', 'MC'), 0], [('CIED', 'ENSC'), 0], [('CIED', 'GRK'), 0], [('CIED', 'EPFR'), 0], [('CIED', 'ART'), 0], [('CIED', 'PHYS'), 0], [('CIED', 'UNIV'), 0], [('CIED', 'PBHE'), 0], [('CIED', 'STAT'), 0], [('CIED', 'HIST'), 0], [('CIED', 'ACS'), 0], [('CIED', 'ARA'), 0], [('CIED', 'HONS'), 0], [('CIED', 'ANTH'), 0], [('CIED', 'ENG'), 0], [('CIED', 'FR'), 0], [('CIED', 'ITAL'), 0], [('CIED', 'NUTR'), 0], [('CIED', 'GEOG'), 0], [('CIED', 'ECE'), 0], [('CIED', 'PROD'), 0], [('CIED', 'ESCI'), 0], [('CIED', 'KIN'), 0], [('CIED', 'CJ'), 0], [('CIED', 'CNST'), 0], [('CIED', 'ECON'), 0], [('CIED', 'WMST'), 0], [('CIED', 'CE'), 0], [('CIED', 'RA'), 0], [('CIED', 'FAC'), 0], [('CIED', 'RUSS'), 0], [('CIED', 'POLS'), 0], [('CIED', 'PAPA'), 0], [('CIED', 'MATH'), 0], [('CIED', 'QR'), 0], [('CIED', 'CS'), 0], [('CIED', 'SPAN'), 0], [('CIED', 'FL'), 0], [('CIED', 'EDUC'), 0], [('CIED', 'NURS'), 0], [('CIED', 'SPPA'), 0], [('CIED', 'SCM'), 0], [('CIED', 'IS'), 0], [('CIED', 'AD'), 0], [('CIED', 'IT'), 0], [('CIED', 'LIBS'), 0], [('CIED', 'OR'), 0], [('CIED', 'CMIS'), 0], [('CIED', 'LAT'), 0], [('CIED', 'CHIN'), 0], [('CIED', 'BIOL'), 0], [('CIED', 'SURV'), 0], [('CIED', 'MS'), 0], [('CIED', 'MSC'), 0], [('CIED', 'FST'), 0], [('CIED', 'CODE'), 0], [('CIED', 'HUM'), 0], [('CIED', 'INTS'), 0], [('CIED', 'CHEM'), 0], [('CIED', 'SPE'), 0], [('CIED', 'MUS'), 0], [('CIED', 'THEA'), 0], [('CIED', 'MKTG'), 0], [('CIED', 'ACCT'), 0], [('CIED', 'MRE'), 0], [('CIED', 'AS'), 0], [('CIED', 'PSYC'), 0], [('CIED', 'FIN'), 0], [('CIED', 'DANC'), 0], [('CIED', 'GER'), 0], [('CIED', 'HED'), 0], [('CIED', 'SCI'), 0], [('CIED', 'PHEL'), 0], [('CIED', 'SOC'), 0], [('CIED', 'EDFD'), 0], [('CIED', 'GBA'), 0], [('CIED', 'PHIL'), 0], [('CIED', 'IE'), 0], [('CIED', 'MGMT'), 0], [('CIED', 'CI'), 0], [('CIED', 'SOCW'), 0], [('CIED', 'ME'), 0], [('INTG', 'SAB'), 0], [('INTG', 'CIED'), 0], [('INTG', 'INTG'), 0], [('INTG', 'MC'), 0], [('INTG', 'ENSC'), 0], [('INTG', 'GRK'), 0], [('INTG', 'EPFR'), 0], [('INTG', 'ART'), 0], [('INTG', 'PHYS'), 0], [('INTG', 'UNIV'), 0], [('INTG', 'PBHE'), 0], [('INTG', 'STAT'), 0], [('INTG', 'HIST'), 0], [('INTG', 'ACS'), 0], [('INTG', 'ARA'), 0], [('INTG', 'HONS'), 0], [('INTG', 'ANTH'), 0], [('INTG', 'ENG'), 0], [('INTG', 'FR'), 0], [('INTG', 'ITAL'), 0], [('INTG', 'NUTR'), 0], [('INTG', 'GEOG'), 0], [('INTG', 'ECE'), 0], [('INTG', 'PROD'), 0], [('INTG', 'ESCI'), 0], [('INTG', 'KIN'), 0], [('INTG', 'CJ'), 0], [('INTG', 'CNST'), 0], [('INTG', 'ECON'), 0], [('INTG', 'WMST'), 0], [('INTG', 'CE'), 0], [('INTG', 'RA'), 0], [('INTG', 'FAC'), 0], [('INTG', 'RUSS'), 0], [('INTG', 'POLS'), 0], [('INTG', 'PAPA'), 0], [('INTG', 'MATH'), 0], [('INTG', 'QR'), 0], [('INTG', 'CS'), 0], [('INTG', 'SPAN'), 0], [('INTG', 'FL'), 0], [('INTG', 'EDUC'), 0], [('INTG', 'NURS'), 0], [('INTG', 'SPPA'), 0], [('INTG', 'SCM'), 0], [('INTG', 'IS'), 0], [('INTG', 'AD'), 0], [('INTG', 'IT'), 0], [('INTG', 'LIBS'), 0], [('INTG', 'OR'), 0], [('INTG', 'CMIS'), 0], [('INTG', 'LAT'), 0], [('INTG', 'CHIN'), 0], [('INTG', 'BIOL'), 0], [('INTG', 'SURV'), 0], [('INTG', 'MS'), 0], [('INTG', 'MSC'), 0], [('INTG', 'FST'), 0], [('INTG', 'CODE'), 0], [('INTG', 'HUM'), 0], [('INTG', 'INTS'), 0], [('INTG', 'CHEM'), 0], [('INTG', 'SPE'), 0], [('INTG', 'MUS'), 0], [('INTG', 'THEA'), 0], [('INTG', 'MKTG'), 0], [('INTG', 'ACCT'), 0], [('INTG', 'MRE'), 0], [('INTG', 'AS'), 0], [('INTG', 'PSYC'), 0], [('INTG', 'FIN'), 0], [('INTG', 'DANC'), 0], [('INTG', 'GER'), 0], [('INTG', 'HED'), 0], [('INTG', 'SCI'), 0], [('INTG', 'PHEL'), 0], [('INTG', 'SOC'), 0], [('INTG', 'EDFD'), 0], [('INTG', 'GBA'), 0], [('INTG', 'PHIL'), 0], [('INTG', 'IE'), 0], [('INTG', 'MGMT'), 0], [('INTG', 'CI'), 0], [('INTG', 'SOCW'), 0], [('INTG', 'ME'), 0], [('MC', 'SAB'), 0], [('MC', 'CIED'), 0], [('MC', 'INTG'), 0], [('MC', 'MC'), 0], [('MC', 'ENSC'), 0], [('MC', 'GRK'), 0], [('MC', 'EPFR'), 0], [('MC', 'ART'), 0], [('MC', 'PHYS'), 0], [('MC', 'UNIV'), 0], [('MC', 'PBHE'), 0], [('MC', 'STAT'), 0], [('MC', 'HIST'), 0], [('MC', 'ACS'), 0], [('MC', 'ARA'), 0], [('MC', 'HONS'), 0], [('MC', 'ANTH'), 0], [('MC', 'ENG'), 0], [('MC', 'FR'), 0], [('MC', 'ITAL'), 0], [('MC', 'NUTR'), 0], [('MC', 'GEOG'), 0], [('MC', 'ECE'), 0], [('MC', 'PROD'), 0], [('MC', 'ESCI'), 0], [('MC', 'KIN'), 0], [('MC', 'CJ'), 0], [('MC', 'CNST'), 0], [('MC', 'ECON'), 0], [('MC', 'WMST'), 0], [('MC', 'CE'), 0], [('MC', 'RA'), 0], [('MC', 'FAC'), 0], [('MC', 'RUSS'), 0], [('MC', 'POLS'), 0], [('MC', 'PAPA'), 0], [('MC', 'MATH'), 0], [('MC', 'QR'), 0], [('MC', 'CS'), 0], [('MC', 'SPAN'), 0], [('MC', 'FL'), 0], [('MC', 'EDUC'), 0], [('MC', 'NURS'), 0], [('MC', 'SPPA'), 0], [('MC', 'SCM'), 0], [('MC', 'IS'), 0], [('MC', 'AD'), 0], [('MC', 'IT'), 0], [('MC', 'LIBS'), 0], [('MC', 'OR'), 0], [('MC', 'CMIS'), 0], [('MC', 'LAT'), 0], [('MC', 'CHIN'), 0], [('MC', 'BIOL'), 0], [('MC', 'SURV'), 0], [('MC', 'MS'), 0], [('MC', 'MSC'), 0], [('MC', 'FST'), 0], [('MC', 'CODE'), 0], [('MC', 'HUM'), 0], [('MC', 'INTS'), 0], [('MC', 'CHEM'), 0], [('MC', 'SPE'), 0], [('MC', 'MUS'), 0], [('MC', 'THEA'), 0], [('MC', 'MKTG'), 0], [('MC', 'ACCT'), 0], [('MC', 'MRE'), 0], [('MC', 'AS'), 0], [('MC', 'PSYC'), 0], [('MC', 'FIN'), 0], [('MC', 'DANC'), 0], [('MC', 'GER'), 0], [('MC', 'HED'), 0], [('MC', 'SCI'), 0], [('MC', 'PHEL'), 0], [('MC', 'SOC'), 0], [('MC', 'EDFD'), 0], [('MC', 'GBA'), 0], [('MC', 'PHIL'), 0], [('MC', 'IE'), 0], [('MC', 'MGMT'), 0], [('MC', 'CI'), 0], [('MC', 'SOCW'), 0], [('MC', 'ME'), 0], [('ENSC', 'SAB'), 0], [('ENSC', 'CIED'), 0], [('ENSC', 'INTG'), 0], [('ENSC', 'MC'), 0], [('ENSC', 'ENSC'), 0], [('ENSC', 'GRK'), 0], [('ENSC', 'EPFR'), 0], [('ENSC', 'ART'), 0], [('ENSC', 'PHYS'), 0], [('ENSC', 'UNIV'), 0], [('ENSC', 'PBHE'), 0], [('ENSC', 'STAT'), 0], [('ENSC', 'HIST'), 0], [('ENSC', 'ACS'), 0], [('ENSC', 'ARA'), 0], [('ENSC', 'HONS'), 0], [('ENSC', 'ANTH'), 0], [('ENSC', 'ENG'), 0], [('ENSC', 'FR'), 0], [('ENSC', 'ITAL'), 0], [('ENSC', 'NUTR'), 0], [('ENSC', 'GEOG'), 0], [('ENSC', 'ECE'), 0], [('ENSC', 'PROD'), 0], [('ENSC', 'ESCI'), 0], [('ENSC', 'KIN'), 0], [('ENSC', 'CJ'), 0], [('ENSC', 'CNST'), 0], [('ENSC', 'ECON'), 0], [('ENSC', 'WMST'), 0], [('ENSC', 'CE'), 0], [('ENSC', 'RA'), 0], [('ENSC', 'FAC'), 0], [('ENSC', 'RUSS'), 0], [('ENSC', 'POLS'), 0], [('ENSC', 'PAPA'), 0], [('ENSC', 'MATH'), 0], [('ENSC', 'QR'), 0], [('ENSC', 'CS'), 0], [('ENSC', 'SPAN'), 0], [('ENSC', 'FL'), 0], [('ENSC', 'EDUC'), 0], [('ENSC', 'NURS'), 0], [('ENSC', 'SPPA'), 0], [('ENSC', 'SCM'), 0], [('ENSC', 'IS'), 0], [('ENSC', 'AD'), 0], [('ENSC', 'IT'), 0], [('ENSC', 'LIBS'), 0], [('ENSC', 'OR'), 0], [('ENSC', 'CMIS'), 0], [('ENSC', 'LAT'), 0], [('ENSC', 'CHIN'), 0], [('ENSC', 'BIOL'), 0], [('ENSC', 'SURV'), 0], [('ENSC', 'MS'), 0], [('ENSC', 'MSC'), 0], [('ENSC', 'FST'), 0], [('ENSC', 'CODE'), 0], [('ENSC', 'HUM'), 0], [('ENSC', 'INTS'), 0], [('ENSC', 'CHEM'), 0], [('ENSC', 'SPE'), 0], [('ENSC', 'MUS'), 0], [('ENSC', 'THEA'), 0], [('ENSC', 'MKTG'), 0], [('ENSC', 'ACCT'), 0], [('ENSC', 'MRE'), 0], [('ENSC', 'AS'), 0], [('ENSC', 'PSYC'), 0], [('ENSC', 'FIN'), 0], [('ENSC', 'DANC'), 0], [('ENSC', 'GER'), 0], [('ENSC', 'HED'), 0], [('ENSC', 'SCI'), 0], [('ENSC', 'PHEL'), 0], [('ENSC', 'SOC'), 0], [('ENSC', 'EDFD'), 0], [('ENSC', 'GBA'), 0], [('ENSC', 'PHIL'), 0], [('ENSC', 'IE'), 0], [('ENSC', 'MGMT'), 0], [('ENSC', 'CI'), 0], [('ENSC', 'SOCW'), 0], [('ENSC', 'ME'), 0], [('GRK', 'SAB'), 0], [('GRK', 'CIED'), 0], [('GRK', 'INTG'), 0], [('GRK', 'MC'), 0], [('GRK', 'ENSC'), 0], [('GRK', 'GRK'), 0], [('GRK', 'EPFR'), 0], [('GRK', 'ART'), 0], [('GRK', 'PHYS'), 0], [('GRK', 'UNIV'), 0], [('GRK', 'PBHE'), 0], [('GRK', 'STAT'), 0], [('GRK', 'HIST'), 0], [('GRK', 'ACS'), 0], [('GRK', 'ARA'), 0], [('GRK', 'HONS'), 0], [('GRK', 'ANTH'), 0], [('GRK', 'ENG'), 0], [('GRK', 'FR'), 0], [('GRK', 'ITAL'), 0], [('GRK', 'NUTR'), 0], [('GRK', 'GEOG'), 0], [('GRK', 'ECE'), 0], [('GRK', 'PROD'), 0], [('GRK', 'ESCI'), 0], [('GRK', 'KIN'), 0], [('GRK', 'CJ'), 0], [('GRK', 'CNST'), 0], [('GRK', 'ECON'), 0], [('GRK', 'WMST'), 0], [('GRK', 'CE'), 0], [('GRK', 'RA'), 0], [('GRK', 'FAC'), 0], [('GRK', 'RUSS'), 0], [('GRK', 'POLS'), 0], [('GRK', 'PAPA'), 0], [('GRK', 'MATH'), 0], [('GRK', 'QR'), 0], [('GRK', 'CS'), 0], [('GRK', 'SPAN'), 0], [('GRK', 'FL'), 0], [('GRK', 'EDUC'), 0], [('GRK', 'NURS'), 0], [('GRK', 'SPPA'), 0], [('GRK', 'SCM'), 0], [('GRK', 'IS'), 0], [('GRK', 'AD'), 0], [('GRK', 'IT'), 0], [('GRK', 'LIBS'), 0], [('GRK', 'OR'), 0], [('GRK', 'CMIS'), 0], [('GRK', 'LAT'), 0], [('GRK', 'CHIN'), 0], [('GRK', 'BIOL'), 0], [('GRK', 'SURV'), 0], [('GRK', 'MS'), 0], [('GRK', 'MSC'), 0], [('GRK', 'FST'), 0], [('GRK', 'CODE'), 0], [('GRK', 'HUM'), 0], [('GRK', 'INTS'), 0], [('GRK', 'CHEM'), 0], [('GRK', 'SPE'), 0], [('GRK', 'MUS'), 0], [('GRK', 'THEA'), 0], [('GRK', 'MKTG'), 0], [('GRK', 'ACCT'), 0], [('GRK', 'MRE'), 0], [('GRK', 'AS'), 0], [('GRK', 'PSYC'), 0], [('GRK', 'FIN'), 0], [('GRK', 'DANC'), 0], [('GRK', 'GER'), 0], [('GRK', 'HED'), 0], [('GRK', 'SCI'), 0], [('GRK', 'PHEL'), 0], [('GRK', 'SOC'), 0], [('GRK', 'EDFD'), 0], [('GRK', 'GBA'), 0], [('GRK', 'PHIL'), 0], [('GRK', 'IE'), 0], [('GRK', 'MGMT'), 0], [('GRK', 'CI'), 0], [('GRK', 'SOCW'), 0], [('GRK', 'ME'), 0], [('EPFR', 'SAB'), 0], [('EPFR', 'CIED'), 0], [('EPFR', 'INTG'), 0], [('EPFR', 'MC'), 0], [('EPFR', 'ENSC'), 0], [('EPFR', 'GRK'), 0], [('EPFR', 'EPFR'), 0], [('EPFR', 'ART'), 0], [('EPFR', 'PHYS'), 0], [('EPFR', 'UNIV'), 0], [('EPFR', 'PBHE'), 0], [('EPFR', 'STAT'), 0], [('EPFR', 'HIST'), 0], [('EPFR', 'ACS'), 0], [('EPFR', 'ARA'), 0], [('EPFR', 'HONS'), 0], [('EPFR', 'ANTH'), 0], [('EPFR', 'ENG'), 0], [('EPFR', 'FR'), 0], [('EPFR', 'ITAL'), 0], [('EPFR', 'NUTR'), 0], [('EPFR', 'GEOG'), 0], [('EPFR', 'ECE'), 0], [('EPFR', 'PROD'), 0], [('EPFR', 'ESCI'), 0], [('EPFR', 'KIN'), 0], [('EPFR', 'CJ'), 0], [('EPFR', 'CNST'), 0], [('EPFR', 'ECON'), 0], [('EPFR', 'WMST'), 0], [('EPFR', 'CE'), 0], [('EPFR', 'RA'), 0], [('EPFR', 'FAC'), 0], [('EPFR', 'RUSS'), 0], [('EPFR', 'POLS'), 0], [('EPFR', 'PAPA'), 0], [('EPFR', 'MATH'), 0], [('EPFR', 'QR'), 0], [('EPFR', 'CS'), 0], [('EPFR', 'SPAN'), 0], [('EPFR', 'FL'), 0], [('EPFR', 'EDUC'), 0], [('EPFR', 'NURS'), 0], [('EPFR', 'SPPA'), 0], [('EPFR', 'SCM'), 0], [('EPFR', 'IS'), 0], [('EPFR', 'AD'), 0], [('EPFR', 'IT'), 0], [('EPFR', 'LIBS'), 0], [('EPFR', 'OR'), 0], [('EPFR', 'CMIS'), 0], [('EPFR', 'LAT'), 0], [('EPFR', 'CHIN'), 0], [('EPFR', 'BIOL'), 0], [('EPFR', 'SURV'), 0], [('EPFR', 'MS'), 0], [('EPFR', 'MSC'), 0], [('EPFR', 'FST'), 0], [('EPFR', 'CODE'), 0], [('EPFR', 'HUM'), 0], [('EPFR', 'INTS'), 0], [('EPFR', 'CHEM'), 0], [('EPFR', 'SPE'), 0], [('EPFR', 'MUS'), 0], [('EPFR', 'THEA'), 0], [('EPFR', 'MKTG'), 0], [('EPFR', 'ACCT'), 0], [('EPFR', 'MRE'), 0], [('EPFR', 'AS'), 0], [('EPFR', 'PSYC'), 0], [('EPFR', 'FIN'), 0], [('EPFR', 'DANC'), 0], [('EPFR', 'GER'), 0], [('EPFR', 'HED'), 0], [('EPFR', 'SCI'), 0], [('EPFR', 'PHEL'), 0], [('EPFR', 'SOC'), 0], [('EPFR', 'EDFD'), 0], [('EPFR', 'GBA'), 0], [('EPFR', 'PHIL'), 0], [('EPFR', 'IE'), 0], [('EPFR', 'MGMT'), 0], [('EPFR', 'CI'), 0], [('EPFR', 'SOCW'), 0], [('EPFR', 'ME'), 0], [('ART', 'SAB'), 0], [('ART', 'CIED'), 0], [('ART', 'INTG'), 0], [('ART', 'MC'), 0], [('ART', 'ENSC'), 0], [('ART', 'GRK'), 0], [('ART', 'EPFR'), 0], [('ART', 'ART'), 0], [('ART', 'PHYS'), 0], [('ART', 'UNIV'), 0], [('ART', 'PBHE'), 0], [('ART', 'STAT'), 0], [('ART', 'HIST'), 0], [('ART', 'ACS'), 0], [('ART', 'ARA'), 0], [('ART', 'HONS'), 0], [('ART', 'ANTH'), 0], [('ART', 'ENG'), 0], [('ART', 'FR'), 0], [('ART', 'ITAL'), 0], [('ART', 'NUTR'), 0], [('ART', 'GEOG'), 0], [('ART', 'ECE'), 0], [('ART', 'PROD'), 0], [('ART', 'ESCI'), 0], [('ART', 'KIN'), 0], [('ART', 'CJ'), 0], [('ART', 'CNST'), 0], [('ART', 'ECON'), 0], [('ART', 'WMST'), 0], [('ART', 'CE'), 0], [('ART', 'RA'), 0], [('ART', 'FAC'), 0], [('ART', 'RUSS'), 0], [('ART', 'POLS'), 0], [('ART', 'PAPA'), 0], [('ART', 'MATH'), 0], [('ART', 'QR'), 0], [('ART', 'CS'), 0], [('ART', 'SPAN'), 0], [('ART', 'FL'), 0], [('ART', 'EDUC'), 0], [('ART', 'NURS'), 0], [('ART', 'SPPA'), 0], [('ART', 'SCM'), 0], [('ART', 'IS'), 0], [('ART', 'AD'), 0], [('ART', 'IT'), 0], [('ART', 'LIBS'), 0], [('ART', 'OR'), 0], [('ART', 'CMIS'), 0], [('ART', 'LAT'), 0], [('ART', 'CHIN'), 0], [('ART', 'BIOL'), 0], [('ART', 'SURV'), 0], [('ART', 'MS'), 0], [('ART', 'MSC'), 0], [('ART', 'FST'), 0], [('ART', 'CODE'), 0], [('ART', 'HUM'), 0], [('ART', 'INTS'), 0], [('ART', 'CHEM'), 0], [('ART', 'SPE'), 0], [('ART', 'MUS'), 0], [('ART', 'THEA'), 0], [('ART', 'MKTG'), 0], [('ART', 'ACCT'), 0], [('ART', 'MRE'), 0], [('ART', 'AS'), 0], [('ART', 'PSYC'), 0], [('ART', 'FIN'), 0], [('ART', 'DANC'), 0], [('ART', 'GER'), 0], [('ART', 'HED'), 0], [('ART', 'SCI'), 0], [('ART', 'PHEL'), 0], [('ART', 'SOC'), 0], [('ART', 'EDFD'), 0], [('ART', 'GBA'), 0], [('ART', 'PHIL'), 0], [('ART', 'IE'), 0], [('ART', 'MGMT'), 0], [('ART', 'CI'), 0], [('ART', 'SOCW'), 0], [('ART', 'ME'), 0], [('PHYS', 'SAB'), 0], [('PHYS', 'CIED'), 0], [('PHYS', 'INTG'), 0], [('PHYS', 'MC'), 0], [('PHYS', 'ENSC'), 0], [('PHYS', 'GRK'), 0], [('PHYS', 'EPFR'), 0], [('PHYS', 'ART'), 0], [('PHYS', 'PHYS'), 0], [('PHYS', 'UNIV'), 0], [('PHYS', 'PBHE'), 0], [('PHYS', 'STAT'), 0], [('PHYS', 'HIST'), 0], [('PHYS', 'ACS'), 0], [('PHYS', 'ARA'), 0], [('PHYS', 'HONS'), 0], [('PHYS', 'ANTH'), 0], [('PHYS', 'ENG'), 0], [('PHYS', 'FR'), 0], [('PHYS', 'ITAL'), 0], [('PHYS', 'NUTR'), 0], [('PHYS', 'GEOG'), 0], [('PHYS', 'ECE'), 0], [('PHYS', 'PROD'), 0], [('PHYS', 'ESCI'), 0], [('PHYS', 'KIN'), 0], [('PHYS', 'CJ'), 0], [('PHYS', 'CNST'), 0], [('PHYS', 'ECON'), 0], [('PHYS', 'WMST'), 0], [('PHYS', 'CE'), 0], [('PHYS', 'RA'), 0], [('PHYS', 'FAC'), 0], [('PHYS', 'RUSS'), 0], [('PHYS', 'POLS'), 0], [('PHYS', 'PAPA'), 0], [('PHYS', 'MATH'), 0], [('PHYS', 'QR'), 0], [('PHYS', 'CS'), 0], [('PHYS', 'SPAN'), 0], [('PHYS', 'FL'), 0], [('PHYS', 'EDUC'), 0], [('PHYS', 'NURS'), 0], [('PHYS', 'SPPA'), 0], [('PHYS', 'SCM'), 0], [('PHYS', 'IS'), 0], [('PHYS', 'AD'), 0], [('PHYS', 'IT'), 0], [('PHYS', 'LIBS'), 0], [('PHYS', 'OR'), 0], [('PHYS', 'CMIS'), 0], [('PHYS', 'LAT'), 0], [('PHYS', 'CHIN'), 0], [('PHYS', 'BIOL'), 0], [('PHYS', 'SURV'), 0], [('PHYS', 'MS'), 0], [('PHYS', 'MSC'), 0], [('PHYS', 'FST'), 0], [('PHYS', 'CODE'), 0], [('PHYS', 'HUM'), 0], [('PHYS', 'INTS'), 0], [('PHYS', 'CHEM'), 0], [('PHYS', 'SPE'), 0], [('PHYS', 'MUS'), 0], [('PHYS', 'THEA'), 0], [('PHYS', 'MKTG'), 0], [('PHYS', 'ACCT'), 0], [('PHYS', 'MRE'), 0], [('PHYS', 'AS'), 0], [('PHYS', 'PSYC'), 0], [('PHYS', 'FIN'), 0], [('PHYS', 'DANC'), 0], [('PHYS', 'GER'), 0], [('PHYS', 'HED'), 0], [('PHYS', 'SCI'), 0], [('PHYS', 'PHEL'), 0], [('PHYS', 'SOC'), 0], [('PHYS', 'EDFD'), 0], [('PHYS', 'GBA'), 0], [('PHYS', 'PHIL'), 0], [('PHYS', 'IE'), 0], [('PHYS', 'MGMT'), 0], [('PHYS', 'CI'), 0], [('PHYS', 'SOCW'), 0], [('PHYS', 'ME'), 0], [('UNIV', 'SAB'), 0], [('UNIV', 'CIED'), 0], [('UNIV', 'INTG'), 0], [('UNIV', 'MC'), 0], [('UNIV', 'ENSC'), 0], [('UNIV', 'GRK'), 0], [('UNIV', 'EPFR'), 0], [('UNIV', 'ART'), 0], [('UNIV', 'PHYS'), 0], [('UNIV', 'UNIV'), 0], [('UNIV', 'PBHE'), 0], [('UNIV', 'STAT'), 0], [('UNIV', 'HIST'), 0], [('UNIV', 'ACS'), 0], [('UNIV', 'ARA'), 0], [('UNIV', 'HONS'), 0], [('UNIV', 'ANTH'), 0], [('UNIV', 'ENG'), 0], [('UNIV', 'FR'), 0], [('UNIV', 'ITAL'), 0], [('UNIV', 'NUTR'), 0], [('UNIV', 'GEOG'), 0], [('UNIV', 'ECE'), 0], [('UNIV', 'PROD'), 0], [('UNIV', 'ESCI'), 0], [('UNIV', 'KIN'), 0], [('UNIV', 'CJ'), 0], [('UNIV', 'CNST'), 0], [('UNIV', 'ECON'), 0], [('UNIV', 'WMST'), 0], [('UNIV', 'CE'), 0], [('UNIV', 'RA'), 0], [('UNIV', 'FAC'), 0], [('UNIV', 'RUSS'), 0], [('UNIV', 'POLS'), 0], [('UNIV', 'PAPA'), 0], [('UNIV', 'MATH'), 0], [('UNIV', 'QR'), 0], [('UNIV', 'CS'), 0], [('UNIV', 'SPAN'), 0], [('UNIV', 'FL'), 0], [('UNIV', 'EDUC'), 0], [('UNIV', 'NURS'), 0], [('UNIV', 'SPPA'), 0], [('UNIV', 'SCM'), 0], [('UNIV', 'IS'), 0], [('UNIV', 'AD'), 0], [('UNIV', 'IT'), 0], [('UNIV', 'LIBS'), 0], [('UNIV', 'OR'), 0], [('UNIV', 'CMIS'), 0], [('UNIV', 'LAT'), 0], [('UNIV', 'CHIN'), 0], [('UNIV', 'BIOL'), 0], [('UNIV', 'SURV'), 0], [('UNIV', 'MS'), 0], [('UNIV', 'MSC'), 0], [('UNIV', 'FST'), 0], [('UNIV', 'CODE'), 0], [('UNIV', 'HUM'), 0], [('UNIV', 'INTS'), 0], [('UNIV', 'CHEM'), 0], [('UNIV', 'SPE'), 0], [('UNIV', 'MUS'), 0], [('UNIV', 'THEA'), 0], [('UNIV', 'MKTG'), 0], [('UNIV', 'ACCT'), 0], [('UNIV', 'MRE'), 0], [('UNIV', 'AS'), 0], [('UNIV', 'PSYC'), 0], [('UNIV', 'FIN'), 0], [('UNIV', 'DANC'), 0], [('UNIV', 'GER'), 0], [('UNIV', 'HED'), 0], [('UNIV', 'SCI'), 0], [('UNIV', 'PHEL'), 0], [('UNIV', 'SOC'), 0], [('UNIV', 'EDFD'), 0], [('UNIV', 'GBA'), 0], [('UNIV', 'PHIL'), 0], [('UNIV', 'IE'), 0], [('UNIV', 'MGMT'), 0], [('UNIV', 'CI'), 0], [('UNIV', 'SOCW'), 0], [('UNIV', 'ME'), 0], [('PBHE', 'SAB'), 0], [('PBHE', 'CIED'), 0], [('PBHE', 'INTG'), 0], [('PBHE', 'MC'), 0], [('PBHE', 'ENSC'), 0], [('PBHE', 'GRK'), 0], [('PBHE', 'EPFR'), 0], [('PBHE', 'ART'), 0], [('PBHE', 'PHYS'), 0], [('PBHE', 'UNIV'), 0], [('PBHE', 'PBHE'), 0], [('PBHE', 'STAT'), 0], [('PBHE', 'HIST'), 0], [('PBHE', 'ACS'), 0], [('PBHE', 'ARA'), 0], [('PBHE', 'HONS'), 0], [('PBHE', 'ANTH'), 0], [('PBHE', 'ENG'), 0], [('PBHE', 'FR'), 0], [('PBHE', 'ITAL'), 0], [('PBHE', 'NUTR'), 0], [('PBHE', 'GEOG'), 0], [('PBHE', 'ECE'), 0], [('PBHE', 'PROD'), 0], [('PBHE', 'ESCI'), 0], [('PBHE', 'KIN'), 0], [('PBHE', 'CJ'), 0], [('PBHE', 'CNST'), 0], [('PBHE', 'ECON'), 0], [('PBHE', 'WMST'), 0], [('PBHE', 'CE'), 0], [('PBHE', 'RA'), 0], [('PBHE', 'FAC'), 0], [('PBHE', 'RUSS'), 0], [('PBHE', 'POLS'), 0], [('PBHE', 'PAPA'), 0], [('PBHE', 'MATH'), 0], [('PBHE', 'QR'), 0], [('PBHE', 'CS'), 0], [('PBHE', 'SPAN'), 0], [('PBHE', 'FL'), 0], [('PBHE', 'EDUC'), 0], [('PBHE', 'NURS'), 0], [('PBHE', 'SPPA'), 0], [('PBHE', 'SCM'), 0], [('PBHE', 'IS'), 0], [('PBHE', 'AD'), 0], [('PBHE', 'IT'), 0], [('PBHE', 'LIBS'), 0], [('PBHE', 'OR'), 0], [('PBHE', 'CMIS'), 0], [('PBHE', 'LAT'), 0], [('PBHE', 'CHIN'), 0], [('PBHE', 'BIOL'), 0], [('PBHE', 'SURV'), 0], [('PBHE', 'MS'), 0], [('PBHE', 'MSC'), 0], [('PBHE', 'FST'), 0], [('PBHE', 'CODE'), 0], [('PBHE', 'HUM'), 0], [('PBHE', 'INTS'), 0], [('PBHE', 'CHEM'), 0], [('PBHE', 'SPE'), 0], [('PBHE', 'MUS'), 0], [('PBHE', 'THEA'), 0], [('PBHE', 'MKTG'), 0], [('PBHE', 'ACCT'), 0], [('PBHE', 'MRE'), 0], [('PBHE', 'AS'), 0], [('PBHE', 'PSYC'), 0], [('PBHE', 'FIN'), 0], [('PBHE', 'DANC'), 0], [('PBHE', 'GER'), 0], [('PBHE', 'HED'), 0], [('PBHE', 'SCI'), 0], [('PBHE', 'PHEL'), 0], [('PBHE', 'SOC'), 0], [('PBHE', 'EDFD'), 0], [('PBHE', 'GBA'), 0], [('PBHE', 'PHIL'), 0], [('PBHE', 'IE'), 0], [('PBHE', 'MGMT'), 0], [('PBHE', 'CI'), 0], [('PBHE', 'SOCW'), 0], [('PBHE', 'ME'), 0], [('STAT', 'SAB'), 0], [('STAT', 'CIED'), 0], [('STAT', 'INTG'), 0], [('STAT', 'MC'), 0], [('STAT', 'ENSC'), 0], [('STAT', 'GRK'), 0], [('STAT', 'EPFR'), 0], [('STAT', 'ART'), 0], [('STAT', 'PHYS'), 0], [('STAT', 'UNIV'), 0], [('STAT', 'PBHE'), 0], [('STAT', 'STAT'), 0], [('STAT', 'HIST'), 0], [('STAT', 'ACS'), 0], [('STAT', 'ARA'), 0], [('STAT', 'HONS'), 0], [('STAT', 'ANTH'), 0], [('STAT', 'ENG'), 0], [('STAT', 'FR'), 0], [('STAT', 'ITAL'), 0], [('STAT', 'NUTR'), 0], [('STAT', 'GEOG'), 0], [('STAT', 'ECE'), 0], [('STAT', 'PROD'), 0], [('STAT', 'ESCI'), 0], [('STAT', 'KIN'), 0], [('STAT', 'CJ'), 0], [('STAT', 'CNST'), 0], [('STAT', 'ECON'), 0], [('STAT', 'WMST'), 0], [('STAT', 'CE'), 0], [('STAT', 'RA'), 0], [('STAT', 'FAC'), 0], [('STAT', 'RUSS'), 0], [('STAT', 'POLS'), 0], [('STAT', 'PAPA'), 0], [('STAT', 'MATH'), 0], [('STAT', 'QR'), 0], [('STAT', 'CS'), 0], [('STAT', 'SPAN'), 0], [('STAT', 'FL'), 0], [('STAT', 'EDUC'), 0], [('STAT', 'NURS'), 0], [('STAT', 'SPPA'), 0], [('STAT', 'SCM'), 0], [('STAT', 'IS'), 0], [('STAT', 'AD'), 0], [('STAT', 'IT'), 0], [('STAT', 'LIBS'), 0], [('STAT', 'OR'), 0], [('STAT', 'CMIS'), 0], [('STAT', 'LAT'), 0], [('STAT', 'CHIN'), 0], [('STAT', 'BIOL'), 0], [('STAT', 'SURV'), 0], [('STAT', 'MS'), 0], [('STAT', 'MSC'), 0], [('STAT', 'FST'), 0], [('STAT', 'CODE'), 0], [('STAT', 'HUM'), 0], [('STAT', 'INTS'), 0], [('STAT', 'CHEM'), 0], [('STAT', 'SPE'), 0], [('STAT', 'MUS'), 0], [('STAT', 'THEA'), 0], [('STAT', 'MKTG'), 0], [('STAT', 'ACCT'), 0], [('STAT', 'MRE'), 0], [('STAT', 'AS'), 0], [('STAT', 'PSYC'), 0], [('STAT', 'FIN'), 0], [('STAT', 'DANC'), 0], [('STAT', 'GER'), 0], [('STAT', 'HED'), 0], [('STAT', 'SCI'), 0], [('STAT', 'PHEL'), 0], [('STAT', 'SOC'), 0], [('STAT', 'EDFD'), 0], [('STAT', 'GBA'), 0], [('STAT', 'PHIL'), 0], [('STAT', 'IE'), 0], [('STAT', 'MGMT'), 0], [('STAT', 'CI'), 0], [('STAT', 'SOCW'), 0], [('STAT', 'ME'), 0], [('HIST', 'SAB'), 0], [('HIST', 'CIED'), 0], [('HIST', 'INTG'), 0], [('HIST', 'MC'), 0], [('HIST', 'ENSC'), 0], [('HIST', 'GRK'), 0], [('HIST', 'EPFR'), 0], [('HIST', 'ART'), 0], [('HIST', 'PHYS'), 0], [('HIST', 'UNIV'), 0], [('HIST', 'PBHE'), 0], [('HIST', 'STAT'), 0], [('HIST', 'HIST'), 0], [('HIST', 'ACS'), 0], [('HIST', 'ARA'), 0], [('HIST', 'HONS'), 0], [('HIST', 'ANTH'), 0], [('HIST', 'ENG'), 0], [('HIST', 'FR'), 0], [('HIST', 'ITAL'), 0], [('HIST', 'NUTR'), 0], [('HIST', 'GEOG'), 0], [('HIST', 'ECE'), 0], [('HIST', 'PROD'), 0], [('HIST', 'ESCI'), 0], [('HIST', 'KIN'), 0], [('HIST', 'CJ'), 0], [('HIST', 'CNST'), 0], [('HIST', 'ECON'), 0], [('HIST', 'WMST'), 0], [('HIST', 'CE'), 0], [('HIST', 'RA'), 0], [('HIST', 'FAC'), 0], [('HIST', 'RUSS'), 0], [('HIST', 'POLS'), 0], [('HIST', 'PAPA'), 0], [('HIST', 'MATH'), 0], [('HIST', 'QR'), 0], [('HIST', 'CS'), 0], [('HIST', 'SPAN'), 0], [('HIST', 'FL'), 0], [('HIST', 'EDUC'), 0], [('HIST', 'NURS'), 0], [('HIST', 'SPPA'), 0], [('HIST', 'SCM'), 0], [('HIST', 'IS'), 0], [('HIST', 'AD'), 0], [('HIST', 'IT'), 0], [('HIST', 'LIBS'), 0], [('HIST', 'OR'), 0], [('HIST', 'CMIS'), 0], [('HIST', 'LAT'), 0], [('HIST', 'CHIN'), 0], [('HIST', 'BIOL'), 0], [('HIST', 'SURV'), 0], [('HIST', 'MS'), 0], [('HIST', 'MSC'), 0], [('HIST', 'FST'), 0], [('HIST', 'CODE'), 0], [('HIST', 'HUM'), 0], [('HIST', 'INTS'), 0], [('HIST', 'CHEM'), 0], [('HIST', 'SPE'), 0], [('HIST', 'MUS'), 0], [('HIST', 'THEA'), 0], [('HIST', 'MKTG'), 0], [('HIST', 'ACCT'), 0], [('HIST', 'MRE'), 0], [('HIST', 'AS'), 0], [('HIST', 'PSYC'), 0], [('HIST', 'FIN'), 0], [('HIST', 'DANC'), 0], [('HIST', 'GER'), 0], [('HIST', 'HED'), 0], [('HIST', 'SCI'), 0], [('HIST', 'PHEL'), 0], [('HIST', 'SOC'), 0], [('HIST', 'EDFD'), 0], [('HIST', 'GBA'), 0], [('HIST', 'PHIL'), 0], [('HIST', 'IE'), 0], [('HIST', 'MGMT'), 0], [('HIST', 'CI'), 0], [('HIST', 'SOCW'), 0], [('HIST', 'ME'), 0], [('ACS', 'SAB'), 0], [('ACS', 'CIED'), 0], [('ACS', 'INTG'), 0], [('ACS', 'MC'), 0], [('ACS', 'ENSC'), 0], [('ACS', 'GRK'), 0], [('ACS', 'EPFR'), 0], [('ACS', 'ART'), 0], [('ACS', 'PHYS'), 0], [('ACS', 'UNIV'), 0], [('ACS', 'PBHE'), 0], [('ACS', 'STAT'), 0], [('ACS', 'HIST'), 0], [('ACS', 'ACS'), 0], [('ACS', 'ARA'), 0], [('ACS', 'HONS'), 0], [('ACS', 'ANTH'), 0], [('ACS', 'ENG'), 0], [('ACS', 'FR'), 0], [('ACS', 'ITAL'), 0], [('ACS', 'NUTR'), 0], [('ACS', 'GEOG'), 0], [('ACS', 'ECE'), 0], [('ACS', 'PROD'), 0], [('ACS', 'ESCI'), 0], [('ACS', 'KIN'), 0], [('ACS', 'CJ'), 0], [('ACS', 'CNST'), 0], [('ACS', 'ECON'), 0], [('ACS', 'WMST'), 0], [('ACS', 'CE'), 0], [('ACS', 'RA'), 0], [('ACS', 'FAC'), 0], [('ACS', 'RUSS'), 0], [('ACS', 'POLS'), 0], [('ACS', 'PAPA'), 0], [('ACS', 'MATH'), 0], [('ACS', 'QR'), 0], [('ACS', 'CS'), 0], [('ACS', 'SPAN'), 0], [('ACS', 'FL'), 0], [('ACS', 'EDUC'), 0], [('ACS', 'NURS'), 0], [('ACS', 'SPPA'), 0], [('ACS', 'SCM'), 0], [('ACS', 'IS'), 0], [('ACS', 'AD'), 0], [('ACS', 'IT'), 0], [('ACS', 'LIBS'), 0], [('ACS', 'OR'), 0], [('ACS', 'CMIS'), 0], [('ACS', 'LAT'), 0], [('ACS', 'CHIN'), 0], [('ACS', 'BIOL'), 0], [('ACS', 'SURV'), 0], [('ACS', 'MS'), 0], [('ACS', 'MSC'), 0], [('ACS', 'FST'), 0], [('ACS', 'CODE'), 0], [('ACS', 'HUM'), 0], [('ACS', 'INTS'), 0], [('ACS', 'CHEM'), 0], [('ACS', 'SPE'), 0], [('ACS', 'MUS'), 0], [('ACS', 'THEA'), 0], [('ACS', 'MKTG'), 0], [('ACS', 'ACCT'), 0], [('ACS', 'MRE'), 0], [('ACS', 'AS'), 0], [('ACS', 'PSYC'), 0], [('ACS', 'FIN'), 0], [('ACS', 'DANC'), 0], [('ACS', 'GER'), 0], [('ACS', 'HED'), 0], [('ACS', 'SCI'), 0], [('ACS', 'PHEL'), 0], [('ACS', 'SOC'), 0], [('ACS', 'EDFD'), 0], [('ACS', 'GBA'), 0], [('ACS', 'PHIL'), 0], [('ACS', 'IE'), 0], [('ACS', 'MGMT'), 0], [('ACS', 'CI'), 0], [('ACS', 'SOCW'), 0], [('ACS', 'ME'), 0], [('ARA', 'SAB'), 0], [('ARA', 'CIED'), 0], [('ARA', 'INTG'), 0], [('ARA', 'MC'), 0], [('ARA', 'ENSC'), 0], [('ARA', 'GRK'), 0], [('ARA', 'EPFR'), 0], [('ARA', 'ART'), 0], [('ARA', 'PHYS'), 0], [('ARA', 'UNIV'), 0], [('ARA', 'PBHE'), 0], [('ARA', 'STAT'), 0], [('ARA', 'HIST'), 0], [('ARA', 'ACS'), 0], [('ARA', 'ARA'), 0], [('ARA', 'HONS'), 0], [('ARA', 'ANTH'), 0], [('ARA', 'ENG'), 0], [('ARA', 'FR'), 0], [('ARA', 'ITAL'), 0], [('ARA', 'NUTR'), 0], [('ARA', 'GEOG'), 0], [('ARA', 'ECE'), 0], [('ARA', 'PROD'), 0], [('ARA', 'ESCI'), 0], [('ARA', 'KIN'), 0], [('ARA', 'CJ'), 0], [('ARA', 'CNST'), 0], [('ARA', 'ECON'), 0], [('ARA', 'WMST'), 0], [('ARA', 'CE'), 0], [('ARA', 'RA'), 0], [('ARA', 'FAC'), 0], [('ARA', 'RUSS'), 0], [('ARA', 'POLS'), 0], [('ARA', 'PAPA'), 0], [('ARA', 'MATH'), 0], [('ARA', 'QR'), 0], [('ARA', 'CS'), 0], [('ARA', 'SPAN'), 0], [('ARA', 'FL'), 0], [('ARA', 'EDUC'), 0], [('ARA', 'NURS'), 0], [('ARA', 'SPPA'), 0], [('ARA', 'SCM'), 0], [('ARA', 'IS'), 0], [('ARA', 'AD'), 0], [('ARA', 'IT'), 0], [('ARA', 'LIBS'), 0], [('ARA', 'OR'), 0], [('ARA', 'CMIS'), 0], [('ARA', 'LAT'), 0], [('ARA', 'CHIN'), 0], [('ARA', 'BIOL'), 0], [('ARA', 'SURV'), 0], [('ARA', 'MS'), 0], [('ARA', 'MSC'), 0], [('ARA', 'FST'), 0], [('ARA', 'CODE'), 0], [('ARA', 'HUM'), 0], [('ARA', 'INTS'), 0], [('ARA', 'CHEM'), 0], [('ARA', 'SPE'), 0], [('ARA', 'MUS'), 0], [('ARA', 'THEA'), 0], [('ARA', 'MKTG'), 0], [('ARA', 'ACCT'), 0], [('ARA', 'MRE'), 0], [('ARA', 'AS'), 0], [('ARA', 'PSYC'), 0], [('ARA', 'FIN'), 0], [('ARA', 'DANC'), 0], [('ARA', 'GER'), 0], [('ARA', 'HED'), 0], [('ARA', 'SCI'), 0], [('ARA', 'PHEL'), 0], [('ARA', 'SOC'), 0], [('ARA', 'EDFD'), 0], [('ARA', 'GBA'), 0], [('ARA', 'PHIL'), 0], [('ARA', 'IE'), 0], [('ARA', 'MGMT'), 0], [('ARA', 'CI'), 0], [('ARA', 'SOCW'), 0], [('ARA', 'ME'), 0], [('HONS', 'SAB'), 0], [('HONS', 'CIED'), 0], [('HONS', 'INTG'), 0], [('HONS', 'MC'), 0], [('HONS', 'ENSC'), 0], [('HONS', 'GRK'), 0], [('HONS', 'EPFR'), 0], [('HONS', 'ART'), 0], [('HONS', 'PHYS'), 0], [('HONS', 'UNIV'), 0], [('HONS', 'PBHE'), 0], [('HONS', 'STAT'), 0], [('HONS', 'HIST'), 0], [('HONS', 'ACS'), 0], [('HONS', 'ARA'), 0], [('HONS', 'HONS'), 0], [('HONS', 'ANTH'), 0], [('HONS', 'ENG'), 0], [('HONS', 'FR'), 0], [('HONS', 'ITAL'), 0], [('HONS', 'NUTR'), 0], [('HONS', 'GEOG'), 0], [('HONS', 'ECE'), 0], [('HONS', 'PROD'), 0], [('HONS', 'ESCI'), 0], [('HONS', 'KIN'), 0], [('HONS', 'CJ'), 0], [('HONS', 'CNST'), 0], [('HONS', 'ECON'), 0], [('HONS', 'WMST'), 0], [('HONS', 'CE'), 0], [('HONS', 'RA'), 0], [('HONS', 'FAC'), 0], [('HONS', 'RUSS'), 0], [('HONS', 'POLS'), 0], [('HONS', 'PAPA'), 0], [('HONS', 'MATH'), 0], [('HONS', 'QR'), 0], [('HONS', 'CS'), 0], [('HONS', 'SPAN'), 0], [('HONS', 'FL'), 0], [('HONS', 'EDUC'), 0], [('HONS', 'NURS'), 0], [('HONS', 'SPPA'), 0], [('HONS', 'SCM'), 0], [('HONS', 'IS'), 0], [('HONS', 'AD'), 0], [('HONS', 'IT'), 0], [('HONS', 'LIBS'), 0], [('HONS', 'OR'), 0], [('HONS', 'CMIS'), 0], [('HONS', 'LAT'), 0], [('HONS', 'CHIN'), 0], [('HONS', 'BIOL'), 0], [('HONS', 'SURV'), 0], [('HONS', 'MS'), 0], [('HONS', 'MSC'), 0], [('HONS', 'FST'), 0], [('HONS', 'CODE'), 0], [('HONS', 'HUM'), 0], [('HONS', 'INTS'), 0], [('HONS', 'CHEM'), 0], [('HONS', 'SPE'), 0], [('HONS', 'MUS'), 0], [('HONS', 'THEA'), 0], [('HONS', 'MKTG'), 0], [('HONS', 'ACCT'), 0], [('HONS', 'MRE'), 0], [('HONS', 'AS'), 0], [('HONS', 'PSYC'), 0], [('HONS', 'FIN'), 0], [('HONS', 'DANC'), 0], [('HONS', 'GER'), 0], [('HONS', 'HED'), 0], [('HONS', 'SCI'), 0], [('HONS', 'PHEL'), 0], [('HONS', 'SOC'), 0], [('HONS', 'EDFD'), 0], [('HONS', 'GBA'), 0], [('HONS', 'PHIL'), 0], [('HONS', 'IE'), 0], [('HONS', 'MGMT'), 0], [('HONS', 'CI'), 0], [('HONS', 'SOCW'), 0], [('HONS', 'ME'), 0], [('ANTH', 'SAB'), 0], [('ANTH', 'CIED'), 0], [('ANTH', 'INTG'), 0], [('ANTH', 'MC'), 0], [('ANTH', 'ENSC'), 0], [('ANTH', 'GRK'), 0], [('ANTH', 'EPFR'), 0], [('ANTH', 'ART'), 0], [('ANTH', 'PHYS'), 0], [('ANTH', 'UNIV'), 0], [('ANTH', 'PBHE'), 0], [('ANTH', 'STAT'), 0], [('ANTH', 'HIST'), 0], [('ANTH', 'ACS'), 0], [('ANTH', 'ARA'), 0], [('ANTH', 'HONS'), 0], [('ANTH', 'ANTH'), 0], [('ANTH', 'ENG'), 0], [('ANTH', 'FR'), 0], [('ANTH', 'ITAL'), 0], [('ANTH', 'NUTR'), 0], [('ANTH', 'GEOG'), 0], [('ANTH', 'ECE'), 0], [('ANTH', 'PROD'), 0], [('ANTH', 'ESCI'), 0], [('ANTH', 'KIN'), 0], [('ANTH', 'CJ'), 0], [('ANTH', 'CNST'), 0], [('ANTH', 'ECON'), 0], [('ANTH', 'WMST'), 0], [('ANTH', 'CE'), 0], [('ANTH', 'RA'), 0], [('ANTH', 'FAC'), 0], [('ANTH', 'RUSS'), 0], [('ANTH', 'POLS'), 0], [('ANTH', 'PAPA'), 0], [('ANTH', 'MATH'), 0], [('ANTH', 'QR'), 0], [('ANTH', 'CS'), 0], [('ANTH', 'SPAN'), 0], [('ANTH', 'FL'), 0], [('ANTH', 'EDUC'), 0], [('ANTH', 'NURS'), 0], [('ANTH', 'SPPA'), 0], [('ANTH', 'SCM'), 0], [('ANTH', 'IS'), 0], [('ANTH', 'AD'), 0], [('ANTH', 'IT'), 0], [('ANTH', 'LIBS'), 0], [('ANTH', 'OR'), 0], [('ANTH', 'CMIS'), 0], [('ANTH', 'LAT'), 0], [('ANTH', 'CHIN'), 0], [('ANTH', 'BIOL'), 0], [('ANTH', 'SURV'), 0], [('ANTH', 'MS'), 0], [('ANTH', 'MSC'), 0], [('ANTH', 'FST'), 0], [('ANTH', 'CODE'), 0], [('ANTH', 'HUM'), 0], [('ANTH', 'INTS'), 0], [('ANTH', 'CHEM'), 0], [('ANTH', 'SPE'), 0], [('ANTH', 'MUS'), 0], [('ANTH', 'THEA'), 0], [('ANTH', 'MKTG'), 0], [('ANTH', 'ACCT'), 0], [('ANTH', 'MRE'), 0], [('ANTH', 'AS'), 0], [('ANTH', 'PSYC'), 0], [('ANTH', 'FIN'), 0], [('ANTH', 'DANC'), 0], [('ANTH', 'GER'), 0], [('ANTH', 'HED'), 0], [('ANTH', 'SCI'), 0], [('ANTH', 'PHEL'), 0], [('ANTH', 'SOC'), 0], [('ANTH', 'EDFD'), 0], [('ANTH', 'GBA'), 0], [('ANTH', 'PHIL'), 0], [('ANTH', 'IE'), 0], [('ANTH', 'MGMT'), 0], [('ANTH', 'CI'), 0], [('ANTH', 'SOCW'), 0], [('ANTH', 'ME'), 0], [('ENG', 'SAB'), 0], [('ENG', 'CIED'), 0], [('ENG', 'INTG'), 0], [('ENG', 'MC'), 0], [('ENG', 'ENSC'), 0], [('ENG', 'GRK'), 0], [('ENG', 'EPFR'), 0], [('ENG', 'ART'), 0], [('ENG', 'PHYS'), 0], [('ENG', 'UNIV'), 0], [('ENG', 'PBHE'), 0], [('ENG', 'STAT'), 0], [('ENG', 'HIST'), 0], [('ENG', 'ACS'), 0], [('ENG', 'ARA'), 0], [('ENG', 'HONS'), 0], [('ENG', 'ANTH'), 0], [('ENG', 'ENG'), 0], [('ENG', 'FR'), 0], [('ENG', 'ITAL'), 0], [('ENG', 'NUTR'), 0], [('ENG', 'GEOG'), 0], [('ENG', 'ECE'), 0], [('ENG', 'PROD'), 0], [('ENG', 'ESCI'), 0], [('ENG', 'KIN'), 0], [('ENG', 'CJ'), 0], [('ENG', 'CNST'), 0], [('ENG', 'ECON'), 0], [('ENG', 'WMST'), 0], [('ENG', 'CE'), 0], [('ENG', 'RA'), 0], [('ENG', 'FAC'), 0], [('ENG', 'RUSS'), 0], [('ENG', 'POLS'), 0], [('ENG', 'PAPA'), 0], [('ENG', 'MATH'), 0], [('ENG', 'QR'), 0], [('ENG', 'CS'), 0], [('ENG', 'SPAN'), 0], [('ENG', 'FL'), 0], [('ENG', 'EDUC'), 0], [('ENG', 'NURS'), 0], [('ENG', 'SPPA'), 0], [('ENG', 'SCM'), 0], [('ENG', 'IS'), 0], [('ENG', 'AD'), 0], [('ENG', 'IT'), 0], [('ENG', 'LIBS'), 0], [('ENG', 'OR'), 0], [('ENG', 'CMIS'), 0], [('ENG', 'LAT'), 0], [('ENG', 'CHIN'), 0], [('ENG', 'BIOL'), 0], [('ENG', 'SURV'), 0], [('ENG', 'MS'), 0], [('ENG', 'MSC'), 0], [('ENG', 'FST'), 0], [('ENG', 'CODE'), 0], [('ENG', 'HUM'), 0], [('ENG', 'INTS'), 0], [('ENG', 'CHEM'), 0], [('ENG', 'SPE'), 0], [('ENG', 'MUS'), 0], [('ENG', 'THEA'), 0], [('ENG', 'MKTG'), 0], [('ENG', 'ACCT'), 0], [('ENG', 'MRE'), 0], [('ENG', 'AS'), 0], [('ENG', 'PSYC'), 0], [('ENG', 'FIN'), 0], [('ENG', 'DANC'), 0], [('ENG', 'GER'), 0], [('ENG', 'HED'), 0], [('ENG', 'SCI'), 0], [('ENG', 'PHEL'), 0], [('ENG', 'SOC'), 0], [('ENG', 'EDFD'), 0], [('ENG', 'GBA'), 0], [('ENG', 'PHIL'), 0], [('ENG', 'IE'), 0], [('ENG', 'MGMT'), 0], [('ENG', 'CI'), 0], [('ENG', 'SOCW'), 0], [('ENG', 'ME'), 0], [('FR', 'SAB'), 0], [('FR', 'CIED'), 0], [('FR', 'INTG'), 0], [('FR', 'MC'), 0], [('FR', 'ENSC'), 0], [('FR', 'GRK'), 0], [('FR', 'EPFR'), 0], [('FR', 'ART'), 0], [('FR', 'PHYS'), 0], [('FR', 'UNIV'), 0], [('FR', 'PBHE'), 0], [('FR', 'STAT'), 0], [('FR', 'HIST'), 0], [('FR', 'ACS'), 0], [('FR', 'ARA'), 0], [('FR', 'HONS'), 0], [('FR', 'ANTH'), 0], [('FR', 'ENG'), 0], [('FR', 'FR'), 0], [('FR', 'ITAL'), 0], [('FR', 'NUTR'), 0], [('FR', 'GEOG'), 0], [('FR', 'ECE'), 0], [('FR', 'PROD'), 0], [('FR', 'ESCI'), 0], [('FR', 'KIN'), 0], [('FR', 'CJ'), 0], [('FR', 'CNST'), 0], [('FR', 'ECON'), 0], [('FR', 'WMST'), 0], [('FR', 'CE'), 0], [('FR', 'RA'), 0], [('FR', 'FAC'), 0], [('FR', 'RUSS'), 0], [('FR', 'POLS'), 0], [('FR', 'PAPA'), 0], [('FR', 'MATH'), 0], [('FR', 'QR'), 0], [('FR', 'CS'), 0], [('FR', 'SPAN'), 0], [('FR', 'FL'), 0], [('FR', 'EDUC'), 0], [('FR', 'NURS'), 0], [('FR', 'SPPA'), 0], [('FR', 'SCM'), 0], [('FR', 'IS'), 0], [('FR', 'AD'), 0], [('FR', 'IT'), 0], [('FR', 'LIBS'), 0], [('FR', 'OR'), 0], [('FR', 'CMIS'), 0], [('FR', 'LAT'), 0], [('FR', 'CHIN'), 0], [('FR', 'BIOL'), 0], [('FR', 'SURV'), 0], [('FR', 'MS'), 0], [('FR', 'MSC'), 0], [('FR', 'FST'), 0], [('FR', 'CODE'), 0], [('FR', 'HUM'), 0], [('FR', 'INTS'), 0], [('FR', 'CHEM'), 0], [('FR', 'SPE'), 0], [('FR', 'MUS'), 0], [('FR', 'THEA'), 0], [('FR', 'MKTG'), 0], [('FR', 'ACCT'), 0], [('FR', 'MRE'), 0], [('FR', 'AS'), 0], [('FR', 'PSYC'), 0], [('FR', 'FIN'), 0], [('FR', 'DANC'), 0], [('FR', 'GER'), 0], [('FR', 'HED'), 0], [('FR', 'SCI'), 0], [('FR', 'PHEL'), 0], [('FR', 'SOC'), 0], [('FR', 'EDFD'), 0], [('FR', 'GBA'), 0], [('FR', 'PHIL'), 0], [('FR', 'IE'), 0], [('FR', 'MGMT'), 0], [('FR', 'CI'), 0], [('FR', 'SOCW'), 0], [('FR', 'ME'), 0], [('ITAL', 'SAB'), 0], [('ITAL', 'CIED'), 0], [('ITAL', 'INTG'), 0], [('ITAL', 'MC'), 0], [('ITAL', 'ENSC'), 0], [('ITAL', 'GRK'), 0], [('ITAL', 'EPFR'), 0], [('ITAL', 'ART'), 0], [('ITAL', 'PHYS'), 0], [('ITAL', 'UNIV'), 0], [('ITAL', 'PBHE'), 0], [('ITAL', 'STAT'), 0], [('ITAL', 'HIST'), 0], [('ITAL', 'ACS'), 0], [('ITAL', 'ARA'), 0], [('ITAL', 'HONS'), 0], [('ITAL', 'ANTH'), 0], [('ITAL', 'ENG'), 0], [('ITAL', 'FR'), 0], [('ITAL', 'ITAL'), 0], [('ITAL', 'NUTR'), 0], [('ITAL', 'GEOG'), 0], [('ITAL', 'ECE'), 0], [('ITAL', 'PROD'), 0], [('ITAL', 'ESCI'), 0], [('ITAL', 'KIN'), 0], [('ITAL', 'CJ'), 0], [('ITAL', 'CNST'), 0], [('ITAL', 'ECON'), 0], [('ITAL', 'WMST'), 0], [('ITAL', 'CE'), 0], [('ITAL', 'RA'), 0], [('ITAL', 'FAC'), 0], [('ITAL', 'RUSS'), 0], [('ITAL', 'POLS'), 0], [('ITAL', 'PAPA'), 0], [('ITAL', 'MATH'), 0], [('ITAL', 'QR'), 0], [('ITAL', 'CS'), 0], [('ITAL', 'SPAN'), 0], [('ITAL', 'FL'), 0], [('ITAL', 'EDUC'), 0], [('ITAL', 'NURS'), 0], [('ITAL', 'SPPA'), 0], [('ITAL', 'SCM'), 0], [('ITAL', 'IS'), 0], [('ITAL', 'AD'), 0], [('ITAL', 'IT'), 0], [('ITAL', 'LIBS'), 0], [('ITAL', 'OR'), 0], [('ITAL', 'CMIS'), 0], [('ITAL', 'LAT'), 0], [('ITAL', 'CHIN'), 0], [('ITAL', 'BIOL'), 0], [('ITAL', 'SURV'), 0], [('ITAL', 'MS'), 0], [('ITAL', 'MSC'), 0], [('ITAL', 'FST'), 0], [('ITAL', 'CODE'), 0], [('ITAL', 'HUM'), 0], [('ITAL', 'INTS'), 0], [('ITAL', 'CHEM'), 0], [('ITAL', 'SPE'), 0], [('ITAL', 'MUS'), 0], [('ITAL', 'THEA'), 0], [('ITAL', 'MKTG'), 0], [('ITAL', 'ACCT'), 0], [('ITAL', 'MRE'), 0], [('ITAL', 'AS'), 0], [('ITAL', 'PSYC'), 0], [('ITAL', 'FIN'), 0], [('ITAL', 'DANC'), 0], [('ITAL', 'GER'), 0], [('ITAL', 'HED'), 0], [('ITAL', 'SCI'), 0], [('ITAL', 'PHEL'), 0], [('ITAL', 'SOC'), 0], [('ITAL', 'EDFD'), 0], [('ITAL', 'GBA'), 0], [('ITAL', 'PHIL'), 0], [('ITAL', 'IE'), 0], [('ITAL', 'MGMT'), 0], [('ITAL', 'CI'), 0], [('ITAL', 'SOCW'), 0], [('ITAL', 'ME'), 0], [('NUTR', 'SAB'), 0], [('NUTR', 'CIED'), 0], [('NUTR', 'INTG'), 0], [('NUTR', 'MC'), 0], [('NUTR', 'ENSC'), 0], [('NUTR', 'GRK'), 0], [('NUTR', 'EPFR'), 0], [('NUTR', 'ART'), 0], [('NUTR', 'PHYS'), 0], [('NUTR', 'UNIV'), 0], [('NUTR', 'PBHE'), 0], [('NUTR', 'STAT'), 0], [('NUTR', 'HIST'), 0], [('NUTR', 'ACS'), 0], [('NUTR', 'ARA'), 0], [('NUTR', 'HONS'), 0], [('NUTR', 'ANTH'), 0], [('NUTR', 'ENG'), 0], [('NUTR', 'FR'), 0], [('NUTR', 'ITAL'), 0], [('NUTR', 'NUTR'), 0], [('NUTR', 'GEOG'), 0], [('NUTR', 'ECE'), 0], [('NUTR', 'PROD'), 0], [('NUTR', 'ESCI'), 0], [('NUTR', 'KIN'), 0], [('NUTR', 'CJ'), 0], [('NUTR', 'CNST'), 0], [('NUTR', 'ECON'), 0], [('NUTR', 'WMST'), 0], [('NUTR', 'CE'), 0], [('NUTR', 'RA'), 0], [('NUTR', 'FAC'), 0], [('NUTR', 'RUSS'), 0], [('NUTR', 'POLS'), 0], [('NUTR', 'PAPA'), 0], [('NUTR', 'MATH'), 0], [('NUTR', 'QR'), 0], [('NUTR', 'CS'), 0], [('NUTR', 'SPAN'), 0], [('NUTR', 'FL'), 0], [('NUTR', 'EDUC'), 0], [('NUTR', 'NURS'), 0], [('NUTR', 'SPPA'), 0], [('NUTR', 'SCM'), 0], [('NUTR', 'IS'), 0], [('NUTR', 'AD'), 0], [('NUTR', 'IT'), 0], [('NUTR', 'LIBS'), 0], [('NUTR', 'OR'), 0], [('NUTR', 'CMIS'), 0], [('NUTR', 'LAT'), 0], [('NUTR', 'CHIN'), 0], [('NUTR', 'BIOL'), 0], [('NUTR', 'SURV'), 0], [('NUTR', 'MS'), 0], [('NUTR', 'MSC'), 0], [('NUTR', 'FST'), 0], [('NUTR', 'CODE'), 0], [('NUTR', 'HUM'), 0], [('NUTR', 'INTS'), 0], [('NUTR', 'CHEM'), 0], [('NUTR', 'SPE'), 0], [('NUTR', 'MUS'), 0], [('NUTR', 'THEA'), 0], [('NUTR', 'MKTG'), 0], [('NUTR', 'ACCT'), 0], [('NUTR', 'MRE'), 0], [('NUTR', 'AS'), 0], [('NUTR', 'PSYC'), 0], [('NUTR', 'FIN'), 0], [('NUTR', 'DANC'), 0], [('NUTR', 'GER'), 0], [('NUTR', 'HED'), 0], [('NUTR', 'SCI'), 0], [('NUTR', 'PHEL'), 0], [('NUTR', 'SOC'), 0], [('NUTR', 'EDFD'), 0], [('NUTR', 'GBA'), 0], [('NUTR', 'PHIL'), 0], [('NUTR', 'IE'), 0], [('NUTR', 'MGMT'), 0], [('NUTR', 'CI'), 0], [('NUTR', 'SOCW'), 0], [('NUTR', 'ME'), 0], [('GEOG', 'SAB'), 0], [('GEOG', 'CIED'), 0], [('GEOG', 'INTG'), 0], [('GEOG', 'MC'), 0], [('GEOG', 'ENSC'), 0], [('GEOG', 'GRK'), 0], [('GEOG', 'EPFR'), 0], [('GEOG', 'ART'), 0], [('GEOG', 'PHYS'), 0], [('GEOG', 'UNIV'), 0], [('GEOG', 'PBHE'), 0], [('GEOG', 'STAT'), 0], [('GEOG', 'HIST'), 0], [('GEOG', 'ACS'), 0], [('GEOG', 'ARA'), 0], [('GEOG', 'HONS'), 0], [('GEOG', 'ANTH'), 0], [('GEOG', 'ENG'), 0], [('GEOG', 'FR'), 0], [('GEOG', 'ITAL'), 0], [('GEOG', 'NUTR'), 0], [('GEOG', 'GEOG'), 0], [('GEOG', 'ECE'), 0], [('GEOG', 'PROD'), 0], [('GEOG', 'ESCI'), 0], [('GEOG', 'KIN'), 0], [('GEOG', 'CJ'), 0], [('GEOG', 'CNST'), 0], [('GEOG', 'ECON'), 0], [('GEOG', 'WMST'), 0], [('GEOG', 'CE'), 0], [('GEOG', 'RA'), 0], [('GEOG', 'FAC'), 0], [('GEOG', 'RUSS'), 0], [('GEOG', 'POLS'), 0], [('GEOG', 'PAPA'), 0], [('GEOG', 'MATH'), 0], [('GEOG', 'QR'), 0], [('GEOG', 'CS'), 0], [('GEOG', 'SPAN'), 0], [('GEOG', 'FL'), 0], [('GEOG', 'EDUC'), 0], [('GEOG', 'NURS'), 0], [('GEOG', 'SPPA'), 0], [('GEOG', 'SCM'), 0], [('GEOG', 'IS'), 0], [('GEOG', 'AD'), 0], [('GEOG', 'IT'), 0], [('GEOG', 'LIBS'), 0], [('GEOG', 'OR'), 0], [('GEOG', 'CMIS'), 0], [('GEOG', 'LAT'), 0], [('GEOG', 'CHIN'), 0], [('GEOG', 'BIOL'), 0], [('GEOG', 'SURV'), 0], [('GEOG', 'MS'), 0], [('GEOG', 'MSC'), 0], [('GEOG', 'FST'), 0], [('GEOG', 'CODE'), 0], [('GEOG', 'HUM'), 0], [('GEOG', 'INTS'), 0], [('GEOG', 'CHEM'), 0], [('GEOG', 'SPE'), 0], [('GEOG', 'MUS'), 0], [('GEOG', 'THEA'), 0], [('GEOG', 'MKTG'), 0], [('GEOG', 'ACCT'), 0], [('GEOG', 'MRE'), 0], [('GEOG', 'AS'), 0], [('GEOG', 'PSYC'), 0], [('GEOG', 'FIN'), 0], [('GEOG', 'DANC'), 0], [('GEOG', 'GER'), 0], [('GEOG', 'HED'), 0], [('GEOG', 'SCI'), 0], [('GEOG', 'PHEL'), 0], [('GEOG', 'SOC'), 0], [('GEOG', 'EDFD'), 0], [('GEOG', 'GBA'), 0], [('GEOG', 'PHIL'), 0], [('GEOG', 'IE'), 0], [('GEOG', 'MGMT'), 0], [('GEOG', 'CI'), 0], [('GEOG', 'SOCW'), 0], [('GEOG', 'ME'), 0], [('ECE', 'SAB'), 0], [('ECE', 'CIED'), 0], [('ECE', 'INTG'), 0], [('ECE', 'MC'), 0], [('ECE', 'ENSC'), 0], [('ECE', 'GRK'), 0], [('ECE', 'EPFR'), 0], [('ECE', 'ART'), 0], [('ECE', 'PHYS'), 0], [('ECE', 'UNIV'), 0], [('ECE', 'PBHE'), 0], [('ECE', 'STAT'), 0], [('ECE', 'HIST'), 0], [('ECE', 'ACS'), 0], [('ECE', 'ARA'), 0], [('ECE', 'HONS'), 0], [('ECE', 'ANTH'), 0], [('ECE', 'ENG'), 0], [('ECE', 'FR'), 0], [('ECE', 'ITAL'), 0], [('ECE', 'NUTR'), 0], [('ECE', 'GEOG'), 0], [('ECE', 'ECE'), 0], [('ECE', 'PROD'), 0], [('ECE', 'ESCI'), 0], [('ECE', 'KIN'), 0], [('ECE', 'CJ'), 0], [('ECE', 'CNST'), 0], [('ECE', 'ECON'), 0], [('ECE', 'WMST'), 0], [('ECE', 'CE'), 0], [('ECE', 'RA'), 0], [('ECE', 'FAC'), 0], [('ECE', 'RUSS'), 0], [('ECE', 'POLS'), 0], [('ECE', 'PAPA'), 0], [('ECE', 'MATH'), 0], [('ECE', 'QR'), 0], [('ECE', 'CS'), 0], [('ECE', 'SPAN'), 0], [('ECE', 'FL'), 0], [('ECE', 'EDUC'), 0], [('ECE', 'NURS'), 0], [('ECE', 'SPPA'), 0], [('ECE', 'SCM'), 0], [('ECE', 'IS'), 0], [('ECE', 'AD'), 0], [('ECE', 'IT'), 0], [('ECE', 'LIBS'), 0], [('ECE', 'OR'), 0], [('ECE', 'CMIS'), 0], [('ECE', 'LAT'), 0], [('ECE', 'CHIN'), 0], [('ECE', 'BIOL'), 0], [('ECE', 'SURV'), 0], [('ECE', 'MS'), 0], [('ECE', 'MSC'), 0], [('ECE', 'FST'), 0], [('ECE', 'CODE'), 0], [('ECE', 'HUM'), 0], [('ECE', 'INTS'), 0], [('ECE', 'CHEM'), 0], [('ECE', 'SPE'), 0], [('ECE', 'MUS'), 0], [('ECE', 'THEA'), 0], [('ECE', 'MKTG'), 0], [('ECE', 'ACCT'), 0], [('ECE', 'MRE'), 0], [('ECE', 'AS'), 0], [('ECE', 'PSYC'), 0], [('ECE', 'FIN'), 0], [('ECE', 'DANC'), 0], [('ECE', 'GER'), 0], [('ECE', 'HED'), 0], [('ECE', 'SCI'), 0], [('ECE', 'PHEL'), 0], [('ECE', 'SOC'), 0], [('ECE', 'EDFD'), 0], [('ECE', 'GBA'), 0], [('ECE', 'PHIL'), 0], [('ECE', 'IE'), 0], [('ECE', 'MGMT'), 0], [('ECE', 'CI'), 0], [('ECE', 'SOCW'), 0], [('ECE', 'ME'), 0], [('PROD', 'SAB'), 0], [('PROD', 'CIED'), 0], [('PROD', 'INTG'), 0], [('PROD', 'MC'), 0], [('PROD', 'ENSC'), 0], [('PROD', 'GRK'), 0], [('PROD', 'EPFR'), 0], [('PROD', 'ART'), 0], [('PROD', 'PHYS'), 0], [('PROD', 'UNIV'), 0], [('PROD', 'PBHE'), 0], [('PROD', 'STAT'), 0], [('PROD', 'HIST'), 0], [('PROD', 'ACS'), 0], [('PROD', 'ARA'), 0], [('PROD', 'HONS'), 0], [('PROD', 'ANTH'), 0], [('PROD', 'ENG'), 0], [('PROD', 'FR'), 0], [('PROD', 'ITAL'), 0], [('PROD', 'NUTR'), 0], [('PROD', 'GEOG'), 0], [('PROD', 'ECE'), 0], [('PROD', 'PROD'), 0], [('PROD', 'ESCI'), 0], [('PROD', 'KIN'), 0], [('PROD', 'CJ'), 0], [('PROD', 'CNST'), 0], [('PROD', 'ECON'), 0], [('PROD', 'WMST'), 0], [('PROD', 'CE'), 0], [('PROD', 'RA'), 0], [('PROD', 'FAC'), 0], [('PROD', 'RUSS'), 0], [('PROD', 'POLS'), 0], [('PROD', 'PAPA'), 0], [('PROD', 'MATH'), 0], [('PROD', 'QR'), 0], [('PROD', 'CS'), 0], [('PROD', 'SPAN'), 0], [('PROD', 'FL'), 0], [('PROD', 'EDUC'), 0], [('PROD', 'NURS'), 0], [('PROD', 'SPPA'), 0], [('PROD', 'SCM'), 0], [('PROD', 'IS'), 0], [('PROD', 'AD'), 0], [('PROD', 'IT'), 0], [('PROD', 'LIBS'), 0], [('PROD', 'OR'), 0], [('PROD', 'CMIS'), 0], [('PROD', 'LAT'), 0], [('PROD', 'CHIN'), 0], [('PROD', 'BIOL'), 0], [('PROD', 'SURV'), 0], [('PROD', 'MS'), 0], [('PROD', 'MSC'), 0], [('PROD', 'FST'), 0], [('PROD', 'CODE'), 0], [('PROD', 'HUM'), 0], [('PROD', 'INTS'), 0], [('PROD', 'CHEM'), 0], [('PROD', 'SPE'), 0], [('PROD', 'MUS'), 0], [('PROD', 'THEA'), 0], [('PROD', 'MKTG'), 0], [('PROD', 'ACCT'), 0], [('PROD', 'MRE'), 0], [('PROD', 'AS'), 0], [('PROD', 'PSYC'), 0], [('PROD', 'FIN'), 0], [('PROD', 'DANC'), 0], [('PROD', 'GER'), 0], [('PROD', 'HED'), 0], [('PROD', 'SCI'), 0], [('PROD', 'PHEL'), 0], [('PROD', 'SOC'), 0], [('PROD', 'EDFD'), 0], [('PROD', 'GBA'), 0], [('PROD', 'PHIL'), 0], [('PROD', 'IE'), 0], [('PROD', 'MGMT'), 0], [('PROD', 'CI'), 0], [('PROD', 'SOCW'), 0], [('PROD', 'ME'), 0], [('ESCI', 'SAB'), 0], [('ESCI', 'CIED'), 0], [('ESCI', 'INTG'), 0], [('ESCI', 'MC'), 0], [('ESCI', 'ENSC'), 0], [('ESCI', 'GRK'), 0], [('ESCI', 'EPFR'), 0], [('ESCI', 'ART'), 0], [('ESCI', 'PHYS'), 0], [('ESCI', 'UNIV'), 0], [('ESCI', 'PBHE'), 0], [('ESCI', 'STAT'), 0], [('ESCI', 'HIST'), 0], [('ESCI', 'ACS'), 0], [('ESCI', 'ARA'), 0], [('ESCI', 'HONS'), 0], [('ESCI', 'ANTH'), 0], [('ESCI', 'ENG'), 0], [('ESCI', 'FR'), 0], [('ESCI', 'ITAL'), 0], [('ESCI', 'NUTR'), 0], [('ESCI', 'GEOG'), 0], [('ESCI', 'ECE'), 0], [('ESCI', 'PROD'), 0], [('ESCI', 'ESCI'), 0], [('ESCI', 'KIN'), 0], [('ESCI', 'CJ'), 0], [('ESCI', 'CNST'), 0], [('ESCI', 'ECON'), 0], [('ESCI', 'WMST'), 0], [('ESCI', 'CE'), 0], [('ESCI', 'RA'), 0], [('ESCI', 'FAC'), 0], [('ESCI', 'RUSS'), 0], [('ESCI', 'POLS'), 0], [('ESCI', 'PAPA'), 0], [('ESCI', 'MATH'), 0], [('ESCI', 'QR'), 0], [('ESCI', 'CS'), 0], [('ESCI', 'SPAN'), 0], [('ESCI', 'FL'), 0], [('ESCI', 'EDUC'), 0], [('ESCI', 'NURS'), 0], [('ESCI', 'SPPA'), 0], [('ESCI', 'SCM'), 0], [('ESCI', 'IS'), 0], [('ESCI', 'AD'), 0], [('ESCI', 'IT'), 0], [('ESCI', 'LIBS'), 0], [('ESCI', 'OR'), 0], [('ESCI', 'CMIS'), 0], [('ESCI', 'LAT'), 0], [('ESCI', 'CHIN'), 0], [('ESCI', 'BIOL'), 0], [('ESCI', 'SURV'), 0], [('ESCI', 'MS'), 0], [('ESCI', 'MSC'), 0], [('ESCI', 'FST'), 0], [('ESCI', 'CODE'), 0], [('ESCI', 'HUM'), 0], [('ESCI', 'INTS'), 0], [('ESCI', 'CHEM'), 0], [('ESCI', 'SPE'), 0], [('ESCI', 'MUS'), 0], [('ESCI', 'THEA'), 0], [('ESCI', 'MKTG'), 0], [('ESCI', 'ACCT'), 0], [('ESCI', 'MRE'), 0], [('ESCI', 'AS'), 0], [('ESCI', 'PSYC'), 0], [('ESCI', 'FIN'), 0], [('ESCI', 'DANC'), 0], [('ESCI', 'GER'), 0], [('ESCI', 'HED'), 0], [('ESCI', 'SCI'), 0], [('ESCI', 'PHEL'), 0], [('ESCI', 'SOC'), 0], [('ESCI', 'EDFD'), 0], [('ESCI', 'GBA'), 0], [('ESCI', 'PHIL'), 0], [('ESCI', 'IE'), 0], [('ESCI', 'MGMT'), 0], [('ESCI', 'CI'), 0], [('ESCI', 'SOCW'), 0], [('ESCI', 'ME'), 0], [('KIN', 'SAB'), 0], [('KIN', 'CIED'), 0], [('KIN', 'INTG'), 0], [('KIN', 'MC'), 0], [('KIN', 'ENSC'), 0], [('KIN', 'GRK'), 0], [('KIN', 'EPFR'), 0], [('KIN', 'ART'), 0], [('KIN', 'PHYS'), 0], [('KIN', 'UNIV'), 0], [('KIN', 'PBHE'), 0], [('KIN', 'STAT'), 0], [('KIN', 'HIST'), 0], [('KIN', 'ACS'), 0], [('KIN', 'ARA'), 0], [('KIN', 'HONS'), 0], [('KIN', 'ANTH'), 0], [('KIN', 'ENG'), 0], [('KIN', 'FR'), 0], [('KIN', 'ITAL'), 0], [('KIN', 'NUTR'), 0], [('KIN', 'GEOG'), 0], [('KIN', 'ECE'), 0], [('KIN', 'PROD'), 0], [('KIN', 'ESCI'), 0], [('KIN', 'KIN'), 0], [('KIN', 'CJ'), 0], [('KIN', 'CNST'), 0], [('KIN', 'ECON'), 0], [('KIN', 'WMST'), 0], [('KIN', 'CE'), 0], [('KIN', 'RA'), 0], [('KIN', 'FAC'), 0], [('KIN', 'RUSS'), 0], [('KIN', 'POLS'), 0], [('KIN', 'PAPA'), 0], [('KIN', 'MATH'), 0], [('KIN', 'QR'), 0], [('KIN', 'CS'), 0], [('KIN', 'SPAN'), 0], [('KIN', 'FL'), 0], [('KIN', 'EDUC'), 0], [('KIN', 'NURS'), 0], [('KIN', 'SPPA'), 0], [('KIN', 'SCM'), 0], [('KIN', 'IS'), 0], [('KIN', 'AD'), 0], [('KIN', 'IT'), 0], [('KIN', 'LIBS'), 0], [('KIN', 'OR'), 0], [('KIN', 'CMIS'), 0], [('KIN', 'LAT'), 0], [('KIN', 'CHIN'), 0], [('KIN', 'BIOL'), 0], [('KIN', 'SURV'), 0], [('KIN', 'MS'), 0], [('KIN', 'MSC'), 0], [('KIN', 'FST'), 0], [('KIN', 'CODE'), 0], [('KIN', 'HUM'), 0], [('KIN', 'INTS'), 0], [('KIN', 'CHEM'), 0], [('KIN', 'SPE'), 0], [('KIN', 'MUS'), 0], [('KIN', 'THEA'), 0], [('KIN', 'MKTG'), 0], [('KIN', 'ACCT'), 0], [('KIN', 'MRE'), 0], [('KIN', 'AS'), 0], [('KIN', 'PSYC'), 0], [('KIN', 'FIN'), 0], [('KIN', 'DANC'), 0], [('KIN', 'GER'), 0], [('KIN', 'HED'), 0], [('KIN', 'SCI'), 0], [('KIN', 'PHEL'), 0], [('KIN', 'SOC'), 0], [('KIN', 'EDFD'), 0], [('KIN', 'GBA'), 0], [('KIN', 'PHIL'), 0], [('KIN', 'IE'), 0], [('KIN', 'MGMT'), 0], [('KIN', 'CI'), 0], [('KIN', 'SOCW'), 0], [('KIN', 'ME'), 0], [('CJ', 'SAB'), 0], [('CJ', 'CIED'), 0], [('CJ', 'INTG'), 0], [('CJ', 'MC'), 0], [('CJ', 'ENSC'), 0], [('CJ', 'GRK'), 0], [('CJ', 'EPFR'), 0], [('CJ', 'ART'), 0], [('CJ', 'PHYS'), 0], [('CJ', 'UNIV'), 0], [('CJ', 'PBHE'), 0], [('CJ', 'STAT'), 0], [('CJ', 'HIST'), 0], [('CJ', 'ACS'), 0], [('CJ', 'ARA'), 0], [('CJ', 'HONS'), 0], [('CJ', 'ANTH'), 0], [('CJ', 'ENG'), 0], [('CJ', 'FR'), 0], [('CJ', 'ITAL'), 0], [('CJ', 'NUTR'), 0], [('CJ', 'GEOG'), 0], [('CJ', 'ECE'), 0], [('CJ', 'PROD'), 0], [('CJ', 'ESCI'), 0], [('CJ', 'KIN'), 0], [('CJ', 'CJ'), 0], [('CJ', 'CNST'), 0], [('CJ', 'ECON'), 0], [('CJ', 'WMST'), 0], [('CJ', 'CE'), 0], [('CJ', 'RA'), 0], [('CJ', 'FAC'), 0], [('CJ', 'RUSS'), 0], [('CJ', 'POLS'), 0], [('CJ', 'PAPA'), 0], [('CJ', 'MATH'), 0], [('CJ', 'QR'), 0], [('CJ', 'CS'), 0], [('CJ', 'SPAN'), 0], [('CJ', 'FL'), 0], [('CJ', 'EDUC'), 0], [('CJ', 'NURS'), 0], [('CJ', 'SPPA'), 0], [('CJ', 'SCM'), 0], [('CJ', 'IS'), 0], [('CJ', 'AD'), 0], [('CJ', 'IT'), 0], [('CJ', 'LIBS'), 0], [('CJ', 'OR'), 0], [('CJ', 'CMIS'), 0], [('CJ', 'LAT'), 0], [('CJ', 'CHIN'), 0], [('CJ', 'BIOL'), 0], [('CJ', 'SURV'), 0], [('CJ', 'MS'), 0], [('CJ', 'MSC'), 0], [('CJ', 'FST'), 0], [('CJ', 'CODE'), 0], [('CJ', 'HUM'), 0], [('CJ', 'INTS'), 0], [('CJ', 'CHEM'), 0], [('CJ', 'SPE'), 0], [('CJ', 'MUS'), 0], [('CJ', 'THEA'), 0], [('CJ', 'MKTG'), 0], [('CJ', 'ACCT'), 0], [('CJ', 'MRE'), 0], [('CJ', 'AS'), 0], [('CJ', 'PSYC'), 0], [('CJ', 'FIN'), 0], [('CJ', 'DANC'), 0], [('CJ', 'GER'), 0], [('CJ', 'HED'), 0], [('CJ', 'SCI'), 0], [('CJ', 'PHEL'), 0], [('CJ', 'SOC'), 0], [('CJ', 'EDFD'), 0], [('CJ', 'GBA'), 0], [('CJ', 'PHIL'), 0], [('CJ', 'IE'), 0], [('CJ', 'MGMT'), 0], [('CJ', 'CI'), 0], [('CJ', 'SOCW'), 0], [('CJ', 'ME'), 0], [('CNST', 'SAB'), 0], [('CNST', 'CIED'), 0], [('CNST', 'INTG'), 0], [('CNST', 'MC'), 0], [('CNST', 'ENSC'), 0], [('CNST', 'GRK'), 0], [('CNST', 'EPFR'), 0], [('CNST', 'ART'), 0], [('CNST', 'PHYS'), 0], [('CNST', 'UNIV'), 0], [('CNST', 'PBHE'), 0], [('CNST', 'STAT'), 0], [('CNST', 'HIST'), 0], [('CNST', 'ACS'), 0], [('CNST', 'ARA'), 0], [('CNST', 'HONS'), 0], [('CNST', 'ANTH'), 0], [('CNST', 'ENG'), 0], [('CNST', 'FR'), 0], [('CNST', 'ITAL'), 0], [('CNST', 'NUTR'), 0], [('CNST', 'GEOG'), 0], [('CNST', 'ECE'), 0], [('CNST', 'PROD'), 0], [('CNST', 'ESCI'), 0], [('CNST', 'KIN'), 0], [('CNST', 'CJ'), 0], [('CNST', 'CNST'), 0], [('CNST', 'ECON'), 0], [('CNST', 'WMST'), 0], [('CNST', 'CE'), 0], [('CNST', 'RA'), 0], [('CNST', 'FAC'), 0], [('CNST', 'RUSS'), 0], [('CNST', 'POLS'), 0], [('CNST', 'PAPA'), 0], [('CNST', 'MATH'), 0], [('CNST', 'QR'), 0], [('CNST', 'CS'), 0], [('CNST', 'SPAN'), 0], [('CNST', 'FL'), 0], [('CNST', 'EDUC'), 0], [('CNST', 'NURS'), 0], [('CNST', 'SPPA'), 0], [('CNST', 'SCM'), 0], [('CNST', 'IS'), 0], [('CNST', 'AD'), 0], [('CNST', 'IT'), 0], [('CNST', 'LIBS'), 0], [('CNST', 'OR'), 0], [('CNST', 'CMIS'), 0], [('CNST', 'LAT'), 0], [('CNST', 'CHIN'), 0], [('CNST', 'BIOL'), 0], [('CNST', 'SURV'), 0], [('CNST', 'MS'), 0], [('CNST', 'MSC'), 0], [('CNST', 'FST'), 0], [('CNST', 'CODE'), 0], [('CNST', 'HUM'), 0], [('CNST', 'INTS'), 0], [('CNST', 'CHEM'), 0], [('CNST', 'SPE'), 0], [('CNST', 'MUS'), 0], [('CNST', 'THEA'), 0], [('CNST', 'MKTG'), 0], [('CNST', 'ACCT'), 0], [('CNST', 'MRE'), 0], [('CNST', 'AS'), 0], [('CNST', 'PSYC'), 0], [('CNST', 'FIN'), 0], [('CNST', 'DANC'), 0], [('CNST', 'GER'), 0], [('CNST', 'HED'), 0], [('CNST', 'SCI'), 0], [('CNST', 'PHEL'), 0], [('CNST', 'SOC'), 0], [('CNST', 'EDFD'), 0], [('CNST', 'GBA'), 0], [('CNST', 'PHIL'), 0], [('CNST', 'IE'), 0], [('CNST', 'MGMT'), 0], [('CNST', 'CI'), 0], [('CNST', 'SOCW'), 0], [('CNST', 'ME'), 0], [('ECON', 'SAB'), 0], [('ECON', 'CIED'), 0], [('ECON', 'INTG'), 0], [('ECON', 'MC'), 0], [('ECON', 'ENSC'), 0], [('ECON', 'GRK'), 0], [('ECON', 'EPFR'), 0], [('ECON', 'ART'), 0], [('ECON', 'PHYS'), 0], [('ECON', 'UNIV'), 0], [('ECON', 'PBHE'), 0], [('ECON', 'STAT'), 0], [('ECON', 'HIST'), 0], [('ECON', 'ACS'), 0], [('ECON', 'ARA'), 0], [('ECON', 'HONS'), 0], [('ECON', 'ANTH'), 0], [('ECON', 'ENG'), 0], [('ECON', 'FR'), 0], [('ECON', 'ITAL'), 0], [('ECON', 'NUTR'), 0], [('ECON', 'GEOG'), 0], [('ECON', 'ECE'), 0], [('ECON', 'PROD'), 0], [('ECON', 'ESCI'), 0], [('ECON', 'KIN'), 0], [('ECON', 'CJ'), 0], [('ECON', 'CNST'), 0], [('ECON', 'ECON'), 0], [('ECON', 'WMST'), 0], [('ECON', 'CE'), 0], [('ECON', 'RA'), 0], [('ECON', 'FAC'), 0], [('ECON', 'RUSS'), 0], [('ECON', 'POLS'), 0], [('ECON', 'PAPA'), 0], [('ECON', 'MATH'), 0], [('ECON', 'QR'), 0], [('ECON', 'CS'), 0], [('ECON', 'SPAN'), 0], [('ECON', 'FL'), 0], [('ECON', 'EDUC'), 0], [('ECON', 'NURS'), 0], [('ECON', 'SPPA'), 0], [('ECON', 'SCM'), 0], [('ECON', 'IS'), 0], [('ECON', 'AD'), 0], [('ECON', 'IT'), 0], [('ECON', 'LIBS'), 0], [('ECON', 'OR'), 0], [('ECON', 'CMIS'), 0], [('ECON', 'LAT'), 0], [('ECON', 'CHIN'), 0], [('ECON', 'BIOL'), 0], [('ECON', 'SURV'), 0], [('ECON', 'MS'), 0], [('ECON', 'MSC'), 0], [('ECON', 'FST'), 0], [('ECON', 'CODE'), 0], [('ECON', 'HUM'), 0], [('ECON', 'INTS'), 0], [('ECON', 'CHEM'), 0], [('ECON', 'SPE'), 0], [('ECON', 'MUS'), 0], [('ECON', 'THEA'), 0], [('ECON', 'MKTG'), 0], [('ECON', 'ACCT'), 0], [('ECON', 'MRE'), 0], [('ECON', 'AS'), 0], [('ECON', 'PSYC'), 0], [('ECON', 'FIN'), 0], [('ECON', 'DANC'), 0], [('ECON', 'GER'), 0], [('ECON', 'HED'), 0], [('ECON', 'SCI'), 0], [('ECON', 'PHEL'), 0], [('ECON', 'SOC'), 0], [('ECON', 'EDFD'), 0], [('ECON', 'GBA'), 0], [('ECON', 'PHIL'), 0], [('ECON', 'IE'), 0], [('ECON', 'MGMT'), 0], [('ECON', 'CI'), 0], [('ECON', 'SOCW'), 0], [('ECON', 'ME'), 0], [('WMST', 'SAB'), 0], [('WMST', 'CIED'), 0], [('WMST', 'INTG'), 0], [('WMST', 'MC'), 0], [('WMST', 'ENSC'), 0], [('WMST', 'GRK'), 0], [('WMST', 'EPFR'), 0], [('WMST', 'ART'), 0], [('WMST', 'PHYS'), 0], [('WMST', 'UNIV'), 0], [('WMST', 'PBHE'), 0], [('WMST', 'STAT'), 0], [('WMST', 'HIST'), 0], [('WMST', 'ACS'), 0], [('WMST', 'ARA'), 0], [('WMST', 'HONS'), 0], [('WMST', 'ANTH'), 0], [('WMST', 'ENG'), 0], [('WMST', 'FR'), 0], [('WMST', 'ITAL'), 0], [('WMST', 'NUTR'), 0], [('WMST', 'GEOG'), 0], [('WMST', 'ECE'), 0], [('WMST', 'PROD'), 0], [('WMST', 'ESCI'), 0], [('WMST', 'KIN'), 0], [('WMST', 'CJ'), 0], [('WMST', 'CNST'), 0], [('WMST', 'ECON'), 0], [('WMST', 'WMST'), 0], [('WMST', 'CE'), 0], [('WMST', 'RA'), 0], [('WMST', 'FAC'), 0], [('WMST', 'RUSS'), 0], [('WMST', 'POLS'), 0], [('WMST', 'PAPA'), 0], [('WMST', 'MATH'), 0], [('WMST', 'QR'), 0], [('WMST', 'CS'), 0], [('WMST', 'SPAN'), 0], [('WMST', 'FL'), 0], [('WMST', 'EDUC'), 0], [('WMST', 'NURS'), 0], [('WMST', 'SPPA'), 0], [('WMST', 'SCM'), 0], [('WMST', 'IS'), 0], [('WMST', 'AD'), 0], [('WMST', 'IT'), 0], [('WMST', 'LIBS'), 0], [('WMST', 'OR'), 0], [('WMST', 'CMIS'), 0], [('WMST', 'LAT'), 0], [('WMST', 'CHIN'), 0], [('WMST', 'BIOL'), 0], [('WMST', 'SURV'), 0], [('WMST', 'MS'), 0], [('WMST', 'MSC'), 0], [('WMST', 'FST'), 0], [('WMST', 'CODE'), 0], [('WMST', 'HUM'), 0], [('WMST', 'INTS'), 0], [('WMST', 'CHEM'), 0], [('WMST', 'SPE'), 0], [('WMST', 'MUS'), 0], [('WMST', 'THEA'), 0], [('WMST', 'MKTG'), 0], [('WMST', 'ACCT'), 0], [('WMST', 'MRE'), 0], [('WMST', 'AS'), 0], [('WMST', 'PSYC'), 0], [('WMST', 'FIN'), 0], [('WMST', 'DANC'), 0], [('WMST', 'GER'), 0], [('WMST', 'HED'), 0], [('WMST', 'SCI'), 0], [('WMST', 'PHEL'), 0], [('WMST', 'SOC'), 0], [('WMST', 'EDFD'), 0], [('WMST', 'GBA'), 0], [('WMST', 'PHIL'), 0], [('WMST', 'IE'), 0], [('WMST', 'MGMT'), 0], [('WMST', 'CI'), 0], [('WMST', 'SOCW'), 0], [('WMST', 'ME'), 0], [('CE', 'SAB'), 0], [('CE', 'CIED'), 0], [('CE', 'INTG'), 0], [('CE', 'MC'), 0], [('CE', 'ENSC'), 0], [('CE', 'GRK'), 0], [('CE', 'EPFR'), 0], [('CE', 'ART'), 0], [('CE', 'PHYS'), 0], [('CE', 'UNIV'), 0], [('CE', 'PBHE'), 0], [('CE', 'STAT'), 0], [('CE', 'HIST'), 0], [('CE', 'ACS'), 0], [('CE', 'ARA'), 0], [('CE', 'HONS'), 0], [('CE', 'ANTH'), 0], [('CE', 'ENG'), 0], [('CE', 'FR'), 0], [('CE', 'ITAL'), 0], [('CE', 'NUTR'), 0], [('CE', 'GEOG'), 0], [('CE', 'ECE'), 0], [('CE', 'PROD'), 0], [('CE', 'ESCI'), 0], [('CE', 'KIN'), 0], [('CE', 'CJ'), 0], [('CE', 'CNST'), 0], [('CE', 'ECON'), 0], [('CE', 'WMST'), 0], [('CE', 'CE'), 0], [('CE', 'RA'), 0], [('CE', 'FAC'), 0], [('CE', 'RUSS'), 0], [('CE', 'POLS'), 0], [('CE', 'PAPA'), 0], [('CE', 'MATH'), 0], [('CE', 'QR'), 0], [('CE', 'CS'), 0], [('CE', 'SPAN'), 0], [('CE', 'FL'), 0], [('CE', 'EDUC'), 0], [('CE', 'NURS'), 0], [('CE', 'SPPA'), 0], [('CE', 'SCM'), 0], [('CE', 'IS'), 0], [('CE', 'AD'), 0], [('CE', 'IT'), 0], [('CE', 'LIBS'), 0], [('CE', 'OR'), 0], [('CE', 'CMIS'), 0], [('CE', 'LAT'), 0], [('CE', 'CHIN'), 0], [('CE', 'BIOL'), 0], [('CE', 'SURV'), 0], [('CE', 'MS'), 0], [('CE', 'MSC'), 0], [('CE', 'FST'), 0], [('CE', 'CODE'), 0], [('CE', 'HUM'), 0], [('CE', 'INTS'), 0], [('CE', 'CHEM'), 0], [('CE', 'SPE'), 0], [('CE', 'MUS'), 0], [('CE', 'THEA'), 0], [('CE', 'MKTG'), 0], [('CE', 'ACCT'), 0], [('CE', 'MRE'), 0], [('CE', 'AS'), 0], [('CE', 'PSYC'), 0], [('CE', 'FIN'), 0], [('CE', 'DANC'), 0], [('CE', 'GER'), 0], [('CE', 'HED'), 0], [('CE', 'SCI'), 0], [('CE', 'PHEL'), 0], [('CE', 'SOC'), 0], [('CE', 'EDFD'), 0], [('CE', 'GBA'), 0], [('CE', 'PHIL'), 0], [('CE', 'IE'), 0], [('CE', 'MGMT'), 0], [('CE', 'CI'), 0], [('CE', 'SOCW'), 0], [('CE', 'ME'), 0], [('RA', 'SAB'), 0], [('RA', 'CIED'), 0], [('RA', 'INTG'), 0], [('RA', 'MC'), 0], [('RA', 'ENSC'), 0], [('RA', 'GRK'), 0], [('RA', 'EPFR'), 0], [('RA', 'ART'), 0], [('RA', 'PHYS'), 0], [('RA', 'UNIV'), 0], [('RA', 'PBHE'), 0], [('RA', 'STAT'), 0], [('RA', 'HIST'), 0], [('RA', 'ACS'), 0], [('RA', 'ARA'), 0], [('RA', 'HONS'), 0], [('RA', 'ANTH'), 0], [('RA', 'ENG'), 0], [('RA', 'FR'), 0], [('RA', 'ITAL'), 0], [('RA', 'NUTR'), 0], [('RA', 'GEOG'), 0], [('RA', 'ECE'), 0], [('RA', 'PROD'), 0], [('RA', 'ESCI'), 0], [('RA', 'KIN'), 0], [('RA', 'CJ'), 0], [('RA', 'CNST'), 0], [('RA', 'ECON'), 0], [('RA', 'WMST'), 0], [('RA', 'CE'), 0], [('RA', 'RA'), 0], [('RA', 'FAC'), 0], [('RA', 'RUSS'), 0], [('RA', 'POLS'), 0], [('RA', 'PAPA'), 0], [('RA', 'MATH'), 0], [('RA', 'QR'), 0], [('RA', 'CS'), 0], [('RA', 'SPAN'), 0], [('RA', 'FL'), 0], [('RA', 'EDUC'), 0], [('RA', 'NURS'), 0], [('RA', 'SPPA'), 0], [('RA', 'SCM'), 0], [('RA', 'IS'), 0], [('RA', 'AD'), 0], [('RA', 'IT'), 0], [('RA', 'LIBS'), 0], [('RA', 'OR'), 0], [('RA', 'CMIS'), 0], [('RA', 'LAT'), 0], [('RA', 'CHIN'), 0], [('RA', 'BIOL'), 0], [('RA', 'SURV'), 0], [('RA', 'MS'), 0], [('RA', 'MSC'), 0], [('RA', 'FST'), 0], [('RA', 'CODE'), 0], [('RA', 'HUM'), 0], [('RA', 'INTS'), 0], [('RA', 'CHEM'), 0], [('RA', 'SPE'), 0], [('RA', 'MUS'), 0], [('RA', 'THEA'), 0], [('RA', 'MKTG'), 0], [('RA', 'ACCT'), 0], [('RA', 'MRE'), 0], [('RA', 'AS'), 0], [('RA', 'PSYC'), 0], [('RA', 'FIN'), 0], [('RA', 'DANC'), 0], [('RA', 'GER'), 0], [('RA', 'HED'), 0], [('RA', 'SCI'), 0], [('RA', 'PHEL'), 0], [('RA', 'SOC'), 0], [('RA', 'EDFD'), 0], [('RA', 'GBA'), 0], [('RA', 'PHIL'), 0], [('RA', 'IE'), 0], [('RA', 'MGMT'), 0], [('RA', 'CI'), 0], [('RA', 'SOCW'), 0], [('RA', 'ME'), 0], [('FAC', 'SAB'), 0], [('FAC', 'CIED'), 0], [('FAC', 'INTG'), 0], [('FAC', 'MC'), 0], [('FAC', 'ENSC'), 0], [('FAC', 'GRK'), 0], [('FAC', 'EPFR'), 0], [('FAC', 'ART'), 0], [('FAC', 'PHYS'), 0], [('FAC', 'UNIV'), 0], [('FAC', 'PBHE'), 0], [('FAC', 'STAT'), 0], [('FAC', 'HIST'), 0], [('FAC', 'ACS'), 0], [('FAC', 'ARA'), 0], [('FAC', 'HONS'), 0], [('FAC', 'ANTH'), 0], [('FAC', 'ENG'), 0], [('FAC', 'FR'), 0], [('FAC', 'ITAL'), 0], [('FAC', 'NUTR'), 0], [('FAC', 'GEOG'), 0], [('FAC', 'ECE'), 0], [('FAC', 'PROD'), 0], [('FAC', 'ESCI'), 0], [('FAC', 'KIN'), 0], [('FAC', 'CJ'), 0], [('FAC', 'CNST'), 0], [('FAC', 'ECON'), 0], [('FAC', 'WMST'), 0], [('FAC', 'CE'), 0], [('FAC', 'RA'), 0], [('FAC', 'FAC'), 0], [('FAC', 'RUSS'), 0], [('FAC', 'POLS'), 0], [('FAC', 'PAPA'), 0], [('FAC', 'MATH'), 0], [('FAC', 'QR'), 0], [('FAC', 'CS'), 0], [('FAC', 'SPAN'), 0], [('FAC', 'FL'), 0], [('FAC', 'EDUC'), 0], [('FAC', 'NURS'), 0], [('FAC', 'SPPA'), 0], [('FAC', 'SCM'), 0], [('FAC', 'IS'), 0], [('FAC', 'AD'), 0], [('FAC', 'IT'), 0], [('FAC', 'LIBS'), 0], [('FAC', 'OR'), 0], [('FAC', 'CMIS'), 0], [('FAC', 'LAT'), 0], [('FAC', 'CHIN'), 0], [('FAC', 'BIOL'), 0], [('FAC', 'SURV'), 0], [('FAC', 'MS'), 0], [('FAC', 'MSC'), 0], [('FAC', 'FST'), 0], [('FAC', 'CODE'), 0], [('FAC', 'HUM'), 0], [('FAC', 'INTS'), 0], [('FAC', 'CHEM'), 0], [('FAC', 'SPE'), 0], [('FAC', 'MUS'), 0], [('FAC', 'THEA'), 0], [('FAC', 'MKTG'), 0], [('FAC', 'ACCT'), 0], [('FAC', 'MRE'), 0], [('FAC', 'AS'), 0], [('FAC', 'PSYC'), 0], [('FAC', 'FIN'), 0], [('FAC', 'DANC'), 0], [('FAC', 'GER'), 0], [('FAC', 'HED'), 0], [('FAC', 'SCI'), 0], [('FAC', 'PHEL'), 0], [('FAC', 'SOC'), 0], [('FAC', 'EDFD'), 0], [('FAC', 'GBA'), 0], [('FAC', 'PHIL'), 0], [('FAC', 'IE'), 0], [('FAC', 'MGMT'), 0], [('FAC', 'CI'), 0], [('FAC', 'SOCW'), 0], [('FAC', 'ME'), 0], [('RUSS', 'SAB'), 0], [('RUSS', 'CIED'), 0], [('RUSS', 'INTG'), 0], [('RUSS', 'MC'), 0], [('RUSS', 'ENSC'), 0], [('RUSS', 'GRK'), 0], [('RUSS', 'EPFR'), 0], [('RUSS', 'ART'), 0], [('RUSS', 'PHYS'), 0], [('RUSS', 'UNIV'), 0], [('RUSS', 'PBHE'), 0], [('RUSS', 'STAT'), 0], [('RUSS', 'HIST'), 0], [('RUSS', 'ACS'), 0], [('RUSS', 'ARA'), 0], [('RUSS', 'HONS'), 0], [('RUSS', 'ANTH'), 0], [('RUSS', 'ENG'), 0], [('RUSS', 'FR'), 0], [('RUSS', 'ITAL'), 0], [('RUSS', 'NUTR'), 0], [('RUSS', 'GEOG'), 0], [('RUSS', 'ECE'), 0], [('RUSS', 'PROD'), 0], [('RUSS', 'ESCI'), 0], [('RUSS', 'KIN'), 0], [('RUSS', 'CJ'), 0], [('RUSS', 'CNST'), 0], [('RUSS', 'ECON'), 0], [('RUSS', 'WMST'), 0], [('RUSS', 'CE'), 0], [('RUSS', 'RA'), 0], [('RUSS', 'FAC'), 0], [('RUSS', 'RUSS'), 0], [('RUSS', 'POLS'), 0], [('RUSS', 'PAPA'), 0], [('RUSS', 'MATH'), 0], [('RUSS', 'QR'), 0], [('RUSS', 'CS'), 0], [('RUSS', 'SPAN'), 0], [('RUSS', 'FL'), 0], [('RUSS', 'EDUC'), 0], [('RUSS', 'NURS'), 0], [('RUSS', 'SPPA'), 0], [('RUSS', 'SCM'), 0], [('RUSS', 'IS'), 0], [('RUSS', 'AD'), 0], [('RUSS', 'IT'), 0], [('RUSS', 'LIBS'), 0], [('RUSS', 'OR'), 0], [('RUSS', 'CMIS'), 0], [('RUSS', 'LAT'), 0], [('RUSS', 'CHIN'), 0], [('RUSS', 'BIOL'), 0], [('RUSS', 'SURV'), 0], [('RUSS', 'MS'), 0], [('RUSS', 'MSC'), 0], [('RUSS', 'FST'), 0], [('RUSS', 'CODE'), 0], [('RUSS', 'HUM'), 0], [('RUSS', 'INTS'), 0], [('RUSS', 'CHEM'), 0], [('RUSS', 'SPE'), 0], [('RUSS', 'MUS'), 0], [('RUSS', 'THEA'), 0], [('RUSS', 'MKTG'), 0], [('RUSS', 'ACCT'), 0], [('RUSS', 'MRE'), 0], [('RUSS', 'AS'), 0], [('RUSS', 'PSYC'), 0], [('RUSS', 'FIN'), 0], [('RUSS', 'DANC'), 0], [('RUSS', 'GER'), 0], [('RUSS', 'HED'), 0], [('RUSS', 'SCI'), 0], [('RUSS', 'PHEL'), 0], [('RUSS', 'SOC'), 0], [('RUSS', 'EDFD'), 0], [('RUSS', 'GBA'), 0], [('RUSS', 'PHIL'), 0], [('RUSS', 'IE'), 0], [('RUSS', 'MGMT'), 0], [('RUSS', 'CI'), 0], [('RUSS', 'SOCW'), 0], [('RUSS', 'ME'), 0], [('POLS', 'SAB'), 0], [('POLS', 'CIED'), 0], [('POLS', 'INTG'), 0], [('POLS', 'MC'), 0], [('POLS', 'ENSC'), 0], [('POLS', 'GRK'), 0], [('POLS', 'EPFR'), 0], [('POLS', 'ART'), 0], [('POLS', 'PHYS'), 0], [('POLS', 'UNIV'), 0], [('POLS', 'PBHE'), 0], [('POLS', 'STAT'), 0], [('POLS', 'HIST'), 0], [('POLS', 'ACS'), 0], [('POLS', 'ARA'), 0], [('POLS', 'HONS'), 0], [('POLS', 'ANTH'), 0], [('POLS', 'ENG'), 0], [('POLS', 'FR'), 0], [('POLS', 'ITAL'), 0], [('POLS', 'NUTR'), 0], [('POLS', 'GEOG'), 0], [('POLS', 'ECE'), 0], [('POLS', 'PROD'), 0], [('POLS', 'ESCI'), 0], [('POLS', 'KIN'), 0], [('POLS', 'CJ'), 0], [('POLS', 'CNST'), 0], [('POLS', 'ECON'), 0], [('POLS', 'WMST'), 0], [('POLS', 'CE'), 0], [('POLS', 'RA'), 0], [('POLS', 'FAC'), 0], [('POLS', 'RUSS'), 0], [('POLS', 'POLS'), 0], [('POLS', 'PAPA'), 0], [('POLS', 'MATH'), 0], [('POLS', 'QR'), 0], [('POLS', 'CS'), 0], [('POLS', 'SPAN'), 0], [('POLS', 'FL'), 0], [('POLS', 'EDUC'), 0], [('POLS', 'NURS'), 0], [('POLS', 'SPPA'), 0], [('POLS', 'SCM'), 0], [('POLS', 'IS'), 0], [('POLS', 'AD'), 0], [('POLS', 'IT'), 0], [('POLS', 'LIBS'), 0], [('POLS', 'OR'), 0], [('POLS', 'CMIS'), 0], [('POLS', 'LAT'), 0], [('POLS', 'CHIN'), 0], [('POLS', 'BIOL'), 0], [('POLS', 'SURV'), 0], [('POLS', 'MS'), 0], [('POLS', 'MSC'), 0], [('POLS', 'FST'), 0], [('POLS', 'CODE'), 0], [('POLS', 'HUM'), 0], [('POLS', 'INTS'), 0], [('POLS', 'CHEM'), 0], [('POLS', 'SPE'), 0], [('POLS', 'MUS'), 0], [('POLS', 'THEA'), 0], [('POLS', 'MKTG'), 0], [('POLS', 'ACCT'), 0], [('POLS', 'MRE'), 0], [('POLS', 'AS'), 0], [('POLS', 'PSYC'), 0], [('POLS', 'FIN'), 0], [('POLS', 'DANC'), 0], [('POLS', 'GER'), 0], [('POLS', 'HED'), 0], [('POLS', 'SCI'), 0], [('POLS', 'PHEL'), 0], [('POLS', 'SOC'), 0], [('POLS', 'EDFD'), 0], [('POLS', 'GBA'), 0], [('POLS', 'PHIL'), 0], [('POLS', 'IE'), 0], [('POLS', 'MGMT'), 0], [('POLS', 'CI'), 0], [('POLS', 'SOCW'), 0], [('POLS', 'ME'), 0], [('PAPA', 'SAB'), 0], [('PAPA', 'CIED'), 0], [('PAPA', 'INTG'), 0], [('PAPA', 'MC'), 0], [('PAPA', 'ENSC'), 0], [('PAPA', 'GRK'), 0], [('PAPA', 'EPFR'), 0], [('PAPA', 'ART'), 0], [('PAPA', 'PHYS'), 0], [('PAPA', 'UNIV'), 0], [('PAPA', 'PBHE'), 0], [('PAPA', 'STAT'), 0], [('PAPA', 'HIST'), 0], [('PAPA', 'ACS'), 0], [('PAPA', 'ARA'), 0], [('PAPA', 'HONS'), 0], [('PAPA', 'ANTH'), 0], [('PAPA', 'ENG'), 0], [('PAPA', 'FR'), 0], [('PAPA', 'ITAL'), 0], [('PAPA', 'NUTR'), 0], [('PAPA', 'GEOG'), 0], [('PAPA', 'ECE'), 0], [('PAPA', 'PROD'), 0], [('PAPA', 'ESCI'), 0], [('PAPA', 'KIN'), 0], [('PAPA', 'CJ'), 0], [('PAPA', 'CNST'), 0], [('PAPA', 'ECON'), 0], [('PAPA', 'WMST'), 0], [('PAPA', 'CE'), 0], [('PAPA', 'RA'), 0], [('PAPA', 'FAC'), 0], [('PAPA', 'RUSS'), 0], [('PAPA', 'POLS'), 0], [('PAPA', 'PAPA'), 0], [('PAPA', 'MATH'), 0], [('PAPA', 'QR'), 0], [('PAPA', 'CS'), 0], [('PAPA', 'SPAN'), 0], [('PAPA', 'FL'), 0], [('PAPA', 'EDUC'), 0], [('PAPA', 'NURS'), 0], [('PAPA', 'SPPA'), 0], [('PAPA', 'SCM'), 0], [('PAPA', 'IS'), 0], [('PAPA', 'AD'), 0], [('PAPA', 'IT'), 0], [('PAPA', 'LIBS'), 0], [('PAPA', 'OR'), 0], [('PAPA', 'CMIS'), 0], [('PAPA', 'LAT'), 0], [('PAPA', 'CHIN'), 0], [('PAPA', 'BIOL'), 0], [('PAPA', 'SURV'), 0], [('PAPA', 'MS'), 0], [('PAPA', 'MSC'), 0], [('PAPA', 'FST'), 0], [('PAPA', 'CODE'), 0], [('PAPA', 'HUM'), 0], [('PAPA', 'INTS'), 0], [('PAPA', 'CHEM'), 0], [('PAPA', 'SPE'), 0], [('PAPA', 'MUS'), 0], [('PAPA', 'THEA'), 0], [('PAPA', 'MKTG'), 0], [('PAPA', 'ACCT'), 0], [('PAPA', 'MRE'), 0], [('PAPA', 'AS'), 0], [('PAPA', 'PSYC'), 0], [('PAPA', 'FIN'), 0], [('PAPA', 'DANC'), 0], [('PAPA', 'GER'), 0], [('PAPA', 'HED'), 0], [('PAPA', 'SCI'), 0], [('PAPA', 'PHEL'), 0], [('PAPA', 'SOC'), 0], [('PAPA', 'EDFD'), 0], [('PAPA', 'GBA'), 0], [('PAPA', 'PHIL'), 0], [('PAPA', 'IE'), 0], [('PAPA', 'MGMT'), 0], [('PAPA', 'CI'), 0], [('PAPA', 'SOCW'), 0], [('PAPA', 'ME'), 0], [('MATH', 'SAB'), 0], [('MATH', 'CIED'), 0], [('MATH', 'INTG'), 0], [('MATH', 'MC'), 0], [('MATH', 'ENSC'), 0], [('MATH', 'GRK'), 0], [('MATH', 'EPFR'), 0], [('MATH', 'ART'), 0], [('MATH', 'PHYS'), 0], [('MATH', 'UNIV'), 0], [('MATH', 'PBHE'), 0], [('MATH', 'STAT'), 0], [('MATH', 'HIST'), 0], [('MATH', 'ACS'), 0], [('MATH', 'ARA'), 0], [('MATH', 'HONS'), 0], [('MATH', 'ANTH'), 0], [('MATH', 'ENG'), 0], [('MATH', 'FR'), 0], [('MATH', 'ITAL'), 0], [('MATH', 'NUTR'), 0], [('MATH', 'GEOG'), 0], [('MATH', 'ECE'), 0], [('MATH', 'PROD'), 0], [('MATH', 'ESCI'), 0], [('MATH', 'KIN'), 0], [('MATH', 'CJ'), 0], [('MATH', 'CNST'), 0], [('MATH', 'ECON'), 0], [('MATH', 'WMST'), 0], [('MATH', 'CE'), 0], [('MATH', 'RA'), 0], [('MATH', 'FAC'), 0], [('MATH', 'RUSS'), 0], [('MATH', 'POLS'), 0], [('MATH', 'PAPA'), 0], [('MATH', 'MATH'), 0], [('MATH', 'QR'), 0], [('MATH', 'CS'), 0], [('MATH', 'SPAN'), 0], [('MATH', 'FL'), 0], [('MATH', 'EDUC'), 0], [('MATH', 'NURS'), 0], [('MATH', 'SPPA'), 0], [('MATH', 'SCM'), 0], [('MATH', 'IS'), 0], [('MATH', 'AD'), 0], [('MATH', 'IT'), 0], [('MATH', 'LIBS'), 0], [('MATH', 'OR'), 0], [('MATH', 'CMIS'), 0], [('MATH', 'LAT'), 0], [('MATH', 'CHIN'), 0], [('MATH', 'BIOL'), 0], [('MATH', 'SURV'), 0], [('MATH', 'MS'), 0], [('MATH', 'MSC'), 0], [('MATH', 'FST'), 0], [('MATH', 'CODE'), 0], [('MATH', 'HUM'), 0], [('MATH', 'INTS'), 0], [('MATH', 'CHEM'), 0], [('MATH', 'SPE'), 0], [('MATH', 'MUS'), 0], [('MATH', 'THEA'), 0], [('MATH', 'MKTG'), 0], [('MATH', 'ACCT'), 0], [('MATH', 'MRE'), 0], [('MATH', 'AS'), 0], [('MATH', 'PSYC'), 0], [('MATH', 'FIN'), 0], [('MATH', 'DANC'), 0], [('MATH', 'GER'), 0], [('MATH', 'HED'), 0], [('MATH', 'SCI'), 0], [('MATH', 'PHEL'), 0], [('MATH', 'SOC'), 0], [('MATH', 'EDFD'), 0], [('MATH', 'GBA'), 0], [('MATH', 'PHIL'), 0], [('MATH', 'IE'), 0], [('MATH', 'MGMT'), 0], [('MATH', 'CI'), 0], [('MATH', 'SOCW'), 0], [('MATH', 'ME'), 0], [('QR', 'SAB'), 0], [('QR', 'CIED'), 0], [('QR', 'INTG'), 0], [('QR', 'MC'), 0], [('QR', 'ENSC'), 0], [('QR', 'GRK'), 0], [('QR', 'EPFR'), 0], [('QR', 'ART'), 0], [('QR', 'PHYS'), 0], [('QR', 'UNIV'), 0], [('QR', 'PBHE'), 0], [('QR', 'STAT'), 0], [('QR', 'HIST'), 0], [('QR', 'ACS'), 0], [('QR', 'ARA'), 0], [('QR', 'HONS'), 0], [('QR', 'ANTH'), 0], [('QR', 'ENG'), 0], [('QR', 'FR'), 0], [('QR', 'ITAL'), 0], [('QR', 'NUTR'), 0], [('QR', 'GEOG'), 0], [('QR', 'ECE'), 0], [('QR', 'PROD'), 0], [('QR', 'ESCI'), 0], [('QR', 'KIN'), 0], [('QR', 'CJ'), 0], [('QR', 'CNST'), 0], [('QR', 'ECON'), 0], [('QR', 'WMST'), 0], [('QR', 'CE'), 0], [('QR', 'RA'), 0], [('QR', 'FAC'), 0], [('QR', 'RUSS'), 0], [('QR', 'POLS'), 0], [('QR', 'PAPA'), 0], [('QR', 'MATH'), 0], [('QR', 'QR'), 0], [('QR', 'CS'), 0], [('QR', 'SPAN'), 0], [('QR', 'FL'), 0], [('QR', 'EDUC'), 0], [('QR', 'NURS'), 0], [('QR', 'SPPA'), 0], [('QR', 'SCM'), 0], [('QR', 'IS'), 0], [('QR', 'AD'), 0], [('QR', 'IT'), 0], [('QR', 'LIBS'), 0], [('QR', 'OR'), 0], [('QR', 'CMIS'), 0], [('QR', 'LAT'), 0], [('QR', 'CHIN'), 0], [('QR', 'BIOL'), 0], [('QR', 'SURV'), 0], [('QR', 'MS'), 0], [('QR', 'MSC'), 0], [('QR', 'FST'), 0], [('QR', 'CODE'), 0], [('QR', 'HUM'), 0], [('QR', 'INTS'), 0], [('QR', 'CHEM'), 0], [('QR', 'SPE'), 0], [('QR', 'MUS'), 0], [('QR', 'THEA'), 0], [('QR', 'MKTG'), 0], [('QR', 'ACCT'), 0], [('QR', 'MRE'), 0], [('QR', 'AS'), 0], [('QR', 'PSYC'), 0], [('QR', 'FIN'), 0], [('QR', 'DANC'), 0], [('QR', 'GER'), 0], [('QR', 'HED'), 0], [('QR', 'SCI'), 0], [('QR', 'PHEL'), 0], [('QR', 'SOC'), 0], [('QR', 'EDFD'), 0], [('QR', 'GBA'), 0], [('QR', 'PHIL'), 0], [('QR', 'IE'), 0], [('QR', 'MGMT'), 0], [('QR', 'CI'), 0], [('QR', 'SOCW'), 0], [('QR', 'ME'), 0], [('CS', 'SAB'), 0], [('CS', 'CIED'), 0], [('CS', 'INTG'), 0], [('CS', 'MC'), 0], [('CS', 'ENSC'), 0], [('CS', 'GRK'), 0], [('CS', 'EPFR'), 0], [('CS', 'ART'), 0], [('CS', 'PHYS'), 0], [('CS', 'UNIV'), 0], [('CS', 'PBHE'), 0], [('CS', 'STAT'), 0], [('CS', 'HIST'), 0], [('CS', 'ACS'), 0], [('CS', 'ARA'), 0], [('CS', 'HONS'), 0], [('CS', 'ANTH'), 0], [('CS', 'ENG'), 0], [('CS', 'FR'), 0], [('CS', 'ITAL'), 0], [('CS', 'NUTR'), 0], [('CS', 'GEOG'), 0], [('CS', 'ECE'), 0], [('CS', 'PROD'), 0], [('CS', 'ESCI'), 0], [('CS', 'KIN'), 0], [('CS', 'CJ'), 0], [('CS', 'CNST'), 0], [('CS', 'ECON'), 0], [('CS', 'WMST'), 0], [('CS', 'CE'), 0], [('CS', 'RA'), 0], [('CS', 'FAC'), 0], [('CS', 'RUSS'), 0], [('CS', 'POLS'), 0], [('CS', 'PAPA'), 0], [('CS', 'MATH'), 0], [('CS', 'QR'), 0], [('CS', 'CS'), 0], [('CS', 'SPAN'), 0], [('CS', 'FL'), 0], [('CS', 'EDUC'), 0], [('CS', 'NURS'), 0], [('CS', 'SPPA'), 0], [('CS', 'SCM'), 0], [('CS', 'IS'), 0], [('CS', 'AD'), 0], [('CS', 'IT'), 0], [('CS', 'LIBS'), 0], [('CS', 'OR'), 0], [('CS', 'CMIS'), 0], [('CS', 'LAT'), 0], [('CS', 'CHIN'), 0], [('CS', 'BIOL'), 0], [('CS', 'SURV'), 0], [('CS', 'MS'), 0], [('CS', 'MSC'), 0], [('CS', 'FST'), 0], [('CS', 'CODE'), 0], [('CS', 'HUM'), 0], [('CS', 'INTS'), 0], [('CS', 'CHEM'), 0], [('CS', 'SPE'), 0], [('CS', 'MUS'), 0], [('CS', 'THEA'), 0], [('CS', 'MKTG'), 0], [('CS', 'ACCT'), 0], [('CS', 'MRE'), 0], [('CS', 'AS'), 0], [('CS', 'PSYC'), 0], [('CS', 'FIN'), 0], [('CS', 'DANC'), 0], [('CS', 'GER'), 0], [('CS', 'HED'), 0], [('CS', 'SCI'), 0], [('CS', 'PHEL'), 0], [('CS', 'SOC'), 0], [('CS', 'EDFD'), 0], [('CS', 'GBA'), 0], [('CS', 'PHIL'), 0], [('CS', 'IE'), 0], [('CS', 'MGMT'), 0], [('CS', 'CI'), 0], [('CS', 'SOCW'), 0], [('CS', 'ME'), 0], [('SPAN', 'SAB'), 0], [('SPAN', 'CIED'), 0], [('SPAN', 'INTG'), 0], [('SPAN', 'MC'), 0], [('SPAN', 'ENSC'), 0], [('SPAN', 'GRK'), 0], [('SPAN', 'EPFR'), 0], [('SPAN', 'ART'), 0], [('SPAN', 'PHYS'), 0], [('SPAN', 'UNIV'), 0], [('SPAN', 'PBHE'), 0], [('SPAN', 'STAT'), 0], [('SPAN', 'HIST'), 0], [('SPAN', 'ACS'), 0], [('SPAN', 'ARA'), 0], [('SPAN', 'HONS'), 0], [('SPAN', 'ANTH'), 0], [('SPAN', 'ENG'), 0], [('SPAN', 'FR'), 0], [('SPAN', 'ITAL'), 0], [('SPAN', 'NUTR'), 0], [('SPAN', 'GEOG'), 0], [('SPAN', 'ECE'), 0], [('SPAN', 'PROD'), 0], [('SPAN', 'ESCI'), 0], [('SPAN', 'KIN'), 0], [('SPAN', 'CJ'), 0], [('SPAN', 'CNST'), 0], [('SPAN', 'ECON'), 0], [('SPAN', 'WMST'), 0], [('SPAN', 'CE'), 0], [('SPAN', 'RA'), 0], [('SPAN', 'FAC'), 0], [('SPAN', 'RUSS'), 0], [('SPAN', 'POLS'), 0], [('SPAN', 'PAPA'), 0], [('SPAN', 'MATH'), 0], [('SPAN', 'QR'), 0], [('SPAN', 'CS'), 0], [('SPAN', 'SPAN'), 0], [('SPAN', 'FL'), 0], [('SPAN', 'EDUC'), 0], [('SPAN', 'NURS'), 0], [('SPAN', 'SPPA'), 0], [('SPAN', 'SCM'), 0], [('SPAN', 'IS'), 0], [('SPAN', 'AD'), 0], [('SPAN', 'IT'), 0], [('SPAN', 'LIBS'), 0], [('SPAN', 'OR'), 0], [('SPAN', 'CMIS'), 0], [('SPAN', 'LAT'), 0], [('SPAN', 'CHIN'), 0], [('SPAN', 'BIOL'), 0], [('SPAN', 'SURV'), 0], [('SPAN', 'MS'), 0], [('SPAN', 'MSC'), 0], [('SPAN', 'FST'), 0], [('SPAN', 'CODE'), 0], [('SPAN', 'HUM'), 0], [('SPAN', 'INTS'), 0], [('SPAN', 'CHEM'), 0], [('SPAN', 'SPE'), 0], [('SPAN', 'MUS'), 0], [('SPAN', 'THEA'), 0], [('SPAN', 'MKTG'), 0], [('SPAN', 'ACCT'), 0], [('SPAN', 'MRE'), 0], [('SPAN', 'AS'), 0], [('SPAN', 'PSYC'), 0], [('SPAN', 'FIN'), 0], [('SPAN', 'DANC'), 0], [('SPAN', 'GER'), 0], [('SPAN', 'HED'), 0], [('SPAN', 'SCI'), 0], [('SPAN', 'PHEL'), 0], [('SPAN', 'SOC'), 0], [('SPAN', 'EDFD'), 0], [('SPAN', 'GBA'), 0], [('SPAN', 'PHIL'), 0], [('SPAN', 'IE'), 0], [('SPAN', 'MGMT'), 0], [('SPAN', 'CI'), 0], [('SPAN', 'SOCW'), 0], [('SPAN', 'ME'), 0], [('FL', 'SAB'), 0], [('FL', 'CIED'), 0], [('FL', 'INTG'), 0], [('FL', 'MC'), 0], [('FL', 'ENSC'), 0], [('FL', 'GRK'), 0], [('FL', 'EPFR'), 0], [('FL', 'ART'), 0], [('FL', 'PHYS'), 0], [('FL', 'UNIV'), 0], [('FL', 'PBHE'), 0], [('FL', 'STAT'), 0], [('FL', 'HIST'), 0], [('FL', 'ACS'), 0], [('FL', 'ARA'), 0], [('FL', 'HONS'), 0], [('FL', 'ANTH'), 0], [('FL', 'ENG'), 0], [('FL', 'FR'), 0], [('FL', 'ITAL'), 0], [('FL', 'NUTR'), 0], [('FL', 'GEOG'), 0], [('FL', 'ECE'), 0], [('FL', 'PROD'), 0], [('FL', 'ESCI'), 0], [('FL', 'KIN'), 0], [('FL', 'CJ'), 0], [('FL', 'CNST'), 0], [('FL', 'ECON'), 0], [('FL', 'WMST'), 0], [('FL', 'CE'), 0], [('FL', 'RA'), 0], [('FL', 'FAC'), 0], [('FL', 'RUSS'), 0], [('FL', 'POLS'), 0], [('FL', 'PAPA'), 0], [('FL', 'MATH'), 0], [('FL', 'QR'), 0], [('FL', 'CS'), 0], [('FL', 'SPAN'), 0], [('FL', 'FL'), 0], [('FL', 'EDUC'), 0], [('FL', 'NURS'), 0], [('FL', 'SPPA'), 0], [('FL', 'SCM'), 0], [('FL', 'IS'), 0], [('FL', 'AD'), 0], [('FL', 'IT'), 0], [('FL', 'LIBS'), 0], [('FL', 'OR'), 0], [('FL', 'CMIS'), 0], [('FL', 'LAT'), 0], [('FL', 'CHIN'), 0], [('FL', 'BIOL'), 0], [('FL', 'SURV'), 0], [('FL', 'MS'), 0], [('FL', 'MSC'), 0], [('FL', 'FST'), 0], [('FL', 'CODE'), 0], [('FL', 'HUM'), 0], [('FL', 'INTS'), 0], [('FL', 'CHEM'), 0], [('FL', 'SPE'), 0], [('FL', 'MUS'), 0], [('FL', 'THEA'), 0], [('FL', 'MKTG'), 0], [('FL', 'ACCT'), 0], [('FL', 'MRE'), 0], [('FL', 'AS'), 0], [('FL', 'PSYC'), 0], [('FL', 'FIN'), 0], [('FL', 'DANC'), 0], [('FL', 'GER'), 0], [('FL', 'HED'), 0], [('FL', 'SCI'), 0], [('FL', 'PHEL'), 0], [('FL', 'SOC'), 0], [('FL', 'EDFD'), 0], [('FL', 'GBA'), 0], [('FL', 'PHIL'), 0], [('FL', 'IE'), 0], [('FL', 'MGMT'), 0], [('FL', 'CI'), 0], [('FL', 'SOCW'), 0], [('FL', 'ME'), 0], [('EDUC', 'SAB'), 0], [('EDUC', 'CIED'), 0], [('EDUC', 'INTG'), 0], [('EDUC', 'MC'), 0], [('EDUC', 'ENSC'), 0], [('EDUC', 'GRK'), 0], [('EDUC', 'EPFR'), 0], [('EDUC', 'ART'), 0], [('EDUC', 'PHYS'), 0], [('EDUC', 'UNIV'), 0], [('EDUC', 'PBHE'), 0], [('EDUC', 'STAT'), 0], [('EDUC', 'HIST'), 0], [('EDUC', 'ACS'), 0], [('EDUC', 'ARA'), 0], [('EDUC', 'HONS'), 0], [('EDUC', 'ANTH'), 0], [('EDUC', 'ENG'), 0], [('EDUC', 'FR'), 0], [('EDUC', 'ITAL'), 0], [('EDUC', 'NUTR'), 0], [('EDUC', 'GEOG'), 0], [('EDUC', 'ECE'), 0], [('EDUC', 'PROD'), 0], [('EDUC', 'ESCI'), 0], [('EDUC', 'KIN'), 0], [('EDUC', 'CJ'), 0], [('EDUC', 'CNST'), 0], [('EDUC', 'ECON'), 0], [('EDUC', 'WMST'), 0], [('EDUC', 'CE'), 0], [('EDUC', 'RA'), 0], [('EDUC', 'FAC'), 0], [('EDUC', 'RUSS'), 0], [('EDUC', 'POLS'), 0], [('EDUC', 'PAPA'), 0], [('EDUC', 'MATH'), 0], [('EDUC', 'QR'), 0], [('EDUC', 'CS'), 0], [('EDUC', 'SPAN'), 0], [('EDUC', 'FL'), 0], [('EDUC', 'EDUC'), 0], [('EDUC', 'NURS'), 0], [('EDUC', 'SPPA'), 0], [('EDUC', 'SCM'), 0], [('EDUC', 'IS'), 0], [('EDUC', 'AD'), 0], [('EDUC', 'IT'), 0], [('EDUC', 'LIBS'), 0], [('EDUC', 'OR'), 0], [('EDUC', 'CMIS'), 0], [('EDUC', 'LAT'), 0], [('EDUC', 'CHIN'), 0], [('EDUC', 'BIOL'), 0], [('EDUC', 'SURV'), 0], [('EDUC', 'MS'), 0], [('EDUC', 'MSC'), 0], [('EDUC', 'FST'), 0], [('EDUC', 'CODE'), 0], [('EDUC', 'HUM'), 0], [('EDUC', 'INTS'), 0], [('EDUC', 'CHEM'), 0], [('EDUC', 'SPE'), 0], [('EDUC', 'MUS'), 0], [('EDUC', 'THEA'), 0], [('EDUC', 'MKTG'), 0], [('EDUC', 'ACCT'), 0], [('EDUC', 'MRE'), 0], [('EDUC', 'AS'), 0], [('EDUC', 'PSYC'), 0], [('EDUC', 'FIN'), 0], [('EDUC', 'DANC'), 0], [('EDUC', 'GER'), 0], [('EDUC', 'HED'), 0], [('EDUC', 'SCI'), 0], [('EDUC', 'PHEL'), 0], [('EDUC', 'SOC'), 0], [('EDUC', 'EDFD'), 0], [('EDUC', 'GBA'), 0], [('EDUC', 'PHIL'), 0], [('EDUC', 'IE'), 0], [('EDUC', 'MGMT'), 0], [('EDUC', 'CI'), 0], [('EDUC', 'SOCW'), 0], [('EDUC', 'ME'), 0], [('NURS', 'SAB'), 0], [('NURS', 'CIED'), 0], [('NURS', 'INTG'), 0], [('NURS', 'MC'), 0], [('NURS', 'ENSC'), 0], [('NURS', 'GRK'), 0], [('NURS', 'EPFR'), 0], [('NURS', 'ART'), 0], [('NURS', 'PHYS'), 0], [('NURS', 'UNIV'), 0], [('NURS', 'PBHE'), 0], [('NURS', 'STAT'), 0], [('NURS', 'HIST'), 0], [('NURS', 'ACS'), 0], [('NURS', 'ARA'), 0], [('NURS', 'HONS'), 0], [('NURS', 'ANTH'), 0], [('NURS', 'ENG'), 0], [('NURS', 'FR'), 0], [('NURS', 'ITAL'), 0], [('NURS', 'NUTR'), 0], [('NURS', 'GEOG'), 0], [('NURS', 'ECE'), 0], [('NURS', 'PROD'), 0], [('NURS', 'ESCI'), 0], [('NURS', 'KIN'), 0], [('NURS', 'CJ'), 0], [('NURS', 'CNST'), 0], [('NURS', 'ECON'), 0], [('NURS', 'WMST'), 0], [('NURS', 'CE'), 0], [('NURS', 'RA'), 0], [('NURS', 'FAC'), 0], [('NURS', 'RUSS'), 0], [('NURS', 'POLS'), 0], [('NURS', 'PAPA'), 0], [('NURS', 'MATH'), 0], [('NURS', 'QR'), 0], [('NURS', 'CS'), 0], [('NURS', 'SPAN'), 0], [('NURS', 'FL'), 0], [('NURS', 'EDUC'), 0], [('NURS', 'NURS'), 0], [('NURS', 'SPPA'), 0], [('NURS', 'SCM'), 0], [('NURS', 'IS'), 0], [('NURS', 'AD'), 0], [('NURS', 'IT'), 0], [('NURS', 'LIBS'), 0], [('NURS', 'OR'), 0], [('NURS', 'CMIS'), 0], [('NURS', 'LAT'), 0], [('NURS', 'CHIN'), 0], [('NURS', 'BIOL'), 0], [('NURS', 'SURV'), 0], [('NURS', 'MS'), 0], [('NURS', 'MSC'), 0], [('NURS', 'FST'), 0], [('NURS', 'CODE'), 0], [('NURS', 'HUM'), 0], [('NURS', 'INTS'), 0], [('NURS', 'CHEM'), 0], [('NURS', 'SPE'), 0], [('NURS', 'MUS'), 0], [('NURS', 'THEA'), 0], [('NURS', 'MKTG'), 0], [('NURS', 'ACCT'), 0], [('NURS', 'MRE'), 0], [('NURS', 'AS'), 0], [('NURS', 'PSYC'), 0], [('NURS', 'FIN'), 0], [('NURS', 'DANC'), 0], [('NURS', 'GER'), 0], [('NURS', 'HED'), 0], [('NURS', 'SCI'), 0], [('NURS', 'PHEL'), 0], [('NURS', 'SOC'), 0], [('NURS', 'EDFD'), 0], [('NURS', 'GBA'), 0], [('NURS', 'PHIL'), 0], [('NURS', 'IE'), 0], [('NURS', 'MGMT'), 0], [('NURS', 'CI'), 0], [('NURS', 'SOCW'), 0], [('NURS', 'ME'), 0], [('SPPA', 'SAB'), 0], [('SPPA', 'CIED'), 0], [('SPPA', 'INTG'), 0], [('SPPA', 'MC'), 0], [('SPPA', 'ENSC'), 0], [('SPPA', 'GRK'), 0], [('SPPA', 'EPFR'), 0], [('SPPA', 'ART'), 0], [('SPPA', 'PHYS'), 0], [('SPPA', 'UNIV'), 0], [('SPPA', 'PBHE'), 0], [('SPPA', 'STAT'), 0], [('SPPA', 'HIST'), 0], [('SPPA', 'ACS'), 0], [('SPPA', 'ARA'), 0], [('SPPA', 'HONS'), 0], [('SPPA', 'ANTH'), 0], [('SPPA', 'ENG'), 0], [('SPPA', 'FR'), 0], [('SPPA', 'ITAL'), 0], [('SPPA', 'NUTR'), 0], [('SPPA', 'GEOG'), 0], [('SPPA', 'ECE'), 0], [('SPPA', 'PROD'), 0], [('SPPA', 'ESCI'), 0], [('SPPA', 'KIN'), 0], [('SPPA', 'CJ'), 0], [('SPPA', 'CNST'), 0], [('SPPA', 'ECON'), 0], [('SPPA', 'WMST'), 0], [('SPPA', 'CE'), 0], [('SPPA', 'RA'), 0], [('SPPA', 'FAC'), 0], [('SPPA', 'RUSS'), 0], [('SPPA', 'POLS'), 0], [('SPPA', 'PAPA'), 0], [('SPPA', 'MATH'), 0], [('SPPA', 'QR'), 0], [('SPPA', 'CS'), 0], [('SPPA', 'SPAN'), 0], [('SPPA', 'FL'), 0], [('SPPA', 'EDUC'), 0], [('SPPA', 'NURS'), 0], [('SPPA', 'SPPA'), 0], [('SPPA', 'SCM'), 0], [('SPPA', 'IS'), 0], [('SPPA', 'AD'), 0], [('SPPA', 'IT'), 0], [('SPPA', 'LIBS'), 0], [('SPPA', 'OR'), 0], [('SPPA', 'CMIS'), 0], [('SPPA', 'LAT'), 0], [('SPPA', 'CHIN'), 0], [('SPPA', 'BIOL'), 0], [('SPPA', 'SURV'), 0], [('SPPA', 'MS'), 0], [('SPPA', 'MSC'), 0], [('SPPA', 'FST'), 0], [('SPPA', 'CODE'), 0], [('SPPA', 'HUM'), 0], [('SPPA', 'INTS'), 0], [('SPPA', 'CHEM'), 0], [('SPPA', 'SPE'), 0], [('SPPA', 'MUS'), 0], [('SPPA', 'THEA'), 0], [('SPPA', 'MKTG'), 0], [('SPPA', 'ACCT'), 0], [('SPPA', 'MRE'), 0], [('SPPA', 'AS'), 0], [('SPPA', 'PSYC'), 0], [('SPPA', 'FIN'), 0], [('SPPA', 'DANC'), 0], [('SPPA', 'GER'), 0], [('SPPA', 'HED'), 0], [('SPPA', 'SCI'), 0], [('SPPA', 'PHEL'), 0], [('SPPA', 'SOC'), 0], [('SPPA', 'EDFD'), 0], [('SPPA', 'GBA'), 0], [('SPPA', 'PHIL'), 0], [('SPPA', 'IE'), 0], [('SPPA', 'MGMT'), 0], [('SPPA', 'CI'), 0], [('SPPA', 'SOCW'), 0], [('SPPA', 'ME'), 0], [('SCM', 'SAB'), 0], [('SCM', 'CIED'), 0], [('SCM', 'INTG'), 0], [('SCM', 'MC'), 0], [('SCM', 'ENSC'), 0], [('SCM', 'GRK'), 0], [('SCM', 'EPFR'), 0], [('SCM', 'ART'), 0], [('SCM', 'PHYS'), 0], [('SCM', 'UNIV'), 0], [('SCM', 'PBHE'), 0], [('SCM', 'STAT'), 0], [('SCM', 'HIST'), 0], [('SCM', 'ACS'), 0], [('SCM', 'ARA'), 0], [('SCM', 'HONS'), 0], [('SCM', 'ANTH'), 0], [('SCM', 'ENG'), 0], [('SCM', 'FR'), 0], [('SCM', 'ITAL'), 0], [('SCM', 'NUTR'), 0], [('SCM', 'GEOG'), 0], [('SCM', 'ECE'), 0], [('SCM', 'PROD'), 0], [('SCM', 'ESCI'), 0], [('SCM', 'KIN'), 0], [('SCM', 'CJ'), 0], [('SCM', 'CNST'), 0], [('SCM', 'ECON'), 0], [('SCM', 'WMST'), 0], [('SCM', 'CE'), 0], [('SCM', 'RA'), 0], [('SCM', 'FAC'), 0], [('SCM', 'RUSS'), 0], [('SCM', 'POLS'), 0], [('SCM', 'PAPA'), 0], [('SCM', 'MATH'), 0], [('SCM', 'QR'), 0], [('SCM', 'CS'), 0], [('SCM', 'SPAN'), 0], [('SCM', 'FL'), 0], [('SCM', 'EDUC'), 0], [('SCM', 'NURS'), 0], [('SCM', 'SPPA'), 0], [('SCM', 'SCM'), 0], [('SCM', 'IS'), 0], [('SCM', 'AD'), 0], [('SCM', 'IT'), 0], [('SCM', 'LIBS'), 0], [('SCM', 'OR'), 0], [('SCM', 'CMIS'), 0], [('SCM', 'LAT'), 0], [('SCM', 'CHIN'), 0], [('SCM', 'BIOL'), 0], [('SCM', 'SURV'), 0], [('SCM', 'MS'), 0], [('SCM', 'MSC'), 0], [('SCM', 'FST'), 0], [('SCM', 'CODE'), 0], [('SCM', 'HUM'), 0], [('SCM', 'INTS'), 0], [('SCM', 'CHEM'), 0], [('SCM', 'SPE'), 0], [('SCM', 'MUS'), 0], [('SCM', 'THEA'), 0], [('SCM', 'MKTG'), 0], [('SCM', 'ACCT'), 0], [('SCM', 'MRE'), 0], [('SCM', 'AS'), 0], [('SCM', 'PSYC'), 0], [('SCM', 'FIN'), 0], [('SCM', 'DANC'), 0], [('SCM', 'GER'), 0], [('SCM', 'HED'), 0], [('SCM', 'SCI'), 0], [('SCM', 'PHEL'), 0], [('SCM', 'SOC'), 0], [('SCM', 'EDFD'), 0], [('SCM', 'GBA'), 0], [('SCM', 'PHIL'), 0], [('SCM', 'IE'), 0], [('SCM', 'MGMT'), 0], [('SCM', 'CI'), 0], [('SCM', 'SOCW'), 0], [('SCM', 'ME'), 0], [('IS', 'SAB'), 0], [('IS', 'CIED'), 0], [('IS', 'INTG'), 0], [('IS', 'MC'), 0], [('IS', 'ENSC'), 0], [('IS', 'GRK'), 0], [('IS', 'EPFR'), 0], [('IS', 'ART'), 0], [('IS', 'PHYS'), 0], [('IS', 'UNIV'), 0], [('IS', 'PBHE'), 0], [('IS', 'STAT'), 0], [('IS', 'HIST'), 0], [('IS', 'ACS'), 0], [('IS', 'ARA'), 0], [('IS', 'HONS'), 0], [('IS', 'ANTH'), 0], [('IS', 'ENG'), 0], [('IS', 'FR'), 0], [('IS', 'ITAL'), 0], [('IS', 'NUTR'), 0], [('IS', 'GEOG'), 0], [('IS', 'ECE'), 0], [('IS', 'PROD'), 0], [('IS', 'ESCI'), 0], [('IS', 'KIN'), 0], [('IS', 'CJ'), 0], [('IS', 'CNST'), 0], [('IS', 'ECON'), 0], [('IS', 'WMST'), 0], [('IS', 'CE'), 0], [('IS', 'RA'), 0], [('IS', 'FAC'), 0], [('IS', 'RUSS'), 0], [('IS', 'POLS'), 0], [('IS', 'PAPA'), 0], [('IS', 'MATH'), 0], [('IS', 'QR'), 0], [('IS', 'CS'), 0], [('IS', 'SPAN'), 0], [('IS', 'FL'), 0], [('IS', 'EDUC'), 0], [('IS', 'NURS'), 0], [('IS', 'SPPA'), 0], [('IS', 'SCM'), 0], [('IS', 'IS'), 0], [('IS', 'AD'), 0], [('IS', 'IT'), 0], [('IS', 'LIBS'), 0], [('IS', 'OR'), 0], [('IS', 'CMIS'), 0], [('IS', 'LAT'), 0], [('IS', 'CHIN'), 0], [('IS', 'BIOL'), 0], [('IS', 'SURV'), 0], [('IS', 'MS'), 0], [('IS', 'MSC'), 0], [('IS', 'FST'), 0], [('IS', 'CODE'), 0], [('IS', 'HUM'), 0], [('IS', 'INTS'), 0], [('IS', 'CHEM'), 0], [('IS', 'SPE'), 0], [('IS', 'MUS'), 0], [('IS', 'THEA'), 0], [('IS', 'MKTG'), 0], [('IS', 'ACCT'), 0], [('IS', 'MRE'), 0], [('IS', 'AS'), 0], [('IS', 'PSYC'), 0], [('IS', 'FIN'), 0], [('IS', 'DANC'), 0], [('IS', 'GER'), 0], [('IS', 'HED'), 0], [('IS', 'SCI'), 0], [('IS', 'PHEL'), 0], [('IS', 'SOC'), 0], [('IS', 'EDFD'), 0], [('IS', 'GBA'), 0], [('IS', 'PHIL'), 0], [('IS', 'IE'), 0], [('IS', 'MGMT'), 0], [('IS', 'CI'), 0], [('IS', 'SOCW'), 0], [('IS', 'ME'), 0], [('AD', 'SAB'), 0], [('AD', 'CIED'), 0], [('AD', 'INTG'), 0], [('AD', 'MC'), 0], [('AD', 'ENSC'), 0], [('AD', 'GRK'), 0], [('AD', 'EPFR'), 0], [('AD', 'ART'), 0], [('AD', 'PHYS'), 0], [('AD', 'UNIV'), 0], [('AD', 'PBHE'), 0], [('AD', 'STAT'), 0], [('AD', 'HIST'), 0], [('AD', 'ACS'), 0], [('AD', 'ARA'), 0], [('AD', 'HONS'), 0], [('AD', 'ANTH'), 0], [('AD', 'ENG'), 0], [('AD', 'FR'), 0], [('AD', 'ITAL'), 0], [('AD', 'NUTR'), 0], [('AD', 'GEOG'), 0], [('AD', 'ECE'), 0], [('AD', 'PROD'), 0], [('AD', 'ESCI'), 0], [('AD', 'KIN'), 0], [('AD', 'CJ'), 0], [('AD', 'CNST'), 0], [('AD', 'ECON'), 0], [('AD', 'WMST'), 0], [('AD', 'CE'), 0], [('AD', 'RA'), 0], [('AD', 'FAC'), 0], [('AD', 'RUSS'), 0], [('AD', 'POLS'), 0], [('AD', 'PAPA'), 0], [('AD', 'MATH'), 0], [('AD', 'QR'), 0], [('AD', 'CS'), 0], [('AD', 'SPAN'), 0], [('AD', 'FL'), 0], [('AD', 'EDUC'), 0], [('AD', 'NURS'), 0], [('AD', 'SPPA'), 0], [('AD', 'SCM'), 0], [('AD', 'IS'), 0], [('AD', 'AD'), 0], [('AD', 'IT'), 0], [('AD', 'LIBS'), 0], [('AD', 'OR'), 0], [('AD', 'CMIS'), 0], [('AD', 'LAT'), 0], [('AD', 'CHIN'), 0], [('AD', 'BIOL'), 0], [('AD', 'SURV'), 0], [('AD', 'MS'), 0], [('AD', 'MSC'), 0], [('AD', 'FST'), 0], [('AD', 'CODE'), 0], [('AD', 'HUM'), 0], [('AD', 'INTS'), 0], [('AD', 'CHEM'), 0], [('AD', 'SPE'), 0], [('AD', 'MUS'), 0], [('AD', 'THEA'), 0], [('AD', 'MKTG'), 0], [('AD', 'ACCT'), 0], [('AD', 'MRE'), 0], [('AD', 'AS'), 0], [('AD', 'PSYC'), 0], [('AD', 'FIN'), 0], [('AD', 'DANC'), 0], [('AD', 'GER'), 0], [('AD', 'HED'), 0], [('AD', 'SCI'), 0], [('AD', 'PHEL'), 0], [('AD', 'SOC'), 0], [('AD', 'EDFD'), 0], [('AD', 'GBA'), 0], [('AD', 'PHIL'), 0], [('AD', 'IE'), 0], [('AD', 'MGMT'), 0], [('AD', 'CI'), 0], [('AD', 'SOCW'), 0], [('AD', 'ME'), 0], [('IT', 'SAB'), 0], [('IT', 'CIED'), 0], [('IT', 'INTG'), 0], [('IT', 'MC'), 0], [('IT', 'ENSC'), 0], [('IT', 'GRK'), 0], [('IT', 'EPFR'), 0], [('IT', 'ART'), 0], [('IT', 'PHYS'), 0], [('IT', 'UNIV'), 0], [('IT', 'PBHE'), 0], [('IT', 'STAT'), 0], [('IT', 'HIST'), 0], [('IT', 'ACS'), 0], [('IT', 'ARA'), 0], [('IT', 'HONS'), 0], [('IT', 'ANTH'), 0], [('IT', 'ENG'), 0], [('IT', 'FR'), 0], [('IT', 'ITAL'), 0], [('IT', 'NUTR'), 0], [('IT', 'GEOG'), 0], [('IT', 'ECE'), 0], [('IT', 'PROD'), 0], [('IT', 'ESCI'), 0], [('IT', 'KIN'), 0], [('IT', 'CJ'), 0], [('IT', 'CNST'), 0], [('IT', 'ECON'), 0], [('IT', 'WMST'), 0], [('IT', 'CE'), 0], [('IT', 'RA'), 0], [('IT', 'FAC'), 0], [('IT', 'RUSS'), 0], [('IT', 'POLS'), 0], [('IT', 'PAPA'), 0], [('IT', 'MATH'), 0], [('IT', 'QR'), 0], [('IT', 'CS'), 0], [('IT', 'SPAN'), 0], [('IT', 'FL'), 0], [('IT', 'EDUC'), 0], [('IT', 'NURS'), 0], [('IT', 'SPPA'), 0], [('IT', 'SCM'), 0], [('IT', 'IS'), 0], [('IT', 'AD'), 0], [('IT', 'IT'), 0], [('IT', 'LIBS'), 0], [('IT', 'OR'), 0], [('IT', 'CMIS'), 0], [('IT', 'LAT'), 0], [('IT', 'CHIN'), 0], [('IT', 'BIOL'), 0], [('IT', 'SURV'), 0], [('IT', 'MS'), 0], [('IT', 'MSC'), 0], [('IT', 'FST'), 0], [('IT', 'CODE'), 0], [('IT', 'HUM'), 0], [('IT', 'INTS'), 0], [('IT', 'CHEM'), 0], [('IT', 'SPE'), 0], [('IT', 'MUS'), 0], [('IT', 'THEA'), 0], [('IT', 'MKTG'), 0], [('IT', 'ACCT'), 0], [('IT', 'MRE'), 0], [('IT', 'AS'), 0], [('IT', 'PSYC'), 0], [('IT', 'FIN'), 0], [('IT', 'DANC'), 0], [('IT', 'GER'), 0], [('IT', 'HED'), 0], [('IT', 'SCI'), 0], [('IT', 'PHEL'), 0], [('IT', 'SOC'), 0], [('IT', 'EDFD'), 0], [('IT', 'GBA'), 0], [('IT', 'PHIL'), 0], [('IT', 'IE'), 0], [('IT', 'MGMT'), 0], [('IT', 'CI'), 0], [('IT', 'SOCW'), 0], [('IT', 'ME'), 0], [('LIBS', 'SAB'), 0], [('LIBS', 'CIED'), 0], [('LIBS', 'INTG'), 0], [('LIBS', 'MC'), 0], [('LIBS', 'ENSC'), 0], [('LIBS', 'GRK'), 0], [('LIBS', 'EPFR'), 0], [('LIBS', 'ART'), 0], [('LIBS', 'PHYS'), 0], [('LIBS', 'UNIV'), 0], [('LIBS', 'PBHE'), 0], [('LIBS', 'STAT'), 0], [('LIBS', 'HIST'), 0], [('LIBS', 'ACS'), 0], [('LIBS', 'ARA'), 0], [('LIBS', 'HONS'), 0], [('LIBS', 'ANTH'), 0], [('LIBS', 'ENG'), 0], [('LIBS', 'FR'), 0], [('LIBS', 'ITAL'), 0], [('LIBS', 'NUTR'), 0], [('LIBS', 'GEOG'), 0], [('LIBS', 'ECE'), 0], [('LIBS', 'PROD'), 0], [('LIBS', 'ESCI'), 0], [('LIBS', 'KIN'), 0], [('LIBS', 'CJ'), 0], [('LIBS', 'CNST'), 0], [('LIBS', 'ECON'), 0], [('LIBS', 'WMST'), 0], [('LIBS', 'CE'), 0], [('LIBS', 'RA'), 0], [('LIBS', 'FAC'), 0], [('LIBS', 'RUSS'), 0], [('LIBS', 'POLS'), 0], [('LIBS', 'PAPA'), 0], [('LIBS', 'MATH'), 0], [('LIBS', 'QR'), 0], [('LIBS', 'CS'), 0], [('LIBS', 'SPAN'), 0], [('LIBS', 'FL'), 0], [('LIBS', 'EDUC'), 0], [('LIBS', 'NURS'), 0], [('LIBS', 'SPPA'), 0], [('LIBS', 'SCM'), 0], [('LIBS', 'IS'), 0], [('LIBS', 'AD'), 0], [('LIBS', 'IT'), 0], [('LIBS', 'LIBS'), 0], [('LIBS', 'OR'), 0], [('LIBS', 'CMIS'), 0], [('LIBS', 'LAT'), 0], [('LIBS', 'CHIN'), 0], [('LIBS', 'BIOL'), 0], [('LIBS', 'SURV'), 0], [('LIBS', 'MS'), 0], [('LIBS', 'MSC'), 0], [('LIBS', 'FST'), 0], [('LIBS', 'CODE'), 0], [('LIBS', 'HUM'), 0], [('LIBS', 'INTS'), 0], [('LIBS', 'CHEM'), 0], [('LIBS', 'SPE'), 0], [('LIBS', 'MUS'), 0], [('LIBS', 'THEA'), 0], [('LIBS', 'MKTG'), 0], [('LIBS', 'ACCT'), 0], [('LIBS', 'MRE'), 0], [('LIBS', 'AS'), 0], [('LIBS', 'PSYC'), 0], [('LIBS', 'FIN'), 0], [('LIBS', 'DANC'), 0], [('LIBS', 'GER'), 0], [('LIBS', 'HED'), 0], [('LIBS', 'SCI'), 0], [('LIBS', 'PHEL'), 0], [('LIBS', 'SOC'), 0], [('LIBS', 'EDFD'), 0], [('LIBS', 'GBA'), 0], [('LIBS', 'PHIL'), 0], [('LIBS', 'IE'), 0], [('LIBS', 'MGMT'), 0], [('LIBS', 'CI'), 0], [('LIBS', 'SOCW'), 0], [('LIBS', 'ME'), 0], [('OR', 'SAB'), 0], [('OR', 'CIED'), 0], [('OR', 'INTG'), 0], [('OR', 'MC'), 0], [('OR', 'ENSC'), 0], [('OR', 'GRK'), 0], [('OR', 'EPFR'), 0], [('OR', 'ART'), 0], [('OR', 'PHYS'), 0], [('OR', 'UNIV'), 0], [('OR', 'PBHE'), 0], [('OR', 'STAT'), 0], [('OR', 'HIST'), 0], [('OR', 'ACS'), 0], [('OR', 'ARA'), 0], [('OR', 'HONS'), 0], [('OR', 'ANTH'), 0], [('OR', 'ENG'), 0], [('OR', 'FR'), 0], [('OR', 'ITAL'), 0], [('OR', 'NUTR'), 0], [('OR', 'GEOG'), 0], [('OR', 'ECE'), 0], [('OR', 'PROD'), 0], [('OR', 'ESCI'), 0], [('OR', 'KIN'), 0], [('OR', 'CJ'), 0], [('OR', 'CNST'), 0], [('OR', 'ECON'), 0], [('OR', 'WMST'), 0], [('OR', 'CE'), 0], [('OR', 'RA'), 0], [('OR', 'FAC'), 0], [('OR', 'RUSS'), 0], [('OR', 'POLS'), 0], [('OR', 'PAPA'), 0], [('OR', 'MATH'), 0], [('OR', 'QR'), 0], [('OR', 'CS'), 0], [('OR', 'SPAN'), 0], [('OR', 'FL'), 0], [('OR', 'EDUC'), 0], [('OR', 'NURS'), 0], [('OR', 'SPPA'), 0], [('OR', 'SCM'), 0], [('OR', 'IS'), 0], [('OR', 'AD'), 0], [('OR', 'IT'), 0], [('OR', 'LIBS'), 0], [('OR', 'OR'), 0], [('OR', 'CMIS'), 0], [('OR', 'LAT'), 0], [('OR', 'CHIN'), 0], [('OR', 'BIOL'), 0], [('OR', 'SURV'), 0], [('OR', 'MS'), 0], [('OR', 'MSC'), 0], [('OR', 'FST'), 0], [('OR', 'CODE'), 0], [('OR', 'HUM'), 0], [('OR', 'INTS'), 0], [('OR', 'CHEM'), 0], [('OR', 'SPE'), 0], [('OR', 'MUS'), 0], [('OR', 'THEA'), 0], [('OR', 'MKTG'), 0], [('OR', 'ACCT'), 0], [('OR', 'MRE'), 0], [('OR', 'AS'), 0], [('OR', 'PSYC'), 0], [('OR', 'FIN'), 0], [('OR', 'DANC'), 0], [('OR', 'GER'), 0], [('OR', 'HED'), 0], [('OR', 'SCI'), 0], [('OR', 'PHEL'), 0], [('OR', 'SOC'), 0], [('OR', 'EDFD'), 0], [('OR', 'GBA'), 0], [('OR', 'PHIL'), 0], [('OR', 'IE'), 0], [('OR', 'MGMT'), 0], [('OR', 'CI'), 0], [('OR', 'SOCW'), 0], [('OR', 'ME'), 0], [('CMIS', 'SAB'), 0], [('CMIS', 'CIED'), 0], [('CMIS', 'INTG'), 0], [('CMIS', 'MC'), 0], [('CMIS', 'ENSC'), 0], [('CMIS', 'GRK'), 0], [('CMIS', 'EPFR'), 0], [('CMIS', 'ART'), 0], [('CMIS', 'PHYS'), 0], [('CMIS', 'UNIV'), 0], [('CMIS', 'PBHE'), 0], [('CMIS', 'STAT'), 0], [('CMIS', 'HIST'), 0], [('CMIS', 'ACS'), 0], [('CMIS', 'ARA'), 0], [('CMIS', 'HONS'), 0], [('CMIS', 'ANTH'), 0], [('CMIS', 'ENG'), 0], [('CMIS', 'FR'), 0], [('CMIS', 'ITAL'), 0], [('CMIS', 'NUTR'), 0], [('CMIS', 'GEOG'), 0], [('CMIS', 'ECE'), 0], [('CMIS', 'PROD'), 0], [('CMIS', 'ESCI'), 0], [('CMIS', 'KIN'), 0], [('CMIS', 'CJ'), 0], [('CMIS', 'CNST'), 0], [('CMIS', 'ECON'), 0], [('CMIS', 'WMST'), 0], [('CMIS', 'CE'), 0], [('CMIS', 'RA'), 0], [('CMIS', 'FAC'), 0], [('CMIS', 'RUSS'), 0], [('CMIS', 'POLS'), 0], [('CMIS', 'PAPA'), 0], [('CMIS', 'MATH'), 0], [('CMIS', 'QR'), 0], [('CMIS', 'CS'), 0], [('CMIS', 'SPAN'), 0], [('CMIS', 'FL'), 0], [('CMIS', 'EDUC'), 0], [('CMIS', 'NURS'), 0], [('CMIS', 'SPPA'), 0], [('CMIS', 'SCM'), 0], [('CMIS', 'IS'), 0], [('CMIS', 'AD'), 0], [('CMIS', 'IT'), 0], [('CMIS', 'LIBS'), 0], [('CMIS', 'OR'), 0], [('CMIS', 'CMIS'), 0], [('CMIS', 'LAT'), 0], [('CMIS', 'CHIN'), 0], [('CMIS', 'BIOL'), 0], [('CMIS', 'SURV'), 0], [('CMIS', 'MS'), 0], [('CMIS', 'MSC'), 0], [('CMIS', 'FST'), 0], [('CMIS', 'CODE'), 0], [('CMIS', 'HUM'), 0], [('CMIS', 'INTS'), 0], [('CMIS', 'CHEM'), 0], [('CMIS', 'SPE'), 0], [('CMIS', 'MUS'), 0], [('CMIS', 'THEA'), 0], [('CMIS', 'MKTG'), 0], [('CMIS', 'ACCT'), 0], [('CMIS', 'MRE'), 0], [('CMIS', 'AS'), 0], [('CMIS', 'PSYC'), 0], [('CMIS', 'FIN'), 0], [('CMIS', 'DANC'), 0], [('CMIS', 'GER'), 0], [('CMIS', 'HED'), 0], [('CMIS', 'SCI'), 0], [('CMIS', 'PHEL'), 0], [('CMIS', 'SOC'), 0], [('CMIS', 'EDFD'), 0], [('CMIS', 'GBA'), 0], [('CMIS', 'PHIL'), 0], [('CMIS', 'IE'), 0], [('CMIS', 'MGMT'), 0], [('CMIS', 'CI'), 0], [('CMIS', 'SOCW'), 0], [('CMIS', 'ME'), 0], [('LAT', 'SAB'), 0], [('LAT', 'CIED'), 0], [('LAT', 'INTG'), 0], [('LAT', 'MC'), 0], [('LAT', 'ENSC'), 0], [('LAT', 'GRK'), 0], [('LAT', 'EPFR'), 0], [('LAT', 'ART'), 0], [('LAT', 'PHYS'), 0], [('LAT', 'UNIV'), 0], [('LAT', 'PBHE'), 0], [('LAT', 'STAT'), 0], [('LAT', 'HIST'), 0], [('LAT', 'ACS'), 0], [('LAT', 'ARA'), 0], [('LAT', 'HONS'), 0], [('LAT', 'ANTH'), 0], [('LAT', 'ENG'), 0], [('LAT', 'FR'), 0], [('LAT', 'ITAL'), 0], [('LAT', 'NUTR'), 0], [('LAT', 'GEOG'), 0], [('LAT', 'ECE'), 0], [('LAT', 'PROD'), 0], [('LAT', 'ESCI'), 0], [('LAT', 'KIN'), 0], [('LAT', 'CJ'), 0], [('LAT', 'CNST'), 0], [('LAT', 'ECON'), 0], [('LAT', 'WMST'), 0], [('LAT', 'CE'), 0], [('LAT', 'RA'), 0], [('LAT', 'FAC'), 0], [('LAT', 'RUSS'), 0], [('LAT', 'POLS'), 0], [('LAT', 'PAPA'), 0], [('LAT', 'MATH'), 0], [('LAT', 'QR'), 0], [('LAT', 'CS'), 0], [('LAT', 'SPAN'), 0], [('LAT', 'FL'), 0], [('LAT', 'EDUC'), 0], [('LAT', 'NURS'), 0], [('LAT', 'SPPA'), 0], [('LAT', 'SCM'), 0], [('LAT', 'IS'), 0], [('LAT', 'AD'), 0], [('LAT', 'IT'), 0], [('LAT', 'LIBS'), 0], [('LAT', 'OR'), 0], [('LAT', 'CMIS'), 0], [('LAT', 'LAT'), 0], [('LAT', 'CHIN'), 0], [('LAT', 'BIOL'), 0], [('LAT', 'SURV'), 0], [('LAT', 'MS'), 0], [('LAT', 'MSC'), 0], [('LAT', 'FST'), 0], [('LAT', 'CODE'), 0], [('LAT', 'HUM'), 0], [('LAT', 'INTS'), 0], [('LAT', 'CHEM'), 0], [('LAT', 'SPE'), 0], [('LAT', 'MUS'), 0], [('LAT', 'THEA'), 0], [('LAT', 'MKTG'), 0], [('LAT', 'ACCT'), 0], [('LAT', 'MRE'), 0], [('LAT', 'AS'), 0], [('LAT', 'PSYC'), 0], [('LAT', 'FIN'), 0], [('LAT', 'DANC'), 0], [('LAT', 'GER'), 0], [('LAT', 'HED'), 0], [('LAT', 'SCI'), 0], [('LAT', 'PHEL'), 0], [('LAT', 'SOC'), 0], [('LAT', 'EDFD'), 0], [('LAT', 'GBA'), 0], [('LAT', 'PHIL'), 0], [('LAT', 'IE'), 0], [('LAT', 'MGMT'), 0], [('LAT', 'CI'), 0], [('LAT', 'SOCW'), 0], [('LAT', 'ME'), 0], [('CHIN', 'SAB'), 0], [('CHIN', 'CIED'), 0], [('CHIN', 'INTG'), 0], [('CHIN', 'MC'), 0], [('CHIN', 'ENSC'), 0], [('CHIN', 'GRK'), 0], [('CHIN', 'EPFR'), 0], [('CHIN', 'ART'), 0], [('CHIN', 'PHYS'), 0], [('CHIN', 'UNIV'), 0], [('CHIN', 'PBHE'), 0], [('CHIN', 'STAT'), 0], [('CHIN', 'HIST'), 0], [('CHIN', 'ACS'), 0], [('CHIN', 'ARA'), 0], [('CHIN', 'HONS'), 0], [('CHIN', 'ANTH'), 0], [('CHIN', 'ENG'), 0], [('CHIN', 'FR'), 0], [('CHIN', 'ITAL'), 0], [('CHIN', 'NUTR'), 0], [('CHIN', 'GEOG'), 0], [('CHIN', 'ECE'), 0], [('CHIN', 'PROD'), 0], [('CHIN', 'ESCI'), 0], [('CHIN', 'KIN'), 0], [('CHIN', 'CJ'), 0], [('CHIN', 'CNST'), 0], [('CHIN', 'ECON'), 0], [('CHIN', 'WMST'), 0], [('CHIN', 'CE'), 0], [('CHIN', 'RA'), 0], [('CHIN', 'FAC'), 0], [('CHIN', 'RUSS'), 0], [('CHIN', 'POLS'), 0], [('CHIN', 'PAPA'), 0], [('CHIN', 'MATH'), 0], [('CHIN', 'QR'), 0], [('CHIN', 'CS'), 0], [('CHIN', 'SPAN'), 0], [('CHIN', 'FL'), 0], [('CHIN', 'EDUC'), 0], [('CHIN', 'NURS'), 0], [('CHIN', 'SPPA'), 0], [('CHIN', 'SCM'), 0], [('CHIN', 'IS'), 0], [('CHIN', 'AD'), 0], [('CHIN', 'IT'), 0], [('CHIN', 'LIBS'), 0], [('CHIN', 'OR'), 0], [('CHIN', 'CMIS'), 0], [('CHIN', 'LAT'), 0], [('CHIN', 'CHIN'), 0], [('CHIN', 'BIOL'), 0], [('CHIN', 'SURV'), 0], [('CHIN', 'MS'), 0], [('CHIN', 'MSC'), 0], [('CHIN', 'FST'), 0], [('CHIN', 'CODE'), 0], [('CHIN', 'HUM'), 0], [('CHIN', 'INTS'), 0], [('CHIN', 'CHEM'), 0], [('CHIN', 'SPE'), 0], [('CHIN', 'MUS'), 0], [('CHIN', 'THEA'), 0], [('CHIN', 'MKTG'), 0], [('CHIN', 'ACCT'), 0], [('CHIN', 'MRE'), 0], [('CHIN', 'AS'), 0], [('CHIN', 'PSYC'), 0], [('CHIN', 'FIN'), 0], [('CHIN', 'DANC'), 0], [('CHIN', 'GER'), 0], [('CHIN', 'HED'), 0], [('CHIN', 'SCI'), 0], [('CHIN', 'PHEL'), 0], [('CHIN', 'SOC'), 0], [('CHIN', 'EDFD'), 0], [('CHIN', 'GBA'), 0], [('CHIN', 'PHIL'), 0], [('CHIN', 'IE'), 0], [('CHIN', 'MGMT'), 0], [('CHIN', 'CI'), 0], [('CHIN', 'SOCW'), 0], [('CHIN', 'ME'), 0], [('BIOL', 'SAB'), 0], [('BIOL', 'CIED'), 0], [('BIOL', 'INTG'), 0], [('BIOL', 'MC'), 0], [('BIOL', 'ENSC'), 0], [('BIOL', 'GRK'), 0], [('BIOL', 'EPFR'), 0], [('BIOL', 'ART'), 0], [('BIOL', 'PHYS'), 0], [('BIOL', 'UNIV'), 0], [('BIOL', 'PBHE'), 0], [('BIOL', 'STAT'), 0], [('BIOL', 'HIST'), 0], [('BIOL', 'ACS'), 0], [('BIOL', 'ARA'), 0], [('BIOL', 'HONS'), 0], [('BIOL', 'ANTH'), 0], [('BIOL', 'ENG'), 0], [('BIOL', 'FR'), 0], [('BIOL', 'ITAL'), 0], [('BIOL', 'NUTR'), 0], [('BIOL', 'GEOG'), 0], [('BIOL', 'ECE'), 0], [('BIOL', 'PROD'), 0], [('BIOL', 'ESCI'), 0], [('BIOL', 'KIN'), 0], [('BIOL', 'CJ'), 0], [('BIOL', 'CNST'), 0], [('BIOL', 'ECON'), 0], [('BIOL', 'WMST'), 0], [('BIOL', 'CE'), 0], [('BIOL', 'RA'), 0], [('BIOL', 'FAC'), 0], [('BIOL', 'RUSS'), 0], [('BIOL', 'POLS'), 0], [('BIOL', 'PAPA'), 0], [('BIOL', 'MATH'), 0], [('BIOL', 'QR'), 0], [('BIOL', 'CS'), 0], [('BIOL', 'SPAN'), 0], [('BIOL', 'FL'), 0], [('BIOL', 'EDUC'), 0], [('BIOL', 'NURS'), 0], [('BIOL', 'SPPA'), 0], [('BIOL', 'SCM'), 0], [('BIOL', 'IS'), 0], [('BIOL', 'AD'), 0], [('BIOL', 'IT'), 0], [('BIOL', 'LIBS'), 0], [('BIOL', 'OR'), 0], [('BIOL', 'CMIS'), 0], [('BIOL', 'LAT'), 0], [('BIOL', 'CHIN'), 0], [('BIOL', 'BIOL'), 0], [('BIOL', 'SURV'), 0], [('BIOL', 'MS'), 0], [('BIOL', 'MSC'), 0], [('BIOL', 'FST'), 0], [('BIOL', 'CODE'), 0], [('BIOL', 'HUM'), 0], [('BIOL', 'INTS'), 0], [('BIOL', 'CHEM'), 0], [('BIOL', 'SPE'), 0], [('BIOL', 'MUS'), 0], [('BIOL', 'THEA'), 0], [('BIOL', 'MKTG'), 0], [('BIOL', 'ACCT'), 0], [('BIOL', 'MRE'), 0], [('BIOL', 'AS'), 0], [('BIOL', 'PSYC'), 0], [('BIOL', 'FIN'), 0], [('BIOL', 'DANC'), 0], [('BIOL', 'GER'), 0], [('BIOL', 'HED'), 0], [('BIOL', 'SCI'), 0], [('BIOL', 'PHEL'), 0], [('BIOL', 'SOC'), 0], [('BIOL', 'EDFD'), 0], [('BIOL', 'GBA'), 0], [('BIOL', 'PHIL'), 0], [('BIOL', 'IE'), 0], [('BIOL', 'MGMT'), 0], [('BIOL', 'CI'), 0], [('BIOL', 'SOCW'), 0], [('BIOL', 'ME'), 0], [('SURV', 'SAB'), 0], [('SURV', 'CIED'), 0], [('SURV', 'INTG'), 0], [('SURV', 'MC'), 0], [('SURV', 'ENSC'), 0], [('SURV', 'GRK'), 0], [('SURV', 'EPFR'), 0], [('SURV', 'ART'), 0], [('SURV', 'PHYS'), 0], [('SURV', 'UNIV'), 0], [('SURV', 'PBHE'), 0], [('SURV', 'STAT'), 0], [('SURV', 'HIST'), 0], [('SURV', 'ACS'), 0], [('SURV', 'ARA'), 0], [('SURV', 'HONS'), 0], [('SURV', 'ANTH'), 0], [('SURV', 'ENG'), 0], [('SURV', 'FR'), 0], [('SURV', 'ITAL'), 0], [('SURV', 'NUTR'), 0], [('SURV', 'GEOG'), 0], [('SURV', 'ECE'), 0], [('SURV', 'PROD'), 0], [('SURV', 'ESCI'), 0], [('SURV', 'KIN'), 0], [('SURV', 'CJ'), 0], [('SURV', 'CNST'), 0], [('SURV', 'ECON'), 0], [('SURV', 'WMST'), 0], [('SURV', 'CE'), 0], [('SURV', 'RA'), 0], [('SURV', 'FAC'), 0], [('SURV', 'RUSS'), 0], [('SURV', 'POLS'), 0], [('SURV', 'PAPA'), 0], [('SURV', 'MATH'), 0], [('SURV', 'QR'), 0], [('SURV', 'CS'), 0], [('SURV', 'SPAN'), 0], [('SURV', 'FL'), 0], [('SURV', 'EDUC'), 0], [('SURV', 'NURS'), 0], [('SURV', 'SPPA'), 0], [('SURV', 'SCM'), 0], [('SURV', 'IS'), 0], [('SURV', 'AD'), 0], [('SURV', 'IT'), 0], [('SURV', 'LIBS'), 0], [('SURV', 'OR'), 0], [('SURV', 'CMIS'), 0], [('SURV', 'LAT'), 0], [('SURV', 'CHIN'), 0], [('SURV', 'BIOL'), 0], [('SURV', 'SURV'), 0], [('SURV', 'MS'), 0], [('SURV', 'MSC'), 0], [('SURV', 'FST'), 0], [('SURV', 'CODE'), 0], [('SURV', 'HUM'), 0], [('SURV', 'INTS'), 0], [('SURV', 'CHEM'), 0], [('SURV', 'SPE'), 0], [('SURV', 'MUS'), 0], [('SURV', 'THEA'), 0], [('SURV', 'MKTG'), 0], [('SURV', 'ACCT'), 0], [('SURV', 'MRE'), 0], [('SURV', 'AS'), 0], [('SURV', 'PSYC'), 0], [('SURV', 'FIN'), 0], [('SURV', 'DANC'), 0], [('SURV', 'GER'), 0], [('SURV', 'HED'), 0], [('SURV', 'SCI'), 0], [('SURV', 'PHEL'), 0], [('SURV', 'SOC'), 0], [('SURV', 'EDFD'), 0], [('SURV', 'GBA'), 0], [('SURV', 'PHIL'), 0], [('SURV', 'IE'), 0], [('SURV', 'MGMT'), 0], [('SURV', 'CI'), 0], [('SURV', 'SOCW'), 0], [('SURV', 'ME'), 0], [('MS', 'SAB'), 0], [('MS', 'CIED'), 0], [('MS', 'INTG'), 0], [('MS', 'MC'), 0], [('MS', 'ENSC'), 0], [('MS', 'GRK'), 0], [('MS', 'EPFR'), 0], [('MS', 'ART'), 0], [('MS', 'PHYS'), 0], [('MS', 'UNIV'), 0], [('MS', 'PBHE'), 0], [('MS', 'STAT'), 0], [('MS', 'HIST'), 0], [('MS', 'ACS'), 0], [('MS', 'ARA'), 0], [('MS', 'HONS'), 0], [('MS', 'ANTH'), 0], [('MS', 'ENG'), 0], [('MS', 'FR'), 0], [('MS', 'ITAL'), 0], [('MS', 'NUTR'), 0], [('MS', 'GEOG'), 0], [('MS', 'ECE'), 0], [('MS', 'PROD'), 0], [('MS', 'ESCI'), 0], [('MS', 'KIN'), 0], [('MS', 'CJ'), 0], [('MS', 'CNST'), 0], [('MS', 'ECON'), 0], [('MS', 'WMST'), 0], [('MS', 'CE'), 0], [('MS', 'RA'), 0], [('MS', 'FAC'), 0], [('MS', 'RUSS'), 0], [('MS', 'POLS'), 0], [('MS', 'PAPA'), 0], [('MS', 'MATH'), 0], [('MS', 'QR'), 0], [('MS', 'CS'), 0], [('MS', 'SPAN'), 0], [('MS', 'FL'), 0], [('MS', 'EDUC'), 0], [('MS', 'NURS'), 0], [('MS', 'SPPA'), 0], [('MS', 'SCM'), 0], [('MS', 'IS'), 0], [('MS', 'AD'), 0], [('MS', 'IT'), 0], [('MS', 'LIBS'), 0], [('MS', 'OR'), 0], [('MS', 'CMIS'), 0], [('MS', 'LAT'), 0], [('MS', 'CHIN'), 0], [('MS', 'BIOL'), 0], [('MS', 'SURV'), 0], [('MS', 'MS'), 0], [('MS', 'MSC'), 0], [('MS', 'FST'), 0], [('MS', 'CODE'), 0], [('MS', 'HUM'), 0], [('MS', 'INTS'), 0], [('MS', 'CHEM'), 0], [('MS', 'SPE'), 0], [('MS', 'MUS'), 0], [('MS', 'THEA'), 0], [('MS', 'MKTG'), 0], [('MS', 'ACCT'), 0], [('MS', 'MRE'), 0], [('MS', 'AS'), 0], [('MS', 'PSYC'), 0], [('MS', 'FIN'), 0], [('MS', 'DANC'), 0], [('MS', 'GER'), 0], [('MS', 'HED'), 0], [('MS', 'SCI'), 0], [('MS', 'PHEL'), 0], [('MS', 'SOC'), 0], [('MS', 'EDFD'), 0], [('MS', 'GBA'), 0], [('MS', 'PHIL'), 0], [('MS', 'IE'), 0], [('MS', 'MGMT'), 0], [('MS', 'CI'), 0], [('MS', 'SOCW'), 0], [('MS', 'ME'), 0], [('MSC', 'SAB'), 0], [('MSC', 'CIED'), 0], [('MSC', 'INTG'), 0], [('MSC', 'MC'), 0], [('MSC', 'ENSC'), 0], [('MSC', 'GRK'), 0], [('MSC', 'EPFR'), 0], [('MSC', 'ART'), 0], [('MSC', 'PHYS'), 0], [('MSC', 'UNIV'), 0], [('MSC', 'PBHE'), 0], [('MSC', 'STAT'), 0], [('MSC', 'HIST'), 0], [('MSC', 'ACS'), 0], [('MSC', 'ARA'), 0], [('MSC', 'HONS'), 0], [('MSC', 'ANTH'), 0], [('MSC', 'ENG'), 0], [('MSC', 'FR'), 0], [('MSC', 'ITAL'), 0], [('MSC', 'NUTR'), 0], [('MSC', 'GEOG'), 0], [('MSC', 'ECE'), 0], [('MSC', 'PROD'), 0], [('MSC', 'ESCI'), 0], [('MSC', 'KIN'), 0], [('MSC', 'CJ'), 0], [('MSC', 'CNST'), 0], [('MSC', 'ECON'), 0], [('MSC', 'WMST'), 0], [('MSC', 'CE'), 0], [('MSC', 'RA'), 0], [('MSC', 'FAC'), 0], [('MSC', 'RUSS'), 0], [('MSC', 'POLS'), 0], [('MSC', 'PAPA'), 0], [('MSC', 'MATH'), 0], [('MSC', 'QR'), 0], [('MSC', 'CS'), 0], [('MSC', 'SPAN'), 0], [('MSC', 'FL'), 0], [('MSC', 'EDUC'), 0], [('MSC', 'NURS'), 0], [('MSC', 'SPPA'), 0], [('MSC', 'SCM'), 0], [('MSC', 'IS'), 0], [('MSC', 'AD'), 0], [('MSC', 'IT'), 0], [('MSC', 'LIBS'), 0], [('MSC', 'OR'), 0], [('MSC', 'CMIS'), 0], [('MSC', 'LAT'), 0], [('MSC', 'CHIN'), 0], [('MSC', 'BIOL'), 0], [('MSC', 'SURV'), 0], [('MSC', 'MS'), 0], [('MSC', 'MSC'), 0], [('MSC', 'FST'), 0], [('MSC', 'CODE'), 0], [('MSC', 'HUM'), 0], [('MSC', 'INTS'), 0], [('MSC', 'CHEM'), 0], [('MSC', 'SPE'), 0], [('MSC', 'MUS'), 0], [('MSC', 'THEA'), 0], [('MSC', 'MKTG'), 0], [('MSC', 'ACCT'), 0], [('MSC', 'MRE'), 0], [('MSC', 'AS'), 0], [('MSC', 'PSYC'), 0], [('MSC', 'FIN'), 0], [('MSC', 'DANC'), 0], [('MSC', 'GER'), 0], [('MSC', 'HED'), 0], [('MSC', 'SCI'), 0], [('MSC', 'PHEL'), 0], [('MSC', 'SOC'), 0], [('MSC', 'EDFD'), 0], [('MSC', 'GBA'), 0], [('MSC', 'PHIL'), 0], [('MSC', 'IE'), 0], [('MSC', 'MGMT'), 0], [('MSC', 'CI'), 0], [('MSC', 'SOCW'), 0], [('MSC', 'ME'), 0], [('FST', 'SAB'), 0], [('FST', 'CIED'), 0], [('FST', 'INTG'), 0], [('FST', 'MC'), 0], [('FST', 'ENSC'), 0], [('FST', 'GRK'), 0], [('FST', 'EPFR'), 0], [('FST', 'ART'), 0], [('FST', 'PHYS'), 0], [('FST', 'UNIV'), 0], [('FST', 'PBHE'), 0], [('FST', 'STAT'), 0], [('FST', 'HIST'), 0], [('FST', 'ACS'), 0], [('FST', 'ARA'), 0], [('FST', 'HONS'), 0], [('FST', 'ANTH'), 0], [('FST', 'ENG'), 0], [('FST', 'FR'), 0], [('FST', 'ITAL'), 0], [('FST', 'NUTR'), 0], [('FST', 'GEOG'), 0], [('FST', 'ECE'), 0], [('FST', 'PROD'), 0], [('FST', 'ESCI'), 0], [('FST', 'KIN'), 0], [('FST', 'CJ'), 0], [('FST', 'CNST'), 0], [('FST', 'ECON'), 0], [('FST', 'WMST'), 0], [('FST', 'CE'), 0], [('FST', 'RA'), 0], [('FST', 'FAC'), 0], [('FST', 'RUSS'), 0], [('FST', 'POLS'), 0], [('FST', 'PAPA'), 0], [('FST', 'MATH'), 0], [('FST', 'QR'), 0], [('FST', 'CS'), 0], [('FST', 'SPAN'), 0], [('FST', 'FL'), 0], [('FST', 'EDUC'), 0], [('FST', 'NURS'), 0], [('FST', 'SPPA'), 0], [('FST', 'SCM'), 0], [('FST', 'IS'), 0], [('FST', 'AD'), 0], [('FST', 'IT'), 0], [('FST', 'LIBS'), 0], [('FST', 'OR'), 0], [('FST', 'CMIS'), 0], [('FST', 'LAT'), 0], [('FST', 'CHIN'), 0], [('FST', 'BIOL'), 0], [('FST', 'SURV'), 0], [('FST', 'MS'), 0], [('FST', 'MSC'), 0], [('FST', 'FST'), 0], [('FST', 'CODE'), 0], [('FST', 'HUM'), 0], [('FST', 'INTS'), 0], [('FST', 'CHEM'), 0], [('FST', 'SPE'), 0], [('FST', 'MUS'), 0], [('FST', 'THEA'), 0], [('FST', 'MKTG'), 0], [('FST', 'ACCT'), 0], [('FST', 'MRE'), 0], [('FST', 'AS'), 0], [('FST', 'PSYC'), 0], [('FST', 'FIN'), 0], [('FST', 'DANC'), 0], [('FST', 'GER'), 0], [('FST', 'HED'), 0], [('FST', 'SCI'), 0], [('FST', 'PHEL'), 0], [('FST', 'SOC'), 0], [('FST', 'EDFD'), 0], [('FST', 'GBA'), 0], [('FST', 'PHIL'), 0], [('FST', 'IE'), 0], [('FST', 'MGMT'), 0], [('FST', 'CI'), 0], [('FST', 'SOCW'), 0], [('FST', 'ME'), 0], [('CODE', 'SAB'), 0], [('CODE', 'CIED'), 0], [('CODE', 'INTG'), 0], [('CODE', 'MC'), 0], [('CODE', 'ENSC'), 0], [('CODE', 'GRK'), 0], [('CODE', 'EPFR'), 0], [('CODE', 'ART'), 0], [('CODE', 'PHYS'), 0], [('CODE', 'UNIV'), 0], [('CODE', 'PBHE'), 0], [('CODE', 'STAT'), 0], [('CODE', 'HIST'), 0], [('CODE', 'ACS'), 0], [('CODE', 'ARA'), 0], [('CODE', 'HONS'), 0], [('CODE', 'ANTH'), 0], [('CODE', 'ENG'), 0], [('CODE', 'FR'), 0], [('CODE', 'ITAL'), 0], [('CODE', 'NUTR'), 0], [('CODE', 'GEOG'), 0], [('CODE', 'ECE'), 0], [('CODE', 'PROD'), 0], [('CODE', 'ESCI'), 0], [('CODE', 'KIN'), 0], [('CODE', 'CJ'), 0], [('CODE', 'CNST'), 0], [('CODE', 'ECON'), 0], [('CODE', 'WMST'), 0], [('CODE', 'CE'), 0], [('CODE', 'RA'), 0], [('CODE', 'FAC'), 0], [('CODE', 'RUSS'), 0], [('CODE', 'POLS'), 0], [('CODE', 'PAPA'), 0], [('CODE', 'MATH'), 0], [('CODE', 'QR'), 0], [('CODE', 'CS'), 0], [('CODE', 'SPAN'), 0], [('CODE', 'FL'), 0], [('CODE', 'EDUC'), 0], [('CODE', 'NURS'), 0], [('CODE', 'SPPA'), 0], [('CODE', 'SCM'), 0], [('CODE', 'IS'), 0], [('CODE', 'AD'), 0], [('CODE', 'IT'), 0], [('CODE', 'LIBS'), 0], [('CODE', 'OR'), 0], [('CODE', 'CMIS'), 0], [('CODE', 'LAT'), 0], [('CODE', 'CHIN'), 0], [('CODE', 'BIOL'), 0], [('CODE', 'SURV'), 0], [('CODE', 'MS'), 0], [('CODE', 'MSC'), 0], [('CODE', 'FST'), 0], [('CODE', 'CODE'), 0], [('CODE', 'HUM'), 0], [('CODE', 'INTS'), 0], [('CODE', 'CHEM'), 0], [('CODE', 'SPE'), 0], [('CODE', 'MUS'), 0], [('CODE', 'THEA'), 0], [('CODE', 'MKTG'), 0], [('CODE', 'ACCT'), 0], [('CODE', 'MRE'), 0], [('CODE', 'AS'), 0], [('CODE', 'PSYC'), 0], [('CODE', 'FIN'), 0], [('CODE', 'DANC'), 0], [('CODE', 'GER'), 0], [('CODE', 'HED'), 0], [('CODE', 'SCI'), 0], [('CODE', 'PHEL'), 0], [('CODE', 'SOC'), 0], [('CODE', 'EDFD'), 0], [('CODE', 'GBA'), 0], [('CODE', 'PHIL'), 0], [('CODE', 'IE'), 0], [('CODE', 'MGMT'), 0], [('CODE', 'CI'), 0], [('CODE', 'SOCW'), 0], [('CODE', 'ME'), 0], [('HUM', 'SAB'), 0], [('HUM', 'CIED'), 0], [('HUM', 'INTG'), 0], [('HUM', 'MC'), 0], [('HUM', 'ENSC'), 0], [('HUM', 'GRK'), 0], [('HUM', 'EPFR'), 0], [('HUM', 'ART'), 0], [('HUM', 'PHYS'), 0], [('HUM', 'UNIV'), 0], [('HUM', 'PBHE'), 0], [('HUM', 'STAT'), 0], [('HUM', 'HIST'), 0], [('HUM', 'ACS'), 0], [('HUM', 'ARA'), 0], [('HUM', 'HONS'), 0], [('HUM', 'ANTH'), 0], [('HUM', 'ENG'), 0], [('HUM', 'FR'), 0], [('HUM', 'ITAL'), 0], [('HUM', 'NUTR'), 0], [('HUM', 'GEOG'), 0], [('HUM', 'ECE'), 0], [('HUM', 'PROD'), 0], [('HUM', 'ESCI'), 0], [('HUM', 'KIN'), 0], [('HUM', 'CJ'), 0], [('HUM', 'CNST'), 0], [('HUM', 'ECON'), 0], [('HUM', 'WMST'), 0], [('HUM', 'CE'), 0], [('HUM', 'RA'), 0], [('HUM', 'FAC'), 0], [('HUM', 'RUSS'), 0], [('HUM', 'POLS'), 0], [('HUM', 'PAPA'), 0], [('HUM', 'MATH'), 0], [('HUM', 'QR'), 0], [('HUM', 'CS'), 0], [('HUM', 'SPAN'), 0], [('HUM', 'FL'), 0], [('HUM', 'EDUC'), 0], [('HUM', 'NURS'), 0], [('HUM', 'SPPA'), 0], [('HUM', 'SCM'), 0], [('HUM', 'IS'), 0], [('HUM', 'AD'), 0], [('HUM', 'IT'), 0], [('HUM', 'LIBS'), 0], [('HUM', 'OR'), 0], [('HUM', 'CMIS'), 0], [('HUM', 'LAT'), 0], [('HUM', 'CHIN'), 0], [('HUM', 'BIOL'), 0], [('HUM', 'SURV'), 0], [('HUM', 'MS'), 0], [('HUM', 'MSC'), 0], [('HUM', 'FST'), 0], [('HUM', 'CODE'), 0], [('HUM', 'HUM'), 0], [('HUM', 'INTS'), 0], [('HUM', 'CHEM'), 0], [('HUM', 'SPE'), 0], [('HUM', 'MUS'), 0], [('HUM', 'THEA'), 0], [('HUM', 'MKTG'), 0], [('HUM', 'ACCT'), 0], [('HUM', 'MRE'), 0], [('HUM', 'AS'), 0], [('HUM', 'PSYC'), 0], [('HUM', 'FIN'), 0], [('HUM', 'DANC'), 0], [('HUM', 'GER'), 0], [('HUM', 'HED'), 0], [('HUM', 'SCI'), 0], [('HUM', 'PHEL'), 0], [('HUM', 'SOC'), 0], [('HUM', 'EDFD'), 0], [('HUM', 'GBA'), 0], [('HUM', 'PHIL'), 0], [('HUM', 'IE'), 0], [('HUM', 'MGMT'), 0], [('HUM', 'CI'), 0], [('HUM', 'SOCW'), 0], [('HUM', 'ME'), 0], [('INTS', 'SAB'), 0], [('INTS', 'CIED'), 0], [('INTS', 'INTG'), 0], [('INTS', 'MC'), 0], [('INTS', 'ENSC'), 0], [('INTS', 'GRK'), 0], [('INTS', 'EPFR'), 0], [('INTS', 'ART'), 0], [('INTS', 'PHYS'), 0], [('INTS', 'UNIV'), 0], [('INTS', 'PBHE'), 0], [('INTS', 'STAT'), 0], [('INTS', 'HIST'), 0], [('INTS', 'ACS'), 0], [('INTS', 'ARA'), 0], [('INTS', 'HONS'), 0], [('INTS', 'ANTH'), 0], [('INTS', 'ENG'), 0], [('INTS', 'FR'), 0], [('INTS', 'ITAL'), 0], [('INTS', 'NUTR'), 0], [('INTS', 'GEOG'), 0], [('INTS', 'ECE'), 0], [('INTS', 'PROD'), 0], [('INTS', 'ESCI'), 0], [('INTS', 'KIN'), 0], [('INTS', 'CJ'), 0], [('INTS', 'CNST'), 0], [('INTS', 'ECON'), 0], [('INTS', 'WMST'), 0], [('INTS', 'CE'), 0], [('INTS', 'RA'), 0], [('INTS', 'FAC'), 0], [('INTS', 'RUSS'), 0], [('INTS', 'POLS'), 0], [('INTS', 'PAPA'), 0], [('INTS', 'MATH'), 0], [('INTS', 'QR'), 0], [('INTS', 'CS'), 0], [('INTS', 'SPAN'), 0], [('INTS', 'FL'), 0], [('INTS', 'EDUC'), 0], [('INTS', 'NURS'), 0], [('INTS', 'SPPA'), 0], [('INTS', 'SCM'), 0], [('INTS', 'IS'), 0], [('INTS', 'AD'), 0], [('INTS', 'IT'), 0], [('INTS', 'LIBS'), 0], [('INTS', 'OR'), 0], [('INTS', 'CMIS'), 0], [('INTS', 'LAT'), 0], [('INTS', 'CHIN'), 0], [('INTS', 'BIOL'), 0], [('INTS', 'SURV'), 0], [('INTS', 'MS'), 0], [('INTS', 'MSC'), 0], [('INTS', 'FST'), 0], [('INTS', 'CODE'), 0], [('INTS', 'HUM'), 0], [('INTS', 'INTS'), 0], [('INTS', 'CHEM'), 0], [('INTS', 'SPE'), 0], [('INTS', 'MUS'), 0], [('INTS', 'THEA'), 0], [('INTS', 'MKTG'), 0], [('INTS', 'ACCT'), 0], [('INTS', 'MRE'), 0], [('INTS', 'AS'), 0], [('INTS', 'PSYC'), 0], [('INTS', 'FIN'), 0], [('INTS', 'DANC'), 0], [('INTS', 'GER'), 0], [('INTS', 'HED'), 0], [('INTS', 'SCI'), 0], [('INTS', 'PHEL'), 0], [('INTS', 'SOC'), 0], [('INTS', 'EDFD'), 0], [('INTS', 'GBA'), 0], [('INTS', 'PHIL'), 0], [('INTS', 'IE'), 0], [('INTS', 'MGMT'), 0], [('INTS', 'CI'), 0], [('INTS', 'SOCW'), 0], [('INTS', 'ME'), 0], [('CHEM', 'SAB'), 0], [('CHEM', 'CIED'), 0], [('CHEM', 'INTG'), 0], [('CHEM', 'MC'), 0], [('CHEM', 'ENSC'), 0], [('CHEM', 'GRK'), 0], [('CHEM', 'EPFR'), 0], [('CHEM', 'ART'), 0], [('CHEM', 'PHYS'), 0], [('CHEM', 'UNIV'), 0], [('CHEM', 'PBHE'), 0], [('CHEM', 'STAT'), 0], [('CHEM', 'HIST'), 0], [('CHEM', 'ACS'), 0], [('CHEM', 'ARA'), 0], [('CHEM', 'HONS'), 0], [('CHEM', 'ANTH'), 0], [('CHEM', 'ENG'), 0], [('CHEM', 'FR'), 0], [('CHEM', 'ITAL'), 0], [('CHEM', 'NUTR'), 0], [('CHEM', 'GEOG'), 0], [('CHEM', 'ECE'), 0], [('CHEM', 'PROD'), 0], [('CHEM', 'ESCI'), 0], [('CHEM', 'KIN'), 0], [('CHEM', 'CJ'), 0], [('CHEM', 'CNST'), 0], [('CHEM', 'ECON'), 0], [('CHEM', 'WMST'), 0], [('CHEM', 'CE'), 0], [('CHEM', 'RA'), 0], [('CHEM', 'FAC'), 0], [('CHEM', 'RUSS'), 0], [('CHEM', 'POLS'), 0], [('CHEM', 'PAPA'), 0], [('CHEM', 'MATH'), 0], [('CHEM', 'QR'), 0], [('CHEM', 'CS'), 0], [('CHEM', 'SPAN'), 0], [('CHEM', 'FL'), 0], [('CHEM', 'EDUC'), 0], [('CHEM', 'NURS'), 0], [('CHEM', 'SPPA'), 0], [('CHEM', 'SCM'), 0], [('CHEM', 'IS'), 0], [('CHEM', 'AD'), 0], [('CHEM', 'IT'), 0], [('CHEM', 'LIBS'), 0], [('CHEM', 'OR'), 0], [('CHEM', 'CMIS'), 0], [('CHEM', 'LAT'), 0], [('CHEM', 'CHIN'), 0], [('CHEM', 'BIOL'), 0], [('CHEM', 'SURV'), 0], [('CHEM', 'MS'), 0], [('CHEM', 'MSC'), 0], [('CHEM', 'FST'), 0], [('CHEM', 'CODE'), 0], [('CHEM', 'HUM'), 0], [('CHEM', 'INTS'), 0], [('CHEM', 'CHEM'), 0], [('CHEM', 'SPE'), 0], [('CHEM', 'MUS'), 0], [('CHEM', 'THEA'), 0], [('CHEM', 'MKTG'), 0], [('CHEM', 'ACCT'), 0], [('CHEM', 'MRE'), 0], [('CHEM', 'AS'), 0], [('CHEM', 'PSYC'), 0], [('CHEM', 'FIN'), 0], [('CHEM', 'DANC'), 0], [('CHEM', 'GER'), 0], [('CHEM', 'HED'), 0], [('CHEM', 'SCI'), 0], [('CHEM', 'PHEL'), 0], [('CHEM', 'SOC'), 0], [('CHEM', 'EDFD'), 0], [('CHEM', 'GBA'), 0], [('CHEM', 'PHIL'), 0], [('CHEM', 'IE'), 0], [('CHEM', 'MGMT'), 0], [('CHEM', 'CI'), 0], [('CHEM', 'SOCW'), 0], [('CHEM', 'ME'), 0], [('SPE', 'SAB'), 0], [('SPE', 'CIED'), 0], [('SPE', 'INTG'), 0], [('SPE', 'MC'), 0], [('SPE', 'ENSC'), 0], [('SPE', 'GRK'), 0], [('SPE', 'EPFR'), 0], [('SPE', 'ART'), 0], [('SPE', 'PHYS'), 0], [('SPE', 'UNIV'), 0], [('SPE', 'PBHE'), 0], [('SPE', 'STAT'), 0], [('SPE', 'HIST'), 0], [('SPE', 'ACS'), 0], [('SPE', 'ARA'), 0], [('SPE', 'HONS'), 0], [('SPE', 'ANTH'), 0], [('SPE', 'ENG'), 0], [('SPE', 'FR'), 0], [('SPE', 'ITAL'), 0], [('SPE', 'NUTR'), 0], [('SPE', 'GEOG'), 0], [('SPE', 'ECE'), 0], [('SPE', 'PROD'), 0], [('SPE', 'ESCI'), 0], [('SPE', 'KIN'), 0], [('SPE', 'CJ'), 0], [('SPE', 'CNST'), 0], [('SPE', 'ECON'), 0], [('SPE', 'WMST'), 0], [('SPE', 'CE'), 0], [('SPE', 'RA'), 0], [('SPE', 'FAC'), 0], [('SPE', 'RUSS'), 0], [('SPE', 'POLS'), 0], [('SPE', 'PAPA'), 0], [('SPE', 'MATH'), 0], [('SPE', 'QR'), 0], [('SPE', 'CS'), 0], [('SPE', 'SPAN'), 0], [('SPE', 'FL'), 0], [('SPE', 'EDUC'), 0], [('SPE', 'NURS'), 0], [('SPE', 'SPPA'), 0], [('SPE', 'SCM'), 0], [('SPE', 'IS'), 0], [('SPE', 'AD'), 0], [('SPE', 'IT'), 0], [('SPE', 'LIBS'), 0], [('SPE', 'OR'), 0], [('SPE', 'CMIS'), 0], [('SPE', 'LAT'), 0], [('SPE', 'CHIN'), 0], [('SPE', 'BIOL'), 0], [('SPE', 'SURV'), 0], [('SPE', 'MS'), 0], [('SPE', 'MSC'), 0], [('SPE', 'FST'), 0], [('SPE', 'CODE'), 0], [('SPE', 'HUM'), 0], [('SPE', 'INTS'), 0], [('SPE', 'CHEM'), 0], [('SPE', 'SPE'), 0], [('SPE', 'MUS'), 0], [('SPE', 'THEA'), 0], [('SPE', 'MKTG'), 0], [('SPE', 'ACCT'), 0], [('SPE', 'MRE'), 0], [('SPE', 'AS'), 0], [('SPE', 'PSYC'), 0], [('SPE', 'FIN'), 0], [('SPE', 'DANC'), 0], [('SPE', 'GER'), 0], [('SPE', 'HED'), 0], [('SPE', 'SCI'), 0], [('SPE', 'PHEL'), 0], [('SPE', 'SOC'), 0], [('SPE', 'EDFD'), 0], [('SPE', 'GBA'), 0], [('SPE', 'PHIL'), 0], [('SPE', 'IE'), 0], [('SPE', 'MGMT'), 0], [('SPE', 'CI'), 0], [('SPE', 'SOCW'), 0], [('SPE', 'ME'), 0], [('MUS', 'SAB'), 0], [('MUS', 'CIED'), 0], [('MUS', 'INTG'), 0], [('MUS', 'MC'), 0], [('MUS', 'ENSC'), 0], [('MUS', 'GRK'), 0], [('MUS', 'EPFR'), 0], [('MUS', 'ART'), 0], [('MUS', 'PHYS'), 0], [('MUS', 'UNIV'), 0], [('MUS', 'PBHE'), 0], [('MUS', 'STAT'), 0], [('MUS', 'HIST'), 0], [('MUS', 'ACS'), 0], [('MUS', 'ARA'), 0], [('MUS', 'HONS'), 0], [('MUS', 'ANTH'), 0], [('MUS', 'ENG'), 0], [('MUS', 'FR'), 0], [('MUS', 'ITAL'), 0], [('MUS', 'NUTR'), 0], [('MUS', 'GEOG'), 0], [('MUS', 'ECE'), 0], [('MUS', 'PROD'), 0], [('MUS', 'ESCI'), 0], [('MUS', 'KIN'), 0], [('MUS', 'CJ'), 0], [('MUS', 'CNST'), 0], [('MUS', 'ECON'), 0], [('MUS', 'WMST'), 0], [('MUS', 'CE'), 0], [('MUS', 'RA'), 0], [('MUS', 'FAC'), 0], [('MUS', 'RUSS'), 0], [('MUS', 'POLS'), 0], [('MUS', 'PAPA'), 0], [('MUS', 'MATH'), 0], [('MUS', 'QR'), 0], [('MUS', 'CS'), 0], [('MUS', 'SPAN'), 0], [('MUS', 'FL'), 0], [('MUS', 'EDUC'), 0], [('MUS', 'NURS'), 0], [('MUS', 'SPPA'), 0], [('MUS', 'SCM'), 0], [('MUS', 'IS'), 0], [('MUS', 'AD'), 0], [('MUS', 'IT'), 0], [('MUS', 'LIBS'), 0], [('MUS', 'OR'), 0], [('MUS', 'CMIS'), 0], [('MUS', 'LAT'), 0], [('MUS', 'CHIN'), 0], [('MUS', 'BIOL'), 0], [('MUS', 'SURV'), 0], [('MUS', 'MS'), 0], [('MUS', 'MSC'), 0], [('MUS', 'FST'), 0], [('MUS', 'CODE'), 0], [('MUS', 'HUM'), 0], [('MUS', 'INTS'), 0], [('MUS', 'CHEM'), 0], [('MUS', 'SPE'), 0], [('MUS', 'MUS'), 0], [('MUS', 'THEA'), 0], [('MUS', 'MKTG'), 0], [('MUS', 'ACCT'), 0], [('MUS', 'MRE'), 0], [('MUS', 'AS'), 0], [('MUS', 'PSYC'), 0], [('MUS', 'FIN'), 0], [('MUS', 'DANC'), 0], [('MUS', 'GER'), 0], [('MUS', 'HED'), 0], [('MUS', 'SCI'), 0], [('MUS', 'PHEL'), 0], [('MUS', 'SOC'), 0], [('MUS', 'EDFD'), 0], [('MUS', 'GBA'), 0], [('MUS', 'PHIL'), 0], [('MUS', 'IE'), 0], [('MUS', 'MGMT'), 0], [('MUS', 'CI'), 0], [('MUS', 'SOCW'), 0], [('MUS', 'ME'), 0], [('THEA', 'SAB'), 0], [('THEA', 'CIED'), 0], [('THEA', 'INTG'), 0], [('THEA', 'MC'), 0], [('THEA', 'ENSC'), 0], [('THEA', 'GRK'), 0], [('THEA', 'EPFR'), 0], [('THEA', 'ART'), 0], [('THEA', 'PHYS'), 0], [('THEA', 'UNIV'), 0], [('THEA', 'PBHE'), 0], [('THEA', 'STAT'), 0], [('THEA', 'HIST'), 0], [('THEA', 'ACS'), 0], [('THEA', 'ARA'), 0], [('THEA', 'HONS'), 0], [('THEA', 'ANTH'), 0], [('THEA', 'ENG'), 0], [('THEA', 'FR'), 0], [('THEA', 'ITAL'), 0], [('THEA', 'NUTR'), 0], [('THEA', 'GEOG'), 0], [('THEA', 'ECE'), 0], [('THEA', 'PROD'), 0], [('THEA', 'ESCI'), 0], [('THEA', 'KIN'), 0], [('THEA', 'CJ'), 0], [('THEA', 'CNST'), 0], [('THEA', 'ECON'), 0], [('THEA', 'WMST'), 0], [('THEA', 'CE'), 0], [('THEA', 'RA'), 0], [('THEA', 'FAC'), 0], [('THEA', 'RUSS'), 0], [('THEA', 'POLS'), 0], [('THEA', 'PAPA'), 0], [('THEA', 'MATH'), 0], [('THEA', 'QR'), 0], [('THEA', 'CS'), 0], [('THEA', 'SPAN'), 0], [('THEA', 'FL'), 0], [('THEA', 'EDUC'), 0], [('THEA', 'NURS'), 0], [('THEA', 'SPPA'), 0], [('THEA', 'SCM'), 0], [('THEA', 'IS'), 0], [('THEA', 'AD'), 0], [('THEA', 'IT'), 0], [('THEA', 'LIBS'), 0], [('THEA', 'OR'), 0], [('THEA', 'CMIS'), 0], [('THEA', 'LAT'), 0], [('THEA', 'CHIN'), 0], [('THEA', 'BIOL'), 0], [('THEA', 'SURV'), 0], [('THEA', 'MS'), 0], [('THEA', 'MSC'), 0], [('THEA', 'FST'), 0], [('THEA', 'CODE'), 0], [('THEA', 'HUM'), 0], [('THEA', 'INTS'), 0], [('THEA', 'CHEM'), 0], [('THEA', 'SPE'), 0], [('THEA', 'MUS'), 0], [('THEA', 'THEA'), 0], [('THEA', 'MKTG'), 0], [('THEA', 'ACCT'), 0], [('THEA', 'MRE'), 0], [('THEA', 'AS'), 0], [('THEA', 'PSYC'), 0], [('THEA', 'FIN'), 0], [('THEA', 'DANC'), 0], [('THEA', 'GER'), 0], [('THEA', 'HED'), 0], [('THEA', 'SCI'), 0], [('THEA', 'PHEL'), 0], [('THEA', 'SOC'), 0], [('THEA', 'EDFD'), 0], [('THEA', 'GBA'), 0], [('THEA', 'PHIL'), 0], [('THEA', 'IE'), 0], [('THEA', 'MGMT'), 0], [('THEA', 'CI'), 0], [('THEA', 'SOCW'), 0], [('THEA', 'ME'), 0], [('MKTG', 'SAB'), 0], [('MKTG', 'CIED'), 0], [('MKTG', 'INTG'), 0], [('MKTG', 'MC'), 0], [('MKTG', 'ENSC'), 0], [('MKTG', 'GRK'), 0], [('MKTG', 'EPFR'), 0], [('MKTG', 'ART'), 0], [('MKTG', 'PHYS'), 0], [('MKTG', 'UNIV'), 0], [('MKTG', 'PBHE'), 0], [('MKTG', 'STAT'), 0], [('MKTG', 'HIST'), 0], [('MKTG', 'ACS'), 0], [('MKTG', 'ARA'), 0], [('MKTG', 'HONS'), 0], [('MKTG', 'ANTH'), 0], [('MKTG', 'ENG'), 0], [('MKTG', 'FR'), 0], [('MKTG', 'ITAL'), 0], [('MKTG', 'NUTR'), 0], [('MKTG', 'GEOG'), 0], [('MKTG', 'ECE'), 0], [('MKTG', 'PROD'), 0], [('MKTG', 'ESCI'), 0], [('MKTG', 'KIN'), 0], [('MKTG', 'CJ'), 0], [('MKTG', 'CNST'), 0], [('MKTG', 'ECON'), 0], [('MKTG', 'WMST'), 0], [('MKTG', 'CE'), 0], [('MKTG', 'RA'), 0], [('MKTG', 'FAC'), 0], [('MKTG', 'RUSS'), 0], [('MKTG', 'POLS'), 0], [('MKTG', 'PAPA'), 0], [('MKTG', 'MATH'), 0], [('MKTG', 'QR'), 0], [('MKTG', 'CS'), 0], [('MKTG', 'SPAN'), 0], [('MKTG', 'FL'), 0], [('MKTG', 'EDUC'), 0], [('MKTG', 'NURS'), 0], [('MKTG', 'SPPA'), 0], [('MKTG', 'SCM'), 0], [('MKTG', 'IS'), 0], [('MKTG', 'AD'), 0], [('MKTG', 'IT'), 0], [('MKTG', 'LIBS'), 0], [('MKTG', 'OR'), 0], [('MKTG', 'CMIS'), 0], [('MKTG', 'LAT'), 0], [('MKTG', 'CHIN'), 0], [('MKTG', 'BIOL'), 0], [('MKTG', 'SURV'), 0], [('MKTG', 'MS'), 0], [('MKTG', 'MSC'), 0], [('MKTG', 'FST'), 0], [('MKTG', 'CODE'), 0], [('MKTG', 'HUM'), 0], [('MKTG', 'INTS'), 0], [('MKTG', 'CHEM'), 0], [('MKTG', 'SPE'), 0], [('MKTG', 'MUS'), 0], [('MKTG', 'THEA'), 0], [('MKTG', 'MKTG'), 0], [('MKTG', 'ACCT'), 0], [('MKTG', 'MRE'), 0], [('MKTG', 'AS'), 0], [('MKTG', 'PSYC'), 0], [('MKTG', 'FIN'), 0], [('MKTG', 'DANC'), 0], [('MKTG', 'GER'), 0], [('MKTG', 'HED'), 0], [('MKTG', 'SCI'), 0], [('MKTG', 'PHEL'), 0], [('MKTG', 'SOC'), 0], [('MKTG', 'EDFD'), 0], [('MKTG', 'GBA'), 0], [('MKTG', 'PHIL'), 0], [('MKTG', 'IE'), 0], [('MKTG', 'MGMT'), 0], [('MKTG', 'CI'), 0], [('MKTG', 'SOCW'), 0], [('MKTG', 'ME'), 0], [('ACCT', 'SAB'), 0], [('ACCT', 'CIED'), 0], [('ACCT', 'INTG'), 0], [('ACCT', 'MC'), 0], [('ACCT', 'ENSC'), 0], [('ACCT', 'GRK'), 0], [('ACCT', 'EPFR'), 0], [('ACCT', 'ART'), 0], [('ACCT', 'PHYS'), 0], [('ACCT', 'UNIV'), 0], [('ACCT', 'PBHE'), 0], [('ACCT', 'STAT'), 0], [('ACCT', 'HIST'), 0], [('ACCT', 'ACS'), 0], [('ACCT', 'ARA'), 0], [('ACCT', 'HONS'), 0], [('ACCT', 'ANTH'), 0], [('ACCT', 'ENG'), 0], [('ACCT', 'FR'), 0], [('ACCT', 'ITAL'), 0], [('ACCT', 'NUTR'), 0], [('ACCT', 'GEOG'), 0], [('ACCT', 'ECE'), 0], [('ACCT', 'PROD'), 0], [('ACCT', 'ESCI'), 0], [('ACCT', 'KIN'), 0], [('ACCT', 'CJ'), 0], [('ACCT', 'CNST'), 0], [('ACCT', 'ECON'), 0], [('ACCT', 'WMST'), 0], [('ACCT', 'CE'), 0], [('ACCT', 'RA'), 0], [('ACCT', 'FAC'), 0], [('ACCT', 'RUSS'), 0], [('ACCT', 'POLS'), 0], [('ACCT', 'PAPA'), 0], [('ACCT', 'MATH'), 0], [('ACCT', 'QR'), 0], [('ACCT', 'CS'), 0], [('ACCT', 'SPAN'), 0], [('ACCT', 'FL'), 0], [('ACCT', 'EDUC'), 0], [('ACCT', 'NURS'), 0], [('ACCT', 'SPPA'), 0], [('ACCT', 'SCM'), 0], [('ACCT', 'IS'), 0], [('ACCT', 'AD'), 0], [('ACCT', 'IT'), 0], [('ACCT', 'LIBS'), 0], [('ACCT', 'OR'), 0], [('ACCT', 'CMIS'), 0], [('ACCT', 'LAT'), 0], [('ACCT', 'CHIN'), 0], [('ACCT', 'BIOL'), 0], [('ACCT', 'SURV'), 0], [('ACCT', 'MS'), 0], [('ACCT', 'MSC'), 0], [('ACCT', 'FST'), 0], [('ACCT', 'CODE'), 0], [('ACCT', 'HUM'), 0], [('ACCT', 'INTS'), 0], [('ACCT', 'CHEM'), 0], [('ACCT', 'SPE'), 0], [('ACCT', 'MUS'), 0], [('ACCT', 'THEA'), 0], [('ACCT', 'MKTG'), 0], [('ACCT', 'ACCT'), 0], [('ACCT', 'MRE'), 0], [('ACCT', 'AS'), 0], [('ACCT', 'PSYC'), 0], [('ACCT', 'FIN'), 0], [('ACCT', 'DANC'), 0], [('ACCT', 'GER'), 0], [('ACCT', 'HED'), 0], [('ACCT', 'SCI'), 0], [('ACCT', 'PHEL'), 0], [('ACCT', 'SOC'), 0], [('ACCT', 'EDFD'), 0], [('ACCT', 'GBA'), 0], [('ACCT', 'PHIL'), 0], [('ACCT', 'IE'), 0], [('ACCT', 'MGMT'), 0], [('ACCT', 'CI'), 0], [('ACCT', 'SOCW'), 0], [('ACCT', 'ME'), 0], [('MRE', 'SAB'), 0], [('MRE', 'CIED'), 0], [('MRE', 'INTG'), 0], [('MRE', 'MC'), 0], [('MRE', 'ENSC'), 0], [('MRE', 'GRK'), 0], [('MRE', 'EPFR'), 0], [('MRE', 'ART'), 0], [('MRE', 'PHYS'), 0], [('MRE', 'UNIV'), 0], [('MRE', 'PBHE'), 0], [('MRE', 'STAT'), 0], [('MRE', 'HIST'), 0], [('MRE', 'ACS'), 0], [('MRE', 'ARA'), 0], [('MRE', 'HONS'), 0], [('MRE', 'ANTH'), 0], [('MRE', 'ENG'), 0], [('MRE', 'FR'), 0], [('MRE', 'ITAL'), 0], [('MRE', 'NUTR'), 0], [('MRE', 'GEOG'), 0], [('MRE', 'ECE'), 0], [('MRE', 'PROD'), 0], [('MRE', 'ESCI'), 0], [('MRE', 'KIN'), 0], [('MRE', 'CJ'), 0], [('MRE', 'CNST'), 0], [('MRE', 'ECON'), 0], [('MRE', 'WMST'), 0], [('MRE', 'CE'), 0], [('MRE', 'RA'), 0], [('MRE', 'FAC'), 0], [('MRE', 'RUSS'), 0], [('MRE', 'POLS'), 0], [('MRE', 'PAPA'), 0], [('MRE', 'MATH'), 0], [('MRE', 'QR'), 0], [('MRE', 'CS'), 0], [('MRE', 'SPAN'), 0], [('MRE', 'FL'), 0], [('MRE', 'EDUC'), 0], [('MRE', 'NURS'), 0], [('MRE', 'SPPA'), 0], [('MRE', 'SCM'), 0], [('MRE', 'IS'), 0], [('MRE', 'AD'), 0], [('MRE', 'IT'), 0], [('MRE', 'LIBS'), 0], [('MRE', 'OR'), 0], [('MRE', 'CMIS'), 0], [('MRE', 'LAT'), 0], [('MRE', 'CHIN'), 0], [('MRE', 'BIOL'), 0], [('MRE', 'SURV'), 0], [('MRE', 'MS'), 0], [('MRE', 'MSC'), 0], [('MRE', 'FST'), 0], [('MRE', 'CODE'), 0], [('MRE', 'HUM'), 0], [('MRE', 'INTS'), 0], [('MRE', 'CHEM'), 0], [('MRE', 'SPE'), 0], [('MRE', 'MUS'), 0], [('MRE', 'THEA'), 0], [('MRE', 'MKTG'), 0], [('MRE', 'ACCT'), 0], [('MRE', 'MRE'), 0], [('MRE', 'AS'), 0], [('MRE', 'PSYC'), 0], [('MRE', 'FIN'), 0], [('MRE', 'DANC'), 0], [('MRE', 'GER'), 0], [('MRE', 'HED'), 0], [('MRE', 'SCI'), 0], [('MRE', 'PHEL'), 0], [('MRE', 'SOC'), 0], [('MRE', 'EDFD'), 0], [('MRE', 'GBA'), 0], [('MRE', 'PHIL'), 0], [('MRE', 'IE'), 0], [('MRE', 'MGMT'), 0], [('MRE', 'CI'), 0], [('MRE', 'SOCW'), 0], [('MRE', 'ME'), 0], [('AS', 'SAB'), 0], [('AS', 'CIED'), 0], [('AS', 'INTG'), 0], [('AS', 'MC'), 0], [('AS', 'ENSC'), 0], [('AS', 'GRK'), 0], [('AS', 'EPFR'), 0], [('AS', 'ART'), 0], [('AS', 'PHYS'), 0], [('AS', 'UNIV'), 0], [('AS', 'PBHE'), 0], [('AS', 'STAT'), 0], [('AS', 'HIST'), 0], [('AS', 'ACS'), 0], [('AS', 'ARA'), 0], [('AS', 'HONS'), 0], [('AS', 'ANTH'), 0], [('AS', 'ENG'), 0], [('AS', 'FR'), 0], [('AS', 'ITAL'), 0], [('AS', 'NUTR'), 0], [('AS', 'GEOG'), 0], [('AS', 'ECE'), 0], [('AS', 'PROD'), 0], [('AS', 'ESCI'), 0], [('AS', 'KIN'), 0], [('AS', 'CJ'), 0], [('AS', 'CNST'), 0], [('AS', 'ECON'), 0], [('AS', 'WMST'), 0], [('AS', 'CE'), 0], [('AS', 'RA'), 0], [('AS', 'FAC'), 0], [('AS', 'RUSS'), 0], [('AS', 'POLS'), 0], [('AS', 'PAPA'), 0], [('AS', 'MATH'), 0], [('AS', 'QR'), 0], [('AS', 'CS'), 0], [('AS', 'SPAN'), 0], [('AS', 'FL'), 0], [('AS', 'EDUC'), 0], [('AS', 'NURS'), 0], [('AS', 'SPPA'), 0], [('AS', 'SCM'), 0], [('AS', 'IS'), 0], [('AS', 'AD'), 0], [('AS', 'IT'), 0], [('AS', 'LIBS'), 0], [('AS', 'OR'), 0], [('AS', 'CMIS'), 0], [('AS', 'LAT'), 0], [('AS', 'CHIN'), 0], [('AS', 'BIOL'), 0], [('AS', 'SURV'), 0], [('AS', 'MS'), 0], [('AS', 'MSC'), 0], [('AS', 'FST'), 0], [('AS', 'CODE'), 0], [('AS', 'HUM'), 0], [('AS', 'INTS'), 0], [('AS', 'CHEM'), 0], [('AS', 'SPE'), 0], [('AS', 'MUS'), 0], [('AS', 'THEA'), 0], [('AS', 'MKTG'), 0], [('AS', 'ACCT'), 0], [('AS', 'MRE'), 0], [('AS', 'AS'), 0], [('AS', 'PSYC'), 0], [('AS', 'FIN'), 0], [('AS', 'DANC'), 0], [('AS', 'GER'), 0], [('AS', 'HED'), 0], [('AS', 'SCI'), 0], [('AS', 'PHEL'), 0], [('AS', 'SOC'), 0], [('AS', 'EDFD'), 0], [('AS', 'GBA'), 0], [('AS', 'PHIL'), 0], [('AS', 'IE'), 0], [('AS', 'MGMT'), 0], [('AS', 'CI'), 0], [('AS', 'SOCW'), 0], [('AS', 'ME'), 0], [('PSYC', 'SAB'), 0], [('PSYC', 'CIED'), 0], [('PSYC', 'INTG'), 0], [('PSYC', 'MC'), 0], [('PSYC', 'ENSC'), 0], [('PSYC', 'GRK'), 0], [('PSYC', 'EPFR'), 0], [('PSYC', 'ART'), 0], [('PSYC', 'PHYS'), 0], [('PSYC', 'UNIV'), 0], [('PSYC', 'PBHE'), 0], [('PSYC', 'STAT'), 0], [('PSYC', 'HIST'), 0], [('PSYC', 'ACS'), 0], [('PSYC', 'ARA'), 0], [('PSYC', 'HONS'), 0], [('PSYC', 'ANTH'), 0], [('PSYC', 'ENG'), 0], [('PSYC', 'FR'), 0], [('PSYC', 'ITAL'), 0], [('PSYC', 'NUTR'), 0], [('PSYC', 'GEOG'), 0], [('PSYC', 'ECE'), 0], [('PSYC', 'PROD'), 0], [('PSYC', 'ESCI'), 0], [('PSYC', 'KIN'), 0], [('PSYC', 'CJ'), 0], [('PSYC', 'CNST'), 0], [('PSYC', 'ECON'), 0], [('PSYC', 'WMST'), 0], [('PSYC', 'CE'), 0], [('PSYC', 'RA'), 0], [('PSYC', 'FAC'), 0], [('PSYC', 'RUSS'), 0], [('PSYC', 'POLS'), 0], [('PSYC', 'PAPA'), 0], [('PSYC', 'MATH'), 0], [('PSYC', 'QR'), 0], [('PSYC', 'CS'), 0], [('PSYC', 'SPAN'), 0], [('PSYC', 'FL'), 0], [('PSYC', 'EDUC'), 0], [('PSYC', 'NURS'), 0], [('PSYC', 'SPPA'), 0], [('PSYC', 'SCM'), 0], [('PSYC', 'IS'), 0], [('PSYC', 'AD'), 0], [('PSYC', 'IT'), 0], [('PSYC', 'LIBS'), 0], [('PSYC', 'OR'), 0], [('PSYC', 'CMIS'), 0], [('PSYC', 'LAT'), 0], [('PSYC', 'CHIN'), 0], [('PSYC', 'BIOL'), 0], [('PSYC', 'SURV'), 0], [('PSYC', 'MS'), 0], [('PSYC', 'MSC'), 0], [('PSYC', 'FST'), 0], [('PSYC', 'CODE'), 0], [('PSYC', 'HUM'), 0], [('PSYC', 'INTS'), 0], [('PSYC', 'CHEM'), 0], [('PSYC', 'SPE'), 0], [('PSYC', 'MUS'), 0], [('PSYC', 'THEA'), 0], [('PSYC', 'MKTG'), 0], [('PSYC', 'ACCT'), 0], [('PSYC', 'MRE'), 0], [('PSYC', 'AS'), 0], [('PSYC', 'PSYC'), 0], [('PSYC', 'FIN'), 0], [('PSYC', 'DANC'), 0], [('PSYC', 'GER'), 0], [('PSYC', 'HED'), 0], [('PSYC', 'SCI'), 0], [('PSYC', 'PHEL'), 0], [('PSYC', 'SOC'), 0], [('PSYC', 'EDFD'), 0], [('PSYC', 'GBA'), 0], [('PSYC', 'PHIL'), 0], [('PSYC', 'IE'), 0], [('PSYC', 'MGMT'), 0], [('PSYC', 'CI'), 0], [('PSYC', 'SOCW'), 0], [('PSYC', 'ME'), 0], [('FIN', 'SAB'), 0], [('FIN', 'CIED'), 0], [('FIN', 'INTG'), 0], [('FIN', 'MC'), 0], [('FIN', 'ENSC'), 0], [('FIN', 'GRK'), 0], [('FIN', 'EPFR'), 0], [('FIN', 'ART'), 0], [('FIN', 'PHYS'), 0], [('FIN', 'UNIV'), 0], [('FIN', 'PBHE'), 0], [('FIN', 'STAT'), 0], [('FIN', 'HIST'), 0], [('FIN', 'ACS'), 0], [('FIN', 'ARA'), 0], [('FIN', 'HONS'), 0], [('FIN', 'ANTH'), 0], [('FIN', 'ENG'), 0], [('FIN', 'FR'), 0], [('FIN', 'ITAL'), 0], [('FIN', 'NUTR'), 0], [('FIN', 'GEOG'), 0], [('FIN', 'ECE'), 0], [('FIN', 'PROD'), 0], [('FIN', 'ESCI'), 0], [('FIN', 'KIN'), 0], [('FIN', 'CJ'), 0], [('FIN', 'CNST'), 0], [('FIN', 'ECON'), 0], [('FIN', 'WMST'), 0], [('FIN', 'CE'), 0], [('FIN', 'RA'), 0], [('FIN', 'FAC'), 0], [('FIN', 'RUSS'), 0], [('FIN', 'POLS'), 0], [('FIN', 'PAPA'), 0], [('FIN', 'MATH'), 0], [('FIN', 'QR'), 0], [('FIN', 'CS'), 0], [('FIN', 'SPAN'), 0], [('FIN', 'FL'), 0], [('FIN', 'EDUC'), 0], [('FIN', 'NURS'), 0], [('FIN', 'SPPA'), 0], [('FIN', 'SCM'), 0], [('FIN', 'IS'), 0], [('FIN', 'AD'), 0], [('FIN', 'IT'), 0], [('FIN', 'LIBS'), 0], [('FIN', 'OR'), 0], [('FIN', 'CMIS'), 0], [('FIN', 'LAT'), 0], [('FIN', 'CHIN'), 0], [('FIN', 'BIOL'), 0], [('FIN', 'SURV'), 0], [('FIN', 'MS'), 0], [('FIN', 'MSC'), 0], [('FIN', 'FST'), 0], [('FIN', 'CODE'), 0], [('FIN', 'HUM'), 0], [('FIN', 'INTS'), 0], [('FIN', 'CHEM'), 0], [('FIN', 'SPE'), 0], [('FIN', 'MUS'), 0], [('FIN', 'THEA'), 0], [('FIN', 'MKTG'), 0], [('FIN', 'ACCT'), 0], [('FIN', 'MRE'), 0], [('FIN', 'AS'), 0], [('FIN', 'PSYC'), 0], [('FIN', 'FIN'), 0], [('FIN', 'DANC'), 0], [('FIN', 'GER'), 0], [('FIN', 'HED'), 0], [('FIN', 'SCI'), 0], [('FIN', 'PHEL'), 0], [('FIN', 'SOC'), 0], [('FIN', 'EDFD'), 0], [('FIN', 'GBA'), 0], [('FIN', 'PHIL'), 0], [('FIN', 'IE'), 0], [('FIN', 'MGMT'), 0], [('FIN', 'CI'), 0], [('FIN', 'SOCW'), 0], [('FIN', 'ME'), 0], [('DANC', 'SAB'), 0], [('DANC', 'CIED'), 0], [('DANC', 'INTG'), 0], [('DANC', 'MC'), 0], [('DANC', 'ENSC'), 0], [('DANC', 'GRK'), 0], [('DANC', 'EPFR'), 0], [('DANC', 'ART'), 0], [('DANC', 'PHYS'), 0], [('DANC', 'UNIV'), 0], [('DANC', 'PBHE'), 0], [('DANC', 'STAT'), 0], [('DANC', 'HIST'), 0], [('DANC', 'ACS'), 0], [('DANC', 'ARA'), 0], [('DANC', 'HONS'), 0], [('DANC', 'ANTH'), 0], [('DANC', 'ENG'), 0], [('DANC', 'FR'), 0], [('DANC', 'ITAL'), 0], [('DANC', 'NUTR'), 0], [('DANC', 'GEOG'), 0], [('DANC', 'ECE'), 0], [('DANC', 'PROD'), 0], [('DANC', 'ESCI'), 0], [('DANC', 'KIN'), 0], [('DANC', 'CJ'), 0], [('DANC', 'CNST'), 0], [('DANC', 'ECON'), 0], [('DANC', 'WMST'), 0], [('DANC', 'CE'), 0], [('DANC', 'RA'), 0], [('DANC', 'FAC'), 0], [('DANC', 'RUSS'), 0], [('DANC', 'POLS'), 0], [('DANC', 'PAPA'), 0], [('DANC', 'MATH'), 0], [('DANC', 'QR'), 0], [('DANC', 'CS'), 0], [('DANC', 'SPAN'), 0], [('DANC', 'FL'), 0], [('DANC', 'EDUC'), 0], [('DANC', 'NURS'), 0], [('DANC', 'SPPA'), 0], [('DANC', 'SCM'), 0], [('DANC', 'IS'), 0], [('DANC', 'AD'), 0], [('DANC', 'IT'), 0], [('DANC', 'LIBS'), 0], [('DANC', 'OR'), 0], [('DANC', 'CMIS'), 0], [('DANC', 'LAT'), 0], [('DANC', 'CHIN'), 0], [('DANC', 'BIOL'), 0], [('DANC', 'SURV'), 0], [('DANC', 'MS'), 0], [('DANC', 'MSC'), 0], [('DANC', 'FST'), 0], [('DANC', 'CODE'), 0], [('DANC', 'HUM'), 0], [('DANC', 'INTS'), 0], [('DANC', 'CHEM'), 0], [('DANC', 'SPE'), 0], [('DANC', 'MUS'), 0], [('DANC', 'THEA'), 0], [('DANC', 'MKTG'), 0], [('DANC', 'ACCT'), 0], [('DANC', 'MRE'), 0], [('DANC', 'AS'), 0], [('DANC', 'PSYC'), 0], [('DANC', 'FIN'), 0], [('DANC', 'DANC'), 0], [('DANC', 'GER'), 0], [('DANC', 'HED'), 0], [('DANC', 'SCI'), 0], [('DANC', 'PHEL'), 0], [('DANC', 'SOC'), 0], [('DANC', 'EDFD'), 0], [('DANC', 'GBA'), 0], [('DANC', 'PHIL'), 0], [('DANC', 'IE'), 0], [('DANC', 'MGMT'), 0], [('DANC', 'CI'), 0], [('DANC', 'SOCW'), 0], [('DANC', 'ME'), 0], [('GER', 'SAB'), 0], [('GER', 'CIED'), 0], [('GER', 'INTG'), 0], [('GER', 'MC'), 0], [('GER', 'ENSC'), 0], [('GER', 'GRK'), 0], [('GER', 'EPFR'), 0], [('GER', 'ART'), 0], [('GER', 'PHYS'), 0], [('GER', 'UNIV'), 0], [('GER', 'PBHE'), 0], [('GER', 'STAT'), 0], [('GER', 'HIST'), 0], [('GER', 'ACS'), 0], [('GER', 'ARA'), 0], [('GER', 'HONS'), 0], [('GER', 'ANTH'), 0], [('GER', 'ENG'), 0], [('GER', 'FR'), 0], [('GER', 'ITAL'), 0], [('GER', 'NUTR'), 0], [('GER', 'GEOG'), 0], [('GER', 'ECE'), 0], [('GER', 'PROD'), 0], [('GER', 'ESCI'), 0], [('GER', 'KIN'), 0], [('GER', 'CJ'), 0], [('GER', 'CNST'), 0], [('GER', 'ECON'), 0], [('GER', 'WMST'), 0], [('GER', 'CE'), 0], [('GER', 'RA'), 0], [('GER', 'FAC'), 0], [('GER', 'RUSS'), 0], [('GER', 'POLS'), 0], [('GER', 'PAPA'), 0], [('GER', 'MATH'), 0], [('GER', 'QR'), 0], [('GER', 'CS'), 0], [('GER', 'SPAN'), 0], [('GER', 'FL'), 0], [('GER', 'EDUC'), 0], [('GER', 'NURS'), 0], [('GER', 'SPPA'), 0], [('GER', 'SCM'), 0], [('GER', 'IS'), 0], [('GER', 'AD'), 0], [('GER', 'IT'), 0], [('GER', 'LIBS'), 0], [('GER', 'OR'), 0], [('GER', 'CMIS'), 0], [('GER', 'LAT'), 0], [('GER', 'CHIN'), 0], [('GER', 'BIOL'), 0], [('GER', 'SURV'), 0], [('GER', 'MS'), 0], [('GER', 'MSC'), 0], [('GER', 'FST'), 0], [('GER', 'CODE'), 0], [('GER', 'HUM'), 0], [('GER', 'INTS'), 0], [('GER', 'CHEM'), 0], [('GER', 'SPE'), 0], [('GER', 'MUS'), 0], [('GER', 'THEA'), 0], [('GER', 'MKTG'), 0], [('GER', 'ACCT'), 0], [('GER', 'MRE'), 0], [('GER', 'AS'), 0], [('GER', 'PSYC'), 0], [('GER', 'FIN'), 0], [('GER', 'DANC'), 0], [('GER', 'GER'), 0], [('GER', 'HED'), 0], [('GER', 'SCI'), 0], [('GER', 'PHEL'), 0], [('GER', 'SOC'), 0], [('GER', 'EDFD'), 0], [('GER', 'GBA'), 0], [('GER', 'PHIL'), 0], [('GER', 'IE'), 0], [('GER', 'MGMT'), 0], [('GER', 'CI'), 0], [('GER', 'SOCW'), 0], [('GER', 'ME'), 0], [('HED', 'SAB'), 0], [('HED', 'CIED'), 0], [('HED', 'INTG'), 0], [('HED', 'MC'), 0], [('HED', 'ENSC'), 0], [('HED', 'GRK'), 0], [('HED', 'EPFR'), 0], [('HED', 'ART'), 0], [('HED', 'PHYS'), 0], [('HED', 'UNIV'), 0], [('HED', 'PBHE'), 0], [('HED', 'STAT'), 0], [('HED', 'HIST'), 0], [('HED', 'ACS'), 0], [('HED', 'ARA'), 0], [('HED', 'HONS'), 0], [('HED', 'ANTH'), 0], [('HED', 'ENG'), 0], [('HED', 'FR'), 0], [('HED', 'ITAL'), 0], [('HED', 'NUTR'), 0], [('HED', 'GEOG'), 0], [('HED', 'ECE'), 0], [('HED', 'PROD'), 0], [('HED', 'ESCI'), 0], [('HED', 'KIN'), 0], [('HED', 'CJ'), 0], [('HED', 'CNST'), 0], [('HED', 'ECON'), 0], [('HED', 'WMST'), 0], [('HED', 'CE'), 0], [('HED', 'RA'), 0], [('HED', 'FAC'), 0], [('HED', 'RUSS'), 0], [('HED', 'POLS'), 0], [('HED', 'PAPA'), 0], [('HED', 'MATH'), 0], [('HED', 'QR'), 0], [('HED', 'CS'), 0], [('HED', 'SPAN'), 0], [('HED', 'FL'), 0], [('HED', 'EDUC'), 0], [('HED', 'NURS'), 0], [('HED', 'SPPA'), 0], [('HED', 'SCM'), 0], [('HED', 'IS'), 0], [('HED', 'AD'), 0], [('HED', 'IT'), 0], [('HED', 'LIBS'), 0], [('HED', 'OR'), 0], [('HED', 'CMIS'), 0], [('HED', 'LAT'), 0], [('HED', 'CHIN'), 0], [('HED', 'BIOL'), 0], [('HED', 'SURV'), 0], [('HED', 'MS'), 0], [('HED', 'MSC'), 0], [('HED', 'FST'), 0], [('HED', 'CODE'), 0], [('HED', 'HUM'), 0], [('HED', 'INTS'), 0], [('HED', 'CHEM'), 0], [('HED', 'SPE'), 0], [('HED', 'MUS'), 0], [('HED', 'THEA'), 0], [('HED', 'MKTG'), 0], [('HED', 'ACCT'), 0], [('HED', 'MRE'), 0], [('HED', 'AS'), 0], [('HED', 'PSYC'), 0], [('HED', 'FIN'), 0], [('HED', 'DANC'), 0], [('HED', 'GER'), 0], [('HED', 'HED'), 0], [('HED', 'SCI'), 0], [('HED', 'PHEL'), 0], [('HED', 'SOC'), 0], [('HED', 'EDFD'), 0], [('HED', 'GBA'), 0], [('HED', 'PHIL'), 0], [('HED', 'IE'), 0], [('HED', 'MGMT'), 0], [('HED', 'CI'), 0], [('HED', 'SOCW'), 0], [('HED', 'ME'), 0], [('SCI', 'SAB'), 0], [('SCI', 'CIED'), 0], [('SCI', 'INTG'), 0], [('SCI', 'MC'), 0], [('SCI', 'ENSC'), 0], [('SCI', 'GRK'), 0], [('SCI', 'EPFR'), 0], [('SCI', 'ART'), 0], [('SCI', 'PHYS'), 0], [('SCI', 'UNIV'), 0], [('SCI', 'PBHE'), 0], [('SCI', 'STAT'), 0], [('SCI', 'HIST'), 0], [('SCI', 'ACS'), 0], [('SCI', 'ARA'), 0], [('SCI', 'HONS'), 0], [('SCI', 'ANTH'), 0], [('SCI', 'ENG'), 0], [('SCI', 'FR'), 0], [('SCI', 'ITAL'), 0], [('SCI', 'NUTR'), 0], [('SCI', 'GEOG'), 0], [('SCI', 'ECE'), 0], [('SCI', 'PROD'), 0], [('SCI', 'ESCI'), 0], [('SCI', 'KIN'), 0], [('SCI', 'CJ'), 0], [('SCI', 'CNST'), 0], [('SCI', 'ECON'), 0], [('SCI', 'WMST'), 0], [('SCI', 'CE'), 0], [('SCI', 'RA'), 0], [('SCI', 'FAC'), 0], [('SCI', 'RUSS'), 0], [('SCI', 'POLS'), 0], [('SCI', 'PAPA'), 0], [('SCI', 'MATH'), 0], [('SCI', 'QR'), 0], [('SCI', 'CS'), 0], [('SCI', 'SPAN'), 0], [('SCI', 'FL'), 0], [('SCI', 'EDUC'), 0], [('SCI', 'NURS'), 0], [('SCI', 'SPPA'), 0], [('SCI', 'SCM'), 0], [('SCI', 'IS'), 0], [('SCI', 'AD'), 0], [('SCI', 'IT'), 0], [('SCI', 'LIBS'), 0], [('SCI', 'OR'), 0], [('SCI', 'CMIS'), 0], [('SCI', 'LAT'), 0], [('SCI', 'CHIN'), 0], [('SCI', 'BIOL'), 0], [('SCI', 'SURV'), 0], [('SCI', 'MS'), 0], [('SCI', 'MSC'), 0], [('SCI', 'FST'), 0], [('SCI', 'CODE'), 0], [('SCI', 'HUM'), 0], [('SCI', 'INTS'), 0], [('SCI', 'CHEM'), 0], [('SCI', 'SPE'), 0], [('SCI', 'MUS'), 0], [('SCI', 'THEA'), 0], [('SCI', 'MKTG'), 0], [('SCI', 'ACCT'), 0], [('SCI', 'MRE'), 0], [('SCI', 'AS'), 0], [('SCI', 'PSYC'), 0], [('SCI', 'FIN'), 0], [('SCI', 'DANC'), 0], [('SCI', 'GER'), 0], [('SCI', 'HED'), 0], [('SCI', 'SCI'), 0], [('SCI', 'PHEL'), 0], [('SCI', 'SOC'), 0], [('SCI', 'EDFD'), 0], [('SCI', 'GBA'), 0], [('SCI', 'PHIL'), 0], [('SCI', 'IE'), 0], [('SCI', 'MGMT'), 0], [('SCI', 'CI'), 0], [('SCI', 'SOCW'), 0], [('SCI', 'ME'), 0], [('PHEL', 'SAB'), 0], [('PHEL', 'CIED'), 0], [('PHEL', 'INTG'), 0], [('PHEL', 'MC'), 0], [('PHEL', 'ENSC'), 0], [('PHEL', 'GRK'), 0], [('PHEL', 'EPFR'), 0], [('PHEL', 'ART'), 0], [('PHEL', 'PHYS'), 0], [('PHEL', 'UNIV'), 0], [('PHEL', 'PBHE'), 0], [('PHEL', 'STAT'), 0], [('PHEL', 'HIST'), 0], [('PHEL', 'ACS'), 0], [('PHEL', 'ARA'), 0], [('PHEL', 'HONS'), 0], [('PHEL', 'ANTH'), 0], [('PHEL', 'ENG'), 0], [('PHEL', 'FR'), 0], [('PHEL', 'ITAL'), 0], [('PHEL', 'NUTR'), 0], [('PHEL', 'GEOG'), 0], [('PHEL', 'ECE'), 0], [('PHEL', 'PROD'), 0], [('PHEL', 'ESCI'), 0], [('PHEL', 'KIN'), 0], [('PHEL', 'CJ'), 0], [('PHEL', 'CNST'), 0], [('PHEL', 'ECON'), 0], [('PHEL', 'WMST'), 0], [('PHEL', 'CE'), 0], [('PHEL', 'RA'), 0], [('PHEL', 'FAC'), 0], [('PHEL', 'RUSS'), 0], [('PHEL', 'POLS'), 0], [('PHEL', 'PAPA'), 0], [('PHEL', 'MATH'), 0], [('PHEL', 'QR'), 0], [('PHEL', 'CS'), 0], [('PHEL', 'SPAN'), 0], [('PHEL', 'FL'), 0], [('PHEL', 'EDUC'), 0], [('PHEL', 'NURS'), 0], [('PHEL', 'SPPA'), 0], [('PHEL', 'SCM'), 0], [('PHEL', 'IS'), 0], [('PHEL', 'AD'), 0], [('PHEL', 'IT'), 0], [('PHEL', 'LIBS'), 0], [('PHEL', 'OR'), 0], [('PHEL', 'CMIS'), 0], [('PHEL', 'LAT'), 0], [('PHEL', 'CHIN'), 0], [('PHEL', 'BIOL'), 0], [('PHEL', 'SURV'), 0], [('PHEL', 'MS'), 0], [('PHEL', 'MSC'), 0], [('PHEL', 'FST'), 0], [('PHEL', 'CODE'), 0], [('PHEL', 'HUM'), 0], [('PHEL', 'INTS'), 0], [('PHEL', 'CHEM'), 0], [('PHEL', 'SPE'), 0], [('PHEL', 'MUS'), 0], [('PHEL', 'THEA'), 0], [('PHEL', 'MKTG'), 0], [('PHEL', 'ACCT'), 0], [('PHEL', 'MRE'), 0], [('PHEL', 'AS'), 0], [('PHEL', 'PSYC'), 0], [('PHEL', 'FIN'), 0], [('PHEL', 'DANC'), 0], [('PHEL', 'GER'), 0], [('PHEL', 'HED'), 0], [('PHEL', 'SCI'), 0], [('PHEL', 'PHEL'), 0], [('PHEL', 'SOC'), 0], [('PHEL', 'EDFD'), 0], [('PHEL', 'GBA'), 0], [('PHEL', 'PHIL'), 0], [('PHEL', 'IE'), 0], [('PHEL', 'MGMT'), 0], [('PHEL', 'CI'), 0], [('PHEL', 'SOCW'), 0], [('PHEL', 'ME'), 0], [('SOC', 'SAB'), 0], [('SOC', 'CIED'), 0], [('SOC', 'INTG'), 0], [('SOC', 'MC'), 0], [('SOC', 'ENSC'), 0], [('SOC', 'GRK'), 0], [('SOC', 'EPFR'), 0], [('SOC', 'ART'), 0], [('SOC', 'PHYS'), 0], [('SOC', 'UNIV'), 0], [('SOC', 'PBHE'), 0], [('SOC', 'STAT'), 0], [('SOC', 'HIST'), 0], [('SOC', 'ACS'), 0], [('SOC', 'ARA'), 0], [('SOC', 'HONS'), 0], [('SOC', 'ANTH'), 0], [('SOC', 'ENG'), 0], [('SOC', 'FR'), 0], [('SOC', 'ITAL'), 0], [('SOC', 'NUTR'), 0], [('SOC', 'GEOG'), 0], [('SOC', 'ECE'), 0], [('SOC', 'PROD'), 0], [('SOC', 'ESCI'), 0], [('SOC', 'KIN'), 0], [('SOC', 'CJ'), 0], [('SOC', 'CNST'), 0], [('SOC', 'ECON'), 0], [('SOC', 'WMST'), 0], [('SOC', 'CE'), 0], [('SOC', 'RA'), 0], [('SOC', 'FAC'), 0], [('SOC', 'RUSS'), 0], [('SOC', 'POLS'), 0], [('SOC', 'PAPA'), 0], [('SOC', 'MATH'), 0], [('SOC', 'QR'), 0], [('SOC', 'CS'), 0], [('SOC', 'SPAN'), 0], [('SOC', 'FL'), 0], [('SOC', 'EDUC'), 0], [('SOC', 'NURS'), 0], [('SOC', 'SPPA'), 0], [('SOC', 'SCM'), 0], [('SOC', 'IS'), 0], [('SOC', 'AD'), 0], [('SOC', 'IT'), 0], [('SOC', 'LIBS'), 0], [('SOC', 'OR'), 0], [('SOC', 'CMIS'), 0], [('SOC', 'LAT'), 0], [('SOC', 'CHIN'), 0], [('SOC', 'BIOL'), 0], [('SOC', 'SURV'), 0], [('SOC', 'MS'), 0], [('SOC', 'MSC'), 0], [('SOC', 'FST'), 0], [('SOC', 'CODE'), 0], [('SOC', 'HUM'), 0], [('SOC', 'INTS'), 0], [('SOC', 'CHEM'), 0], [('SOC', 'SPE'), 0], [('SOC', 'MUS'), 0], [('SOC', 'THEA'), 0], [('SOC', 'MKTG'), 0], [('SOC', 'ACCT'), 0], [('SOC', 'MRE'), 0], [('SOC', 'AS'), 0], [('SOC', 'PSYC'), 0], [('SOC', 'FIN'), 0], [('SOC', 'DANC'), 0], [('SOC', 'GER'), 0], [('SOC', 'HED'), 0], [('SOC', 'SCI'), 0], [('SOC', 'PHEL'), 0], [('SOC', 'SOC'), 0], [('SOC', 'EDFD'), 0], [('SOC', 'GBA'), 0], [('SOC', 'PHIL'), 0], [('SOC', 'IE'), 0], [('SOC', 'MGMT'), 0], [('SOC', 'CI'), 0], [('SOC', 'SOCW'), 0], [('SOC', 'ME'), 0], [('EDFD', 'SAB'), 0], [('EDFD', 'CIED'), 0], [('EDFD', 'INTG'), 0], [('EDFD', 'MC'), 0], [('EDFD', 'ENSC'), 0], [('EDFD', 'GRK'), 0], [('EDFD', 'EPFR'), 0], [('EDFD', 'ART'), 0], [('EDFD', 'PHYS'), 0], [('EDFD', 'UNIV'), 0], [('EDFD', 'PBHE'), 0], [('EDFD', 'STAT'), 0], [('EDFD', 'HIST'), 0], [('EDFD', 'ACS'), 0], [('EDFD', 'ARA'), 0], [('EDFD', 'HONS'), 0], [('EDFD', 'ANTH'), 0], [('EDFD', 'ENG'), 0], [('EDFD', 'FR'), 0], [('EDFD', 'ITAL'), 0], [('EDFD', 'NUTR'), 0], [('EDFD', 'GEOG'), 0], [('EDFD', 'ECE'), 0], [('EDFD', 'PROD'), 0], [('EDFD', 'ESCI'), 0], [('EDFD', 'KIN'), 0], [('EDFD', 'CJ'), 0], [('EDFD', 'CNST'), 0], [('EDFD', 'ECON'), 0], [('EDFD', 'WMST'), 0], [('EDFD', 'CE'), 0], [('EDFD', 'RA'), 0], [('EDFD', 'FAC'), 0], [('EDFD', 'RUSS'), 0], [('EDFD', 'POLS'), 0], [('EDFD', 'PAPA'), 0], [('EDFD', 'MATH'), 0], [('EDFD', 'QR'), 0], [('EDFD', 'CS'), 0], [('EDFD', 'SPAN'), 0], [('EDFD', 'FL'), 0], [('EDFD', 'EDUC'), 0], [('EDFD', 'NURS'), 0], [('EDFD', 'SPPA'), 0], [('EDFD', 'SCM'), 0], [('EDFD', 'IS'), 0], [('EDFD', 'AD'), 0], [('EDFD', 'IT'), 0], [('EDFD', 'LIBS'), 0], [('EDFD', 'OR'), 0], [('EDFD', 'CMIS'), 0], [('EDFD', 'LAT'), 0], [('EDFD', 'CHIN'), 0], [('EDFD', 'BIOL'), 0], [('EDFD', 'SURV'), 0], [('EDFD', 'MS'), 0], [('EDFD', 'MSC'), 0], [('EDFD', 'FST'), 0], [('EDFD', 'CODE'), 0], [('EDFD', 'HUM'), 0], [('EDFD', 'INTS'), 0], [('EDFD', 'CHEM'), 0], [('EDFD', 'SPE'), 0], [('EDFD', 'MUS'), 0], [('EDFD', 'THEA'), 0], [('EDFD', 'MKTG'), 0], [('EDFD', 'ACCT'), 0], [('EDFD', 'MRE'), 0], [('EDFD', 'AS'), 0], [('EDFD', 'PSYC'), 0], [('EDFD', 'FIN'), 0], [('EDFD', 'DANC'), 0], [('EDFD', 'GER'), 0], [('EDFD', 'HED'), 0], [('EDFD', 'SCI'), 0], [('EDFD', 'PHEL'), 0], [('EDFD', 'SOC'), 0], [('EDFD', 'EDFD'), 0], [('EDFD', 'GBA'), 0], [('EDFD', 'PHIL'), 0], [('EDFD', 'IE'), 0], [('EDFD', 'MGMT'), 0], [('EDFD', 'CI'), 0], [('EDFD', 'SOCW'), 0], [('EDFD', 'ME'), 0], [('GBA', 'SAB'), 0], [('GBA', 'CIED'), 0], [('GBA', 'INTG'), 0], [('GBA', 'MC'), 0], [('GBA', 'ENSC'), 0], [('GBA', 'GRK'), 0], [('GBA', 'EPFR'), 0], [('GBA', 'ART'), 0], [('GBA', 'PHYS'), 0], [('GBA', 'UNIV'), 0], [('GBA', 'PBHE'), 0], [('GBA', 'STAT'), 0], [('GBA', 'HIST'), 0], [('GBA', 'ACS'), 0], [('GBA', 'ARA'), 0], [('GBA', 'HONS'), 0], [('GBA', 'ANTH'), 0], [('GBA', 'ENG'), 0], [('GBA', 'FR'), 0], [('GBA', 'ITAL'), 0], [('GBA', 'NUTR'), 0], [('GBA', 'GEOG'), 0], [('GBA', 'ECE'), 0], [('GBA', 'PROD'), 0], [('GBA', 'ESCI'), 0], [('GBA', 'KIN'), 0], [('GBA', 'CJ'), 0], [('GBA', 'CNST'), 0], [('GBA', 'ECON'), 0], [('GBA', 'WMST'), 0], [('GBA', 'CE'), 0], [('GBA', 'RA'), 0], [('GBA', 'FAC'), 0], [('GBA', 'RUSS'), 0], [('GBA', 'POLS'), 0], [('GBA', 'PAPA'), 0], [('GBA', 'MATH'), 0], [('GBA', 'QR'), 0], [('GBA', 'CS'), 0], [('GBA', 'SPAN'), 0], [('GBA', 'FL'), 0], [('GBA', 'EDUC'), 0], [('GBA', 'NURS'), 0], [('GBA', 'SPPA'), 0], [('GBA', 'SCM'), 0], [('GBA', 'IS'), 0], [('GBA', 'AD'), 0], [('GBA', 'IT'), 0], [('GBA', 'LIBS'), 0], [('GBA', 'OR'), 0], [('GBA', 'CMIS'), 0], [('GBA', 'LAT'), 0], [('GBA', 'CHIN'), 0], [('GBA', 'BIOL'), 0], [('GBA', 'SURV'), 0], [('GBA', 'MS'), 0], [('GBA', 'MSC'), 0], [('GBA', 'FST'), 0], [('GBA', 'CODE'), 0], [('GBA', 'HUM'), 0], [('GBA', 'INTS'), 0], [('GBA', 'CHEM'), 0], [('GBA', 'SPE'), 0], [('GBA', 'MUS'), 0], [('GBA', 'THEA'), 0], [('GBA', 'MKTG'), 0], [('GBA', 'ACCT'), 0], [('GBA', 'MRE'), 0], [('GBA', 'AS'), 0], [('GBA', 'PSYC'), 0], [('GBA', 'FIN'), 0], [('GBA', 'DANC'), 0], [('GBA', 'GER'), 0], [('GBA', 'HED'), 0], [('GBA', 'SCI'), 0], [('GBA', 'PHEL'), 0], [('GBA', 'SOC'), 0], [('GBA', 'EDFD'), 0], [('GBA', 'GBA'), 0], [('GBA', 'PHIL'), 0], [('GBA', 'IE'), 0], [('GBA', 'MGMT'), 0], [('GBA', 'CI'), 0], [('GBA', 'SOCW'), 0], [('GBA', 'ME'), 0], [('PHIL', 'SAB'), 0], [('PHIL', 'CIED'), 0], [('PHIL', 'INTG'), 0], [('PHIL', 'MC'), 0], [('PHIL', 'ENSC'), 0], [('PHIL', 'GRK'), 0], [('PHIL', 'EPFR'), 0], [('PHIL', 'ART'), 0], [('PHIL', 'PHYS'), 0], [('PHIL', 'UNIV'), 0], [('PHIL', 'PBHE'), 0], [('PHIL', 'STAT'), 0], [('PHIL', 'HIST'), 0], [('PHIL', 'ACS'), 0], [('PHIL', 'ARA'), 0], [('PHIL', 'HONS'), 0], [('PHIL', 'ANTH'), 0], [('PHIL', 'ENG'), 0], [('PHIL', 'FR'), 0], [('PHIL', 'ITAL'), 0], [('PHIL', 'NUTR'), 0], [('PHIL', 'GEOG'), 0], [('PHIL', 'ECE'), 0], [('PHIL', 'PROD'), 0], [('PHIL', 'ESCI'), 0], [('PHIL', 'KIN'), 0], [('PHIL', 'CJ'), 0], [('PHIL', 'CNST'), 0], [('PHIL', 'ECON'), 0], [('PHIL', 'WMST'), 0], [('PHIL', 'CE'), 0], [('PHIL', 'RA'), 0], [('PHIL', 'FAC'), 0], [('PHIL', 'RUSS'), 0], [('PHIL', 'POLS'), 0], [('PHIL', 'PAPA'), 0], [('PHIL', 'MATH'), 0], [('PHIL', 'QR'), 0], [('PHIL', 'CS'), 0], [('PHIL', 'SPAN'), 0], [('PHIL', 'FL'), 0], [('PHIL', 'EDUC'), 0], [('PHIL', 'NURS'), 0], [('PHIL', 'SPPA'), 0], [('PHIL', 'SCM'), 0], [('PHIL', 'IS'), 0], [('PHIL', 'AD'), 0], [('PHIL', 'IT'), 0], [('PHIL', 'LIBS'), 0], [('PHIL', 'OR'), 0], [('PHIL', 'CMIS'), 0], [('PHIL', 'LAT'), 0], [('PHIL', 'CHIN'), 0], [('PHIL', 'BIOL'), 0], [('PHIL', 'SURV'), 0], [('PHIL', 'MS'), 0], [('PHIL', 'MSC'), 0], [('PHIL', 'FST'), 0], [('PHIL', 'CODE'), 0], [('PHIL', 'HUM'), 0], [('PHIL', 'INTS'), 0], [('PHIL', 'CHEM'), 0], [('PHIL', 'SPE'), 0], [('PHIL', 'MUS'), 0], [('PHIL', 'THEA'), 0], [('PHIL', 'MKTG'), 0], [('PHIL', 'ACCT'), 0], [('PHIL', 'MRE'), 0], [('PHIL', 'AS'), 0], [('PHIL', 'PSYC'), 0], [('PHIL', 'FIN'), 0], [('PHIL', 'DANC'), 0], [('PHIL', 'GER'), 0], [('PHIL', 'HED'), 0], [('PHIL', 'SCI'), 0], [('PHIL', 'PHEL'), 0], [('PHIL', 'SOC'), 0], [('PHIL', 'EDFD'), 0], [('PHIL', 'GBA'), 0], [('PHIL', 'PHIL'), 0], [('PHIL', 'IE'), 0], [('PHIL', 'MGMT'), 0], [('PHIL', 'CI'), 0], [('PHIL', 'SOCW'), 0], [('PHIL', 'ME'), 0], [('IE', 'SAB'), 0], [('IE', 'CIED'), 0], [('IE', 'INTG'), 0], [('IE', 'MC'), 0], [('IE', 'ENSC'), 0], [('IE', 'GRK'), 0], [('IE', 'EPFR'), 0], [('IE', 'ART'), 0], [('IE', 'PHYS'), 0], [('IE', 'UNIV'), 0], [('IE', 'PBHE'), 0], [('IE', 'STAT'), 0], [('IE', 'HIST'), 0], [('IE', 'ACS'), 0], [('IE', 'ARA'), 0], [('IE', 'HONS'), 0], [('IE', 'ANTH'), 0], [('IE', 'ENG'), 0], [('IE', 'FR'), 0], [('IE', 'ITAL'), 0], [('IE', 'NUTR'), 0], [('IE', 'GEOG'), 0], [('IE', 'ECE'), 0], [('IE', 'PROD'), 0], [('IE', 'ESCI'), 0], [('IE', 'KIN'), 0], [('IE', 'CJ'), 0], [('IE', 'CNST'), 0], [('IE', 'ECON'), 0], [('IE', 'WMST'), 0], [('IE', 'CE'), 0], [('IE', 'RA'), 0], [('IE', 'FAC'), 0], [('IE', 'RUSS'), 0], [('IE', 'POLS'), 0], [('IE', 'PAPA'), 0], [('IE', 'MATH'), 0], [('IE', 'QR'), 0], [('IE', 'CS'), 0], [('IE', 'SPAN'), 0], [('IE', 'FL'), 0], [('IE', 'EDUC'), 0], [('IE', 'NURS'), 0], [('IE', 'SPPA'), 0], [('IE', 'SCM'), 0], [('IE', 'IS'), 0], [('IE', 'AD'), 0], [('IE', 'IT'), 0], [('IE', 'LIBS'), 0], [('IE', 'OR'), 0], [('IE', 'CMIS'), 0], [('IE', 'LAT'), 0], [('IE', 'CHIN'), 0], [('IE', 'BIOL'), 0], [('IE', 'SURV'), 0], [('IE', 'MS'), 0], [('IE', 'MSC'), 0], [('IE', 'FST'), 0], [('IE', 'CODE'), 0], [('IE', 'HUM'), 0], [('IE', 'INTS'), 0], [('IE', 'CHEM'), 0], [('IE', 'SPE'), 0], [('IE', 'MUS'), 0], [('IE', 'THEA'), 0], [('IE', 'MKTG'), 0], [('IE', 'ACCT'), 0], [('IE', 'MRE'), 0], [('IE', 'AS'), 0], [('IE', 'PSYC'), 0], [('IE', 'FIN'), 0], [('IE', 'DANC'), 0], [('IE', 'GER'), 0], [('IE', 'HED'), 0], [('IE', 'SCI'), 0], [('IE', 'PHEL'), 0], [('IE', 'SOC'), 0], [('IE', 'EDFD'), 0], [('IE', 'GBA'), 0], [('IE', 'PHIL'), 0], [('IE', 'IE'), 0], [('IE', 'MGMT'), 0], [('IE', 'CI'), 0], [('IE', 'SOCW'), 0], [('IE', 'ME'), 0], [('MGMT', 'SAB'), 0], [('MGMT', 'CIED'), 0], [('MGMT', 'INTG'), 0], [('MGMT', 'MC'), 0], [('MGMT', 'ENSC'), 0], [('MGMT', 'GRK'), 0], [('MGMT', 'EPFR'), 0], [('MGMT', 'ART'), 0], [('MGMT', 'PHYS'), 0], [('MGMT', 'UNIV'), 0], [('MGMT', 'PBHE'), 0], [('MGMT', 'STAT'), 0], [('MGMT', 'HIST'), 0], [('MGMT', 'ACS'), 0], [('MGMT', 'ARA'), 0], [('MGMT', 'HONS'), 0], [('MGMT', 'ANTH'), 0], [('MGMT', 'ENG'), 0], [('MGMT', 'FR'), 0], [('MGMT', 'ITAL'), 0], [('MGMT', 'NUTR'), 0], [('MGMT', 'GEOG'), 0], [('MGMT', 'ECE'), 0], [('MGMT', 'PROD'), 0], [('MGMT', 'ESCI'), 0], [('MGMT', 'KIN'), 0], [('MGMT', 'CJ'), 0], [('MGMT', 'CNST'), 0], [('MGMT', 'ECON'), 0], [('MGMT', 'WMST'), 0], [('MGMT', 'CE'), 0], [('MGMT', 'RA'), 0], [('MGMT', 'FAC'), 0], [('MGMT', 'RUSS'), 0], [('MGMT', 'POLS'), 0], [('MGMT', 'PAPA'), 0], [('MGMT', 'MATH'), 0], [('MGMT', 'QR'), 0], [('MGMT', 'CS'), 0], [('MGMT', 'SPAN'), 0], [('MGMT', 'FL'), 0], [('MGMT', 'EDUC'), 0], [('MGMT', 'NURS'), 0], [('MGMT', 'SPPA'), 0], [('MGMT', 'SCM'), 0], [('MGMT', 'IS'), 0], [('MGMT', 'AD'), 0], [('MGMT', 'IT'), 0], [('MGMT', 'LIBS'), 0], [('MGMT', 'OR'), 0], [('MGMT', 'CMIS'), 0], [('MGMT', 'LAT'), 0], [('MGMT', 'CHIN'), 0], [('MGMT', 'BIOL'), 0], [('MGMT', 'SURV'), 0], [('MGMT', 'MS'), 0], [('MGMT', 'MSC'), 0], [('MGMT', 'FST'), 0], [('MGMT', 'CODE'), 0], [('MGMT', 'HUM'), 0], [('MGMT', 'INTS'), 0], [('MGMT', 'CHEM'), 0], [('MGMT', 'SPE'), 0], [('MGMT', 'MUS'), 0], [('MGMT', 'THEA'), 0], [('MGMT', 'MKTG'), 0], [('MGMT', 'ACCT'), 0], [('MGMT', 'MRE'), 0], [('MGMT', 'AS'), 0], [('MGMT', 'PSYC'), 0], [('MGMT', 'FIN'), 0], [('MGMT', 'DANC'), 0], [('MGMT', 'GER'), 0], [('MGMT', 'HED'), 0], [('MGMT', 'SCI'), 0], [('MGMT', 'PHEL'), 0], [('MGMT', 'SOC'), 0], [('MGMT', 'EDFD'), 0], [('MGMT', 'GBA'), 0], [('MGMT', 'PHIL'), 0], [('MGMT', 'IE'), 0], [('MGMT', 'MGMT'), 0], [('MGMT', 'CI'), 0], [('MGMT', 'SOCW'), 0], [('MGMT', 'ME'), 0], [('CI', 'SAB'), 0], [('CI', 'CIED'), 0], [('CI', 'INTG'), 0], [('CI', 'MC'), 0], [('CI', 'ENSC'), 0], [('CI', 'GRK'), 0], [('CI', 'EPFR'), 0], [('CI', 'ART'), 0], [('CI', 'PHYS'), 0], [('CI', 'UNIV'), 0], [('CI', 'PBHE'), 0], [('CI', 'STAT'), 0], [('CI', 'HIST'), 0], [('CI', 'ACS'), 0], [('CI', 'ARA'), 0], [('CI', 'HONS'), 0], [('CI', 'ANTH'), 0], [('CI', 'ENG'), 0], [('CI', 'FR'), 0], [('CI', 'ITAL'), 0], [('CI', 'NUTR'), 0], [('CI', 'GEOG'), 0], [('CI', 'ECE'), 0], [('CI', 'PROD'), 0], [('CI', 'ESCI'), 0], [('CI', 'KIN'), 0], [('CI', 'CJ'), 0], [('CI', 'CNST'), 0], [('CI', 'ECON'), 0], [('CI', 'WMST'), 0], [('CI', 'CE'), 0], [('CI', 'RA'), 0], [('CI', 'FAC'), 0], [('CI', 'RUSS'), 0], [('CI', 'POLS'), 0], [('CI', 'PAPA'), 0], [('CI', 'MATH'), 0], [('CI', 'QR'), 0], [('CI', 'CS'), 0], [('CI', 'SPAN'), 0], [('CI', 'FL'), 0], [('CI', 'EDUC'), 0], [('CI', 'NURS'), 0], [('CI', 'SPPA'), 0], [('CI', 'SCM'), 0], [('CI', 'IS'), 0], [('CI', 'AD'), 0], [('CI', 'IT'), 0], [('CI', 'LIBS'), 0], [('CI', 'OR'), 0], [('CI', 'CMIS'), 0], [('CI', 'LAT'), 0], [('CI', 'CHIN'), 0], [('CI', 'BIOL'), 0], [('CI', 'SURV'), 0], [('CI', 'MS'), 0], [('CI', 'MSC'), 0], [('CI', 'FST'), 0], [('CI', 'CODE'), 0], [('CI', 'HUM'), 0], [('CI', 'INTS'), 0], [('CI', 'CHEM'), 0], [('CI', 'SPE'), 0], [('CI', 'MUS'), 0], [('CI', 'THEA'), 0], [('CI', 'MKTG'), 0], [('CI', 'ACCT'), 0], [('CI', 'MRE'), 0], [('CI', 'AS'), 0], [('CI', 'PSYC'), 0], [('CI', 'FIN'), 0], [('CI', 'DANC'), 0], [('CI', 'GER'), 0], [('CI', 'HED'), 0], [('CI', 'SCI'), 0], [('CI', 'PHEL'), 0], [('CI', 'SOC'), 0], [('CI', 'EDFD'), 0], [('CI', 'GBA'), 0], [('CI', 'PHIL'), 0], [('CI', 'IE'), 0], [('CI', 'MGMT'), 0], [('CI', 'CI'), 0], [('CI', 'SOCW'), 0], [('CI', 'ME'), 0], [('SOCW', 'SAB'), 0], [('SOCW', 'CIED'), 0], [('SOCW', 'INTG'), 0], [('SOCW', 'MC'), 0], [('SOCW', 'ENSC'), 0], [('SOCW', 'GRK'), 0], [('SOCW', 'EPFR'), 0], [('SOCW', 'ART'), 0], [('SOCW', 'PHYS'), 0], [('SOCW', 'UNIV'), 0], [('SOCW', 'PBHE'), 0], [('SOCW', 'STAT'), 0], [('SOCW', 'HIST'), 0], [('SOCW', 'ACS'), 0], [('SOCW', 'ARA'), 0], [('SOCW', 'HONS'), 0], [('SOCW', 'ANTH'), 0], [('SOCW', 'ENG'), 0], [('SOCW', 'FR'), 0], [('SOCW', 'ITAL'), 0], [('SOCW', 'NUTR'), 0], [('SOCW', 'GEOG'), 0], [('SOCW', 'ECE'), 0], [('SOCW', 'PROD'), 0], [('SOCW', 'ESCI'), 0], [('SOCW', 'KIN'), 0], [('SOCW', 'CJ'), 0], [('SOCW', 'CNST'), 0], [('SOCW', 'ECON'), 0], [('SOCW', 'WMST'), 0], [('SOCW', 'CE'), 0], [('SOCW', 'RA'), 0], [('SOCW', 'FAC'), 0], [('SOCW', 'RUSS'), 0], [('SOCW', 'POLS'), 0], [('SOCW', 'PAPA'), 0], [('SOCW', 'MATH'), 0], [('SOCW', 'QR'), 0], [('SOCW', 'CS'), 0], [('SOCW', 'SPAN'), 0], [('SOCW', 'FL'), 0], [('SOCW', 'EDUC'), 0], [('SOCW', 'NURS'), 0], [('SOCW', 'SPPA'), 0], [('SOCW', 'SCM'), 0], [('SOCW', 'IS'), 0], [('SOCW', 'AD'), 0], [('SOCW', 'IT'), 0], [('SOCW', 'LIBS'), 0], [('SOCW', 'OR'), 0], [('SOCW', 'CMIS'), 0], [('SOCW', 'LAT'), 0], [('SOCW', 'CHIN'), 0], [('SOCW', 'BIOL'), 0], [('SOCW', 'SURV'), 0], [('SOCW', 'MS'), 0], [('SOCW', 'MSC'), 0], [('SOCW', 'FST'), 0], [('SOCW', 'CODE'), 0], [('SOCW', 'HUM'), 0], [('SOCW', 'INTS'), 0], [('SOCW', 'CHEM'), 0], [('SOCW', 'SPE'), 0], [('SOCW', 'MUS'), 0], [('SOCW', 'THEA'), 0], [('SOCW', 'MKTG'), 0], [('SOCW', 'ACCT'), 0], [('SOCW', 'MRE'), 0], [('SOCW', 'AS'), 0], [('SOCW', 'PSYC'), 0], [('SOCW', 'FIN'), 0], [('SOCW', 'DANC'), 0], [('SOCW', 'GER'), 0], [('SOCW', 'HED'), 0], [('SOCW', 'SCI'), 0], [('SOCW', 'PHEL'), 0], [('SOCW', 'SOC'), 0], [('SOCW', 'EDFD'), 0], [('SOCW', 'GBA'), 0], [('SOCW', 'PHIL'), 0], [('SOCW', 'IE'), 0], [('SOCW', 'MGMT'), 0], [('SOCW', 'CI'), 0], [('SOCW', 'SOCW'), 0], [('SOCW', 'ME'), 0], [('ME', 'SAB'), 0], [('ME', 'CIED'), 0], [('ME', 'INTG'), 0], [('ME', 'MC'), 0], [('ME', 'ENSC'), 0], [('ME', 'GRK'), 0], [('ME', 'EPFR'), 0], [('ME', 'ART'), 0], [('ME', 'PHYS'), 0], [('ME', 'UNIV'), 0], [('ME', 'PBHE'), 0], [('ME', 'STAT'), 0], [('ME', 'HIST'), 0], [('ME', 'ACS'), 0], [('ME', 'ARA'), 0], [('ME', 'HONS'), 0], [('ME', 'ANTH'), 0], [('ME', 'ENG'), 0], [('ME', 'FR'), 0], [('ME', 'ITAL'), 0], [('ME', 'NUTR'), 0], [('ME', 'GEOG'), 0], [('ME', 'ECE'), 0], [('ME', 'PROD'), 0], [('ME', 'ESCI'), 0], [('ME', 'KIN'), 0], [('ME', 'CJ'), 0], [('ME', 'CNST'), 0], [('ME', 'ECON'), 0], [('ME', 'WMST'), 0], [('ME', 'CE'), 0], [('ME', 'RA'), 0], [('ME', 'FAC'), 0], [('ME', 'RUSS'), 0], [('ME', 'POLS'), 0], [('ME', 'PAPA'), 0], [('ME', 'MATH'), 0], [('ME', 'QR'), 0], [('ME', 'CS'), 0], [('ME', 'SPAN'), 0], [('ME', 'FL'), 0], [('ME', 'EDUC'), 0], [('ME', 'NURS'), 0], [('ME', 'SPPA'), 0], [('ME', 'SCM'), 0], [('ME', 'IS'), 0], [('ME', 'AD'), 0], [('ME', 'IT'), 0], [('ME', 'LIBS'), 0], [('ME', 'OR'), 0], [('ME', 'CMIS'), 0], [('ME', 'LAT'), 0], [('ME', 'CHIN'), 0], [('ME', 'BIOL'), 0], [('ME', 'SURV'), 0], [('ME', 'MS'), 0], [('ME', 'MSC'), 0], [('ME', 'FST'), 0], [('ME', 'CODE'), 0], [('ME', 'HUM'), 0], [('ME', 'INTS'), 0], [('ME', 'CHEM'), 0], [('ME', 'SPE'), 0], [('ME', 'MUS'), 0], [('ME', 'THEA'), 0], [('ME', 'MKTG'), 0], [('ME', 'ACCT'), 0], [('ME', 'MRE'), 0], [('ME', 'AS'), 0], [('ME', 'PSYC'), 0], [('ME', 'FIN'), 0], [('ME', 'DANC'), 0], [('ME', 'GER'), 0], [('ME', 'HED'), 0], [('ME', 'SCI'), 0], [('ME', 'PHEL'), 0], [('ME', 'SOC'), 0], [('ME', 'EDFD'), 0], [('ME', 'GBA'), 0], [('ME', 'PHIL'), 0], [('ME', 'IE'), 0], [('ME', 'MGMT'), 0], [('ME', 'CI'), 0], [('ME', 'SOCW'), 0], [('ME', 'ME'), 0]]\n"
          ]
        }
      ]
    },
    {
      "cell_type": "code",
      "source": [
        "for i in range(len(data)):\n",
        "  for j in range(len(data[i])-3):\n",
        "    if( maj(data[i][j]) in k and data[i][j]!= data[i][0]):\n",
        "\n",
        "      v[maj(data[i][j]),maj(data[i][0])]+=1\n"
      ],
      "metadata": {
        "id": "TuiedkG1pvDd"
      },
      "execution_count": 28,
      "outputs": []
    },
    {
      "cell_type": "code",
      "source": [
        "mm = sorted(v.items(),key = lambda d:d[1],reverse=True)\n",
        "print(mm[0][0])\n",
        "print(mm[0][1])\n",
        "\n",
        "ced = []\n",
        "for i in mm:\n",
        "  if(i[1] > 0):\n",
        "    p = (i[0][0],i[0][1],i[1])\n",
        "    ced.append(p)\n",
        "\n",
        "for i in mm:\n",
        "  if(i[1] > 0 and i[0][0] == i[0][1]):\n",
        "    # print( i[0][0],i[0][1],i[1] )\n",
        "    ced.append(p)\n",
        "\n",
        "#edit edges"
      ],
      "metadata": {
        "colab": {
          "base_uri": "https://localhost:8080/"
        },
        "id": "sdbiLiNjlRZs",
        "outputId": "26cea71d-1134-456f-bfd5-359efb772e37"
      },
      "execution_count": 29,
      "outputs": [
        {
          "output_type": "stream",
          "name": "stdout",
          "text": [
            "('MUS', 'MUS')\n",
            "155\n"
          ]
        }
      ]
    },
    {
      "cell_type": "code",
      "source": [
        "\n",
        "for i in ced:\n",
        "  if(i[0] != i[1]):\n",
        "    # print(i)\n",
        "    CG.add_edge(i[0],i[1],weight = i[2])\n",
        "\n",
        "nx.write_gml(CG,'cgG09.gml') #the cirriculm graph"
      ],
      "metadata": {
        "id": "1geoWwS5lRcb"
      },
      "execution_count": 30,
      "outputs": []
    },
    {
      "cell_type": "code",
      "source": [
        "AA = (CG.subgraph(c) for c in nx.weakly_connected_components(CG))\n",
        "AA = list(AA)[0]\n",
        "nx.write_gml(AA, \"CGmax_09.gml\")\n",
        "#The Lcc in the cirriculm graph"
      ],
      "metadata": {
        "id": "exBf1Itq0l3p"
      },
      "execution_count": 31,
      "outputs": []
    },
    {
      "cell_type": "code",
      "source": [
        "#######################################################\n",
        "#######################################################\n",
        "#######################################################"
      ],
      "metadata": {
        "id": "Cn87LTkklRiJ"
      },
      "execution_count": null,
      "outputs": []
    },
    {
      "cell_type": "code",
      "source": [
        "\n",
        "G=nx.DiGraph()\n",
        "for i in range(len(data)):\n",
        "  G.add_node(dd[i],attr1=dd1[i], attr2 = dd2[i])\n",
        "\n",
        "\n",
        "for i in range(len(data)):\n",
        "  for j in range(len(data[i])-2):\n",
        "    if( data[i][j] in dd ):\n",
        "      {\n",
        "          G.add_edge(data[i][j],data[i][0])\n",
        "      }\n",
        "G.remove_edges_from(list(nx.selfloop_edges(G)))\n",
        "nx.write_gml(G, \"mus_0814.gml\")"
      ],
      "metadata": {
        "id": "R5VyBaJY9FYf"
      },
      "execution_count": null,
      "outputs": []
    },
    {
      "cell_type": "code",
      "source": [
        "A = (G.subgraph(c) for c in nx.weakly_connected_components(G))\n",
        "A = list(A)[0]\n",
        "# nx.write_gml(A, \"max_0814.gml\")"
      ],
      "metadata": {
        "id": "1ZDhQaba91Eg"
      },
      "execution_count": null,
      "outputs": []
    },
    {
      "cell_type": "code",
      "source": [
        "# the CPN same logic, 2447 nodes\n",
        "G=nx.DiGraph()\n",
        "for i in range(len(data)):\n",
        "  G.add_node(dd[i],attr1=dd1[i], attr2 = dd2[i])\n",
        "\n",
        "\n",
        "for i in range(len(data)):\n",
        "  for j in range(len(data[i])-2):\n",
        "    if(data[i][-3] == \"AND\" and data[i][j] in dd ):\n",
        "      {\n",
        "          G.add_edge(data[i][j],data[i][0],weight = 1)\n",
        "      }\n",
        "    if(data[i][j] in dd and data[i][-3] == \"OR\"):\n",
        "      {\n",
        "          G.add_edge(data[i][j],data[i][0], weight = 1/( len(data[i]) - 3 ) )\n",
        "      }\n",
        "G.remove_edges_from(list(nx.selfloop_edges(G)))\n",
        "# nx.write_gml(G, \"Curr_0801_4.gml\")"
      ],
      "metadata": {
        "id": "y_jo2rU2Pj-o"
      },
      "execution_count": 34,
      "outputs": []
    },
    {
      "cell_type": "code",
      "source": [
        "d = list(data)\n",
        "# d[0][0：-3]\n",
        "d[0][0:-3]"
      ],
      "metadata": {
        "colab": {
          "base_uri": "https://localhost:8080/"
        },
        "id": "6TedhZYi4_bi",
        "outputId": "637227cc-820e-41a5-9c06-57babe292a16"
      },
      "execution_count": null,
      "outputs": [
        {
          "output_type": "execute_result",
          "data": {
            "text/plain": [
              "['ACCT200', 'ECON112']"
            ]
          },
          "metadata": {},
          "execution_count": 4
        }
      ]
    },
    {
      "cell_type": "code",
      "source": [
        "# The Lcc in the CPN, 710 nodes\n",
        "A = (G.subgraph(c) for c in nx.weakly_connected_components(G))\n",
        "A = list(A)[0]\n",
        "nx.write_gml(A, \"max_0801.gml\")"
      ],
      "metadata": {
        "id": "Kv8-BI989D8V"
      },
      "execution_count": null,
      "outputs": []
    },
    {
      "cell_type": "code",
      "source": [
        "#################################################################################\n",
        "#################################################################################\n",
        "#################################################################################\n",
        "#################################################################################\n",
        "#################################################################################\n",
        "#################################################################################"
      ],
      "metadata": {
        "id": "36ffPljFUB7N"
      },
      "execution_count": 32,
      "outputs": []
    },
    {
      "cell_type": "code",
      "source": [
        "largest = max(nx.weakly_connected_components(G))\n",
        "\n",
        "len(largest)\n",
        "\n"
      ],
      "metadata": {
        "id": "aOIzVGZk7eiU",
        "colab": {
          "base_uri": "https://localhost:8080/"
        },
        "outputId": "acd09b04-bac9-4bd7-833c-aae170114c4a"
      },
      "execution_count": 36,
      "outputs": [
        {
          "output_type": "execute_result",
          "data": {
            "text/plain": [
              "710"
            ]
          },
          "metadata": {},
          "execution_count": 36
        }
      ]
    },
    {
      "cell_type": "code",
      "source": [
        "G.remove_edges_from(list(nx.selfloop_edges(G)))\n",
        "\n",
        "nx.write_gml(G, \"Curr2.gml\")"
      ],
      "metadata": {
        "id": "akV6c6C0Q03r"
      },
      "execution_count": null,
      "outputs": []
    },
    {
      "cell_type": "code",
      "source": [
        "#################################################################################\n",
        "#################################################################################\n",
        "#################################################################################\n",
        "#################################################################################\n",
        "#################################################################################\n",
        "#################################################################################"
      ],
      "metadata": {
        "id": "tJ8zkaVe5bj1"
      },
      "execution_count": null,
      "outputs": []
    },
    {
      "cell_type": "code",
      "source": [
        "J = nx.read_gml(\"max_0814.gml\", destringizer=int) # read gml file for futher operations\n"
      ],
      "metadata": {
        "id": "FrNWXdZS5b6_"
      },
      "execution_count": 38,
      "outputs": []
    },
    {
      "cell_type": "code",
      "source": [
        "a = list(nx.bfs_tree(J, \"MATH120\").edges()) #  reach calculation\n",
        "len(a)\n",
        "\n"
      ],
      "metadata": {
        "colab": {
          "base_uri": "https://localhost:8080/"
        },
        "id": "Z724oC0u-H-b",
        "outputId": "40304216-4087-4d86-cc3f-38602526b493"
      },
      "execution_count": 40,
      "outputs": [
        {
          "output_type": "execute_result",
          "data": {
            "text/plain": [
              "443"
            ]
          },
          "metadata": {},
          "execution_count": 40
        }
      ]
    },
    {
      "cell_type": "code",
      "source": [
        "aaa = []\n",
        "name = []\n",
        "for i in J.nodes():\n",
        "\n",
        "\n",
        "  aa = len(list(nx.bfs_tree(J, i).edges()))\n",
        "  aaa.append(aa)\n",
        "  name.append(i)\n",
        "\n",
        "c = zip(name,aaa)"
      ],
      "metadata": {
        "id": "r-PUSj8OSiOy"
      },
      "execution_count": 41,
      "outputs": []
    },
    {
      "cell_type": "code",
      "source": [
        "cc = list(c)"
      ],
      "metadata": {
        "id": "HB36_sQkUfRO"
      },
      "execution_count": 42,
      "outputs": []
    },
    {
      "cell_type": "code",
      "source": [
        "kkk = sorted(cc,key=lambda x:x[1],reverse=True)"
      ],
      "metadata": {
        "id": "yrOHOcTZVo2O"
      },
      "execution_count": 43,
      "outputs": []
    },
    {
      "cell_type": "code",
      "source": [
        "kkk"
      ],
      "metadata": {
        "id": "SQOCDs6CWqgh",
        "outputId": "33b21e0e-f2a5-43df-d944-a4fd4c7536fc",
        "colab": {
          "base_uri": "https://localhost:8080/"
        }
      },
      "execution_count": 44,
      "outputs": [
        {
          "output_type": "execute_result",
          "data": {
            "text/plain": [
              "[('MATH120', 443),\n",
              " ('MATH125', 370),\n",
              " ('MATH150', 229),\n",
              " ('MATH152', 189),\n",
              " ('CHEM113', 172),\n",
              " ('CHEM121A/125A', 167),\n",
              " ('MATH250', 124),\n",
              " ('BIOL150', 114),\n",
              " ('CHEM121B/125B', 111),\n",
              " ('CHEM241A', 94),\n",
              " ('PHYS141/151/151L', 91),\n",
              " ('BIOL151', 72),\n",
              " ('CHEM120A/124A', 65),\n",
              " ('MATH305', 64),\n",
              " ('ECON112', 62),\n",
              " ('PHYS131/131L', 62),\n",
              " ('ENG101', 61),\n",
              " ('ENG101E', 60),\n",
              " ('PHYS132/132L', 60),\n",
              " ('ENG101N', 60),\n",
              " ('ENG102', 57),\n",
              " ('BIOL220', 56),\n",
              " ('ENG102N', 52),\n",
              " ('ECON111', 48),\n",
              " ('PHYS142/152/152L', 45),\n",
              " ('ECE210', 43),\n",
              " ('BIOL140', 41),\n",
              " ('CHEM120N/124N', 40),\n",
              " ('MS250', 40),\n",
              " ('MS251', 39),\n",
              " ('BIOL240A', 37),\n",
              " ('CE240', 37),\n",
              " ('ACCT200', 35),\n",
              " ('ME262', 35),\n",
              " ('CS140', 35),\n",
              " ('PHYS251', 32),\n",
              " ('BIOL240B', 32),\n",
              " ('PHYS201/201L', 31),\n",
              " ('ECE211', 29),\n",
              " ('BIOL111', 27),\n",
              " ('STAT380', 26),\n",
              " ('CIED100', 24),\n",
              " ('CNST120', 23),\n",
              " ('CHEM120B/124B', 21),\n",
              " ('CS150', 21),\n",
              " ('CHEM300', 21),\n",
              " ('ME354', 20),\n",
              " ('BIOL319', 19),\n",
              " ('FIN320', 18),\n",
              " ('ENSC220/220L', 17),\n",
              " ('SPE100', 17),\n",
              " ('CHEM241B', 17),\n",
              " ('ECE351', 16),\n",
              " ('BIOL250', 15),\n",
              " ('CMIS130', 15),\n",
              " ('EPFR315', 15),\n",
              " ('EPFR320', 15),\n",
              " ('CHEM131/135', 15),\n",
              " ('MKTG300', 14),\n",
              " ('CNST210', 14),\n",
              " ('SPE401/405/417A/430A/442', 14),\n",
              " ('BIOL365', 13),\n",
              " ('CMIS108', 13),\n",
              " ('NURS240R', 13),\n",
              " ('SPE430/450', 13),\n",
              " ('CHEM361A/365A', 13),\n",
              " ('CNST211', 13),\n",
              " ('STAT480A', 12),\n",
              " ('SPE402/416/471', 12),\n",
              " ('NUTR250', 12),\n",
              " ('ME356', 12),\n",
              " ('MATH223', 11),\n",
              " ('ME315', 11),\n",
              " ('SPE470', 11),\n",
              " ('CS108', 11),\n",
              " ('SPE415', 11),\n",
              " ('CE315', 11),\n",
              " ('NURS240', 11),\n",
              " ('CNST341', 10),\n",
              " ('CS286', 10),\n",
              " ('ME310', 10),\n",
              " ('CMIS270', 10),\n",
              " ('SPE422', 10),\n",
              " ('SPE412/417B/418/430B', 10),\n",
              " ('MATH224', 9),\n",
              " ('ACCT210', 9),\n",
              " ('NURS355/355C', 8),\n",
              " ('PHYS304', 8),\n",
              " ('IE370', 8),\n",
              " ('MATH321', 8),\n",
              " ('CI301/CI316/SPE440', 8),\n",
              " ('NURS354/354C', 8),\n",
              " ('CE342', 8),\n",
              " ('CE354/354L', 8),\n",
              " ('MGMT330', 8),\n",
              " ('NURS246', 8),\n",
              " ('CS111', 8),\n",
              " ('ECE282', 8),\n",
              " ('KIN350', 8),\n",
              " ('CE330/330L', 8),\n",
              " ('CE204', 7),\n",
              " ('NURS341A/342/343', 7),\n",
              " ('MGMT331', 7),\n",
              " ('ACCT311', 7),\n",
              " ('CS340', 7),\n",
              " ('CS234', 7),\n",
              " ('CE343', 7),\n",
              " ('GEOG210', 6),\n",
              " ('CHEM451A', 6),\n",
              " ('ENG290', 6),\n",
              " ('CE206', 6),\n",
              " ('CHEM111', 6),\n",
              " ('MATH350', 6),\n",
              " ('ACCT312', 6),\n",
              " ('STAT480B', 6),\n",
              " ('CMIS310', 6),\n",
              " ('ME370', 6),\n",
              " ('PHYS410', 5),\n",
              " ('FIN420', 5),\n",
              " ('ME380', 5),\n",
              " ('ECE340', 5),\n",
              " ('ENSC431', 5),\n",
              " ('CE376', 5),\n",
              " ('ECE326', 5),\n",
              " ('STAT107', 5),\n",
              " ('STAT244', 5),\n",
              " ('CE380', 5),\n",
              " ('ACCT301', 5),\n",
              " ('PHYS321', 4),\n",
              " ('ECON301', 4),\n",
              " ('ENSC330', 4),\n",
              " ('GEOG202', 4),\n",
              " ('PHIL320', 4),\n",
              " ('CS314', 4),\n",
              " ('SURV264', 4),\n",
              " ('GEOG418', 4),\n",
              " ('CHEM451B/455', 4),\n",
              " ('ME410', 4),\n",
              " ('CHEM331/335', 4),\n",
              " ('PHYS230', 4),\n",
              " ('CHEM471', 4),\n",
              " ('PHYS323', 4),\n",
              " ('NURS335R', 4),\n",
              " ('NUTR205', 3),\n",
              " ('KIN315', 3),\n",
              " ('NUTR319', 3),\n",
              " ('ME350', 3),\n",
              " ('ECE365', 3),\n",
              " ('ME312', 3),\n",
              " ('ME450', 3),\n",
              " ('GEOG316', 3),\n",
              " ('ACCT302', 3),\n",
              " ('ECE341', 3),\n",
              " ('CI317', 3),\n",
              " ('CNST353', 3),\n",
              " ('NURS475R', 3),\n",
              " ('PHYS240', 3),\n",
              " ('MGMT430', 3),\n",
              " ('BIOL340', 3),\n",
              " ('IE345', 3),\n",
              " ('NUTR327', 3),\n",
              " ('MATH145', 3),\n",
              " ('SURV310', 3),\n",
              " ('MRE358', 3),\n",
              " ('CHEM361B/365B', 3),\n",
              " ('ACCT315', 2),\n",
              " ('ENSC340', 2),\n",
              " ('NURS474', 2),\n",
              " ('BIOL492', 2),\n",
              " ('MRE320', 2),\n",
              " ('MATH340', 2),\n",
              " ('CMIS234', 2),\n",
              " ('IE461', 2),\n",
              " ('MRE454', 2),\n",
              " ('KIN416', 2),\n",
              " ('BIOL327', 2),\n",
              " ('OR441', 2),\n",
              " ('IE415', 2),\n",
              " ('BIOL350', 2),\n",
              " ('ENG392', 2),\n",
              " ('ECE352', 2),\n",
              " ('CI315A', 2),\n",
              " ('IE470', 2),\n",
              " ('NURS472R', 2),\n",
              " ('ENG200', 2),\n",
              " ('CS325', 2),\n",
              " ('CI410', 2),\n",
              " ('KIN211', 2),\n",
              " ('ECON315', 2),\n",
              " ('CHEM461A', 2),\n",
              " ('CNST241', 2),\n",
              " ('NUTR401', 2),\n",
              " ('CS330', 2),\n",
              " ('IE451', 2),\n",
              " ('IE476', 2),\n",
              " ('CS360', 2),\n",
              " ('CS447', 1),\n",
              " ('CNST403', 1),\n",
              " ('ESCI111', 1),\n",
              " ('CNST451/451L', 1),\n",
              " ('CE445', 1),\n",
              " ('GEOG411', 1),\n",
              " ('ACCT321', 1),\n",
              " ('NURS472', 1),\n",
              " ('IE484', 1),\n",
              " ('GEOG321', 1),\n",
              " ('CHEM351', 1),\n",
              " ('CE416', 1),\n",
              " ('SURV482', 1),\n",
              " ('PHYS415A', 1),\n",
              " ('ENSC325', 1),\n",
              " ('ENSC210', 1),\n",
              " ('POLS300', 1),\n",
              " ('CI323', 1),\n",
              " ('FIN450', 1),\n",
              " ('BIOL444A', 1),\n",
              " ('ENG301', 1),\n",
              " ('MKTG377', 1),\n",
              " ('IE483', 1),\n",
              " ('CHEM431', 1),\n",
              " ('ENG393', 1),\n",
              " ('MATH498', 1),\n",
              " ('PHYS343', 1),\n",
              " ('NUTR408', 1),\n",
              " ('FIN430', 1),\n",
              " ('ENSC325A', 1),\n",
              " ('CMIS342', 1),\n",
              " ('BIOL418A', 1),\n",
              " ('NURS475', 1),\n",
              " ('ECON302', 1),\n",
              " ('CMIS350', 1),\n",
              " ('PHYS318', 1),\n",
              " ('ECE404', 1),\n",
              " ('CS425', 1),\n",
              " ('CE460', 1),\n",
              " ('PHYS416', 1),\n",
              " ('PHYS405A', 1),\n",
              " ('MRE480', 1),\n",
              " ('ME482', 1),\n",
              " ('IE465', 1),\n",
              " ('FIN431', 1),\n",
              " ('CHEM245', 1),\n",
              " ('BIOL467', 1),\n",
              " ('CS321', 1),\n",
              " ('CHEM411', 1),\n",
              " ('PBHE353', 1),\n",
              " ('NUTR411', 1),\n",
              " ('ECE375', 1),\n",
              " ('CMIS232', 1),\n",
              " ('PHYS431', 0),\n",
              " ('PHYS312', 0),\n",
              " ('CHEM469', 0),\n",
              " ('IE463', 0),\n",
              " ('ME244', 0),\n",
              " ('FIN480', 0),\n",
              " ('CS434', 0),\n",
              " ('ECE484', 0),\n",
              " ('CE488', 0),\n",
              " ('ECON327', 0),\n",
              " ('ME410L', 0),\n",
              " ('SOCW466', 0),\n",
              " ('ME472', 0),\n",
              " ('IE464', 0),\n",
              " ('ENSC419', 0),\n",
              " ('ME456', 0),\n",
              " ('BIOL474', 0),\n",
              " ('MATH499', 0),\n",
              " ('ENSC426', 0),\n",
              " ('ENSC435', 0),\n",
              " ('CS482', 0),\n",
              " ('ME484', 0),\n",
              " ('CS476', 0),\n",
              " ('NURS474C', 0),\n",
              " ('ENG306', 0),\n",
              " ('CHEM345', 0),\n",
              " ('ECE466', 0),\n",
              " ('MATH451', 0),\n",
              " ('GEOG432', 0),\n",
              " ('CNST452', 0),\n",
              " ('NUTR375', 0),\n",
              " ('MKTG480', 0),\n",
              " ('CMIS352', 0),\n",
              " ('PHYS450', 0),\n",
              " ('GEOG410', 0),\n",
              " ('ME417', 0),\n",
              " ('ME356L', 0),\n",
              " ('NURS481', 0),\n",
              " ('CHEM435', 0),\n",
              " ('IE401', 0),\n",
              " ('BIOL485', 0),\n",
              " ('CNST461', 0),\n",
              " ('ENG492', 0),\n",
              " ('CI352O', 0),\n",
              " ('MATH423', 0),\n",
              " ('SPE471', 0),\n",
              " ('CHEM296', 0),\n",
              " ('NURS482', 0),\n",
              " ('BIOL321', 0),\n",
              " ('GEOG421', 0),\n",
              " ('BIOL471', 0),\n",
              " ('CI352L', 0),\n",
              " ('GEOG416', 0),\n",
              " ('ECON428', 0),\n",
              " ('CNST299/301/301L', 0),\n",
              " ('KIN316', 0),\n",
              " ('ECE405', 0),\n",
              " ('ENSC440', 0),\n",
              " ('ECE438', 0),\n",
              " ('MATH462', 0),\n",
              " ('PHYS298', 0),\n",
              " ('MKTG474', 0),\n",
              " ('CHEM410', 0),\n",
              " ('CI315B', 0),\n",
              " ('PBHE455', 0),\n",
              " ('CE455', 0),\n",
              " ('MATH435', 0),\n",
              " ('ECE145', 0),\n",
              " ('ENG488', 0),\n",
              " ('PHYS432', 0),\n",
              " ('NURS351', 0),\n",
              " ('ECE482', 0),\n",
              " ('CHEM441', 0),\n",
              " ('THEA392', 0),\n",
              " ('MATH430', 0),\n",
              " ('ME466', 0),\n",
              " ('ECE437', 0),\n",
              " ('ENG491', 0),\n",
              " ('ECON343', 0),\n",
              " ('BIOL205', 0),\n",
              " ('ME419', 0),\n",
              " ('ENG411', 0),\n",
              " ('CI352F', 0),\n",
              " ('CHEM446', 0),\n",
              " ('ENG345', 0),\n",
              " ('CI352G', 0),\n",
              " ('PHYS419', 0),\n",
              " ('ENG498', 0),\n",
              " ('MKTG476', 0),\n",
              " ('CI352A', 0),\n",
              " ('CNST415', 0),\n",
              " ('BIOL420', 0),\n",
              " ('FIN344', 0),\n",
              " ('ENG394', 0),\n",
              " ('PHYS397', 0),\n",
              " ('CNST332', 0),\n",
              " ('CE435', 0),\n",
              " ('ME380L', 0),\n",
              " ('STAT410', 0),\n",
              " ('ACCT401', 0),\n",
              " ('CS456', 0),\n",
              " ('ECE444', 0),\n",
              " ('CE487', 0),\n",
              " ('CNST321', 0),\n",
              " ('BIOL434', 0),\n",
              " ('CE446', 0),\n",
              " ('CMIS422', 0),\n",
              " ('STAT485', 0),\n",
              " ('BIOL432', 0),\n",
              " ('NURS476', 0),\n",
              " ('PHYS405B', 0),\n",
              " ('PHYS415B', 0),\n",
              " ('CNST495', 0),\n",
              " ('BIOL421', 0),\n",
              " ('ME470', 0),\n",
              " ('SOCW386', 0),\n",
              " ('ENG215', 0),\n",
              " ('ECON429', 0),\n",
              " ('CI352E', 0),\n",
              " ('BIOL491', 0),\n",
              " ('MKTG456', 0),\n",
              " ('CHEM196', 0),\n",
              " ('CE441', 0),\n",
              " ('FIN421', 0),\n",
              " ('BIOL463', 0),\n",
              " ('ECON461', 0),\n",
              " ('GEOG417', 0),\n",
              " ('CI426', 0),\n",
              " ('ENSC326', 0),\n",
              " ('IE477', 0),\n",
              " ('ECE426', 0),\n",
              " ('ECE439', 0),\n",
              " ('KIN412', 0),\n",
              " ('PHYS320', 0),\n",
              " ('NURS342C', 0),\n",
              " ('KIN464', 0),\n",
              " ('ECON331', 0),\n",
              " ('ME474', 0),\n",
              " ('ENG420', 0),\n",
              " ('FIN435', 0),\n",
              " ('CI352Q', 0),\n",
              " ('NURS341B', 0),\n",
              " ('FIN361', 0),\n",
              " ('FIN341', 0),\n",
              " ('KIN330', 0),\n",
              " ('BIOL417', 0),\n",
              " ('ECON345', 0),\n",
              " ('ENSC325B', 0),\n",
              " ('ECON439', 0),\n",
              " ('CI352H', 0),\n",
              " ('ECE441', 0),\n",
              " ('ENSC465', 0),\n",
              " ('CMIS424', 0),\n",
              " ('ME192', 0),\n",
              " ('STAT483', 0),\n",
              " ('CE476', 0),\n",
              " ('KIN370', 0),\n",
              " ('MKTG468', 0),\n",
              " ('ENG310', 0),\n",
              " ('CHEM459', 0),\n",
              " ('ENG497A', 0),\n",
              " ('IE462', 0),\n",
              " ('ENG444', 0),\n",
              " ('ECON417', 0),\n",
              " ('ME476', 0),\n",
              " ('CE459', 0),\n",
              " ('CS242', 0),\n",
              " ('IE466', 0),\n",
              " ('BIOL418B', 0),\n",
              " ('KIN426', 0),\n",
              " ('CHEM479', 0),\n",
              " ('BIOL251', 0),\n",
              " ('MGMT432', 0),\n",
              " ('BIOL422A', 0),\n",
              " ('CNST464', 0),\n",
              " ('ENG404', 0),\n",
              " ('ENG307', 0),\n",
              " ('MGMT445', 0),\n",
              " ('PHYS376', 0),\n",
              " ('NUTR355', 0),\n",
              " ('ENG342', 0),\n",
              " ('STAT486B', 0),\n",
              " ('PHYS472', 0),\n",
              " ('CMIS435', 0),\n",
              " ('PHYS314', 0),\n",
              " ('PHYS492', 0),\n",
              " ('ENG410', 0),\n",
              " ('STAT486A', 0),\n",
              " ('BIOL488', 0),\n",
              " ('MKTG467', 0),\n",
              " ('NUTR421', 0),\n",
              " ('ENG340', 0),\n",
              " ('BIOL422B', 0),\n",
              " ('ENSC412', 0),\n",
              " ('CHEM451C', 0),\n",
              " ('CMIS462', 0),\n",
              " ('BIOL492M', 0),\n",
              " ('CMIS468', 0),\n",
              " ('CMIS430', 0),\n",
              " ('ENG477', 0),\n",
              " ('PHYS497', 0),\n",
              " ('ENG471', 0),\n",
              " ('CI352T', 0),\n",
              " ('FIN451', 0),\n",
              " ('CMIS351', 0),\n",
              " ('BIOL462', 0),\n",
              " ('IE480', 0),\n",
              " ('ECON321', 0),\n",
              " ('ACCT441', 0),\n",
              " ('CI414', 0),\n",
              " ('ACCT431', 0),\n",
              " ('PHEL402', 0),\n",
              " ('BIOL472', 0),\n",
              " ('GEOG499', 0),\n",
              " ('CI434', 0),\n",
              " ('MGMT470', 0),\n",
              " ('CE458', 0),\n",
              " ('BIOL475', 0),\n",
              " ('CE449', 0),\n",
              " ('BIOL465', 0),\n",
              " ('BIOL427', 0),\n",
              " ('ENSC496', 0),\n",
              " ('MATH165', 0),\n",
              " ('ECON411', 0),\n",
              " ('ME432', 0),\n",
              " ('BIOL436', 0),\n",
              " ('ECE476', 0),\n",
              " ('CE480', 0),\n",
              " ('PHYS430', 0),\n",
              " ('FIN460', 0),\n",
              " ('BIOL330', 0),\n",
              " ('ENSC432', 0),\n",
              " ('MKTG471', 0),\n",
              " ('ENG309', 0),\n",
              " ('CHEM461B', 0),\n",
              " ('MATH464', 0),\n",
              " ('SURV364', 0),\n",
              " ('ECE447', 0),\n",
              " ('PHYS120', 0),\n",
              " ('CS423', 0),\n",
              " ('BIOL464', 0),\n",
              " ('ENG445', 0),\n",
              " ('IE468', 0),\n",
              " ('IE478', 0),\n",
              " ('EPFR415', 0),\n",
              " ('PHYS219', 0),\n",
              " ('CS454', 0),\n",
              " ('BIOL435', 0),\n",
              " ('BIOL371', 0),\n",
              " ('ENG465', 0),\n",
              " ('ENG332', 0),\n",
              " ('MGMT425', 0),\n",
              " ('MATH400', 0),\n",
              " ('BIOL455A/B', 0),\n",
              " ('CMIS300', 0),\n",
              " ('CI421', 0),\n",
              " ('ENSC437', 0),\n",
              " ('CI352M', 0),\n",
              " ('ACCT396', 0),\n",
              " ('STAT488', 0),\n",
              " ('CE415L', 0),\n",
              " ('IE467', 0),\n",
              " ('ECON300', 0),\n",
              " ('CNST411', 0),\n",
              " ('ENSC445', 0),\n",
              " ('NURS241', 0),\n",
              " ('ECE455', 0),\n",
              " ('BIOL470', 0),\n",
              " ('IE482', 0),\n",
              " ('GEOG425', 0),\n",
              " ('ME416', 0),\n",
              " ('PHYS392', 0),\n",
              " ('BIOL486', 0),\n",
              " ('BIOL468', 0),\n",
              " ('ECE475', 0),\n",
              " ('BIOL483', 0),\n",
              " ('PHYS406', 0),\n",
              " ('ENG334', 0),\n",
              " ('ENSC436', 0),\n",
              " ('STAT481', 0),\n",
              " ('MKTG479', 0),\n",
              " ('CI352N', 0),\n",
              " ('NURS480R', 0),\n",
              " ('CMIS455', 0),\n",
              " ('BIOL444B', 0),\n",
              " ('PHYS140', 0),\n",
              " ('KIN355', 0),\n",
              " ('CI352P', 0),\n",
              " ('MRE477', 0),\n",
              " ('PHYS293', 0),\n",
              " ('ECE446', 0),\n",
              " ('ENG344', 0),\n",
              " ('MGMT431', 0),\n",
              " ('CI352B', 0),\n",
              " ('STAT484', 0),\n",
              " ('ENG443', 0),\n",
              " ('SPE442', 0),\n",
              " ('CHEM445', 0),\n",
              " ('CE475', 0),\n",
              " ('ME442', 0),\n",
              " ('IE490', 0),\n",
              " ('ENG480', 0),\n",
              " ('NUTR409', 0),\n",
              " ('CE486', 0),\n",
              " ('PHYS340', 0),\n",
              " ('CHEM415', 0),\n",
              " ('BIOL451', 0),\n",
              " ('CHEM439', 0),\n",
              " ('ENG463', 0),\n",
              " ('PHYS396', 0),\n",
              " ('ENSC434', 0),\n",
              " ('STAT478', 0),\n",
              " ('BIOL480', 0),\n",
              " ('ENG485', 0),\n",
              " ('GEOG412', 0),\n",
              " ('SOCW486', 0),\n",
              " ('CI352C', 0),\n",
              " ('KIN417', 0),\n",
              " ('CI352J', 0),\n",
              " ('HUM495', 0),\n",
              " ('CE482', 0),\n",
              " ('MGMT377', 0),\n",
              " ('ENG446', 0),\n",
              " ('MGMT433', 0),\n",
              " ('CNST470', 0),\n",
              " ('CS499', 0),\n",
              " ('STAT489', 0),\n",
              " ('MRE481', 0),\n",
              " ('CNST351', 0),\n",
              " ('ECE445', 0),\n",
              " ('BIOL431', 0),\n",
              " ('ENG482', 0),\n",
              " ('ACCT340', 0),\n",
              " ('NUTR410', 0),\n",
              " ('ENG464', 0),\n",
              " ('ME458', 0),\n",
              " ('BIOL425', 0),\n",
              " ('BIOL461', 0),\n",
              " ('FIN432', 0),\n",
              " ('ENSC466', 0),\n",
              " ('PHYS393', 0),\n",
              " ('NURS484R', 0),\n",
              " ('CHEM444', 0),\n",
              " ('MC456', 0),\n",
              " ('FIN360', 0),\n",
              " ('ME418', 0),\n",
              " ('CNST425', 0),\n",
              " ('STAT482', 0),\n",
              " ('GEOG414', 0),\n",
              " ('CMIS426', 0),\n",
              " ('ME420', 0),\n",
              " ('CMIS260', 0),\n",
              " ('CMIS427', 0),\n",
              " ('ENSC401', 0),\n",
              " ('OR442', 0),\n",
              " ('ECE436', 0),\n",
              " ('ECE485', 0),\n",
              " ('SPE441', 0),\n",
              " ('FIN440', 0),\n",
              " ('MATH300', 0),\n",
              " ('CHEM419', 0),\n",
              " ('CI352I', 0),\n",
              " ('ECON415', 0),\n",
              " ('ME452', 0),\n",
              " ('ECE465', 0),\n",
              " ('HUM230', 0),\n",
              " ('ENG473', 0),\n",
              " ('ENG493', 0),\n",
              " ('OR440', 0),\n",
              " ('ECE477', 0),\n",
              " ('CHEM352', 0),\n",
              " ('BIOL337', 0),\n",
              " ('SURV484', 0),\n",
              " ('BIOL487', 0),\n",
              " ('MATH450', 0),\n",
              " ('BIOL452', 0),\n",
              " ('BIOL423', 0),\n",
              " ('ENSC431L', 0),\n",
              " ('PHYS398', 0),\n",
              " ('ECE483', 0),\n",
              " ('SURV470', 0),\n",
              " ('CI352D', 0),\n",
              " ('PHYS496', 0),\n",
              " ('CE474', 0),\n",
              " ('PHYS297', 0),\n",
              " ('MKTG472', 0),\n",
              " ('GEOG424', 0),\n",
              " ('CNST432', 0),\n",
              " ('ENSC499', 0),\n",
              " ('CS240', 0),\n",
              " ('MRE424', 0),\n",
              " ('BIOL497', 0),\n",
              " ('MATH421', 0),\n",
              " ('MATH315', 0),\n",
              " ('CHEM432', 0),\n",
              " ('BIOL428', 0),\n",
              " ('ENG457', 0),\n",
              " ('MKTG466', 0),\n",
              " ('BIOL469', 0),\n",
              " ('ENG496', 0),\n",
              " ('CE493', 0),\n",
              " ('NURS343C', 0),\n",
              " ('PHYS471', 0),\n",
              " ('CS382', 0),\n",
              " ('PHYS292', 0),\n",
              " ('CHEM465', 0),\n",
              " ('FIN306', 0),\n",
              " ('ENG490', 0),\n",
              " ('CE443', 0),\n",
              " ('ECON416', 0),\n",
              " ('ENG341', 0),\n",
              " ('ECON361', 0),\n",
              " ('GEOG415', 0),\n",
              " ('CHEM449', 0),\n",
              " ('ECE428', 0),\n",
              " ('PHYS444', 0),\n",
              " ('BIOL489', 0),\n",
              " ('MATH355', 0),\n",
              " ('BIOL467L', 0),\n",
              " ('SCI241B', 0),\n",
              " ('ME412', 0),\n",
              " ('IE445', 0),\n",
              " ('CS463', 0),\n",
              " ('ENSC477', 0),\n",
              " ('MKTG470', 0),\n",
              " ('FIN445', 0),\n",
              " ('ACCT421', 0),\n",
              " ('CE457', 0),\n",
              " ('ME414', 0),\n",
              " ('ENG475', 0),\n",
              " ('MKTG475', 0),\n",
              " ('PHYS442', 0),\n",
              " ('ENSC402', 0),\n",
              " ('MGMT441', 0),\n",
              " ('ECE381', 0),\n",
              " ('MATH437', 0),\n",
              " ('FIN436', 0),\n",
              " ('CS438', 0),\n",
              " ('BIOL416', 0),\n",
              " ('PHYS498', 0),\n",
              " ('PHYS493', 0),\n",
              " ('ACCT303', 0),\n",
              " ('KIN321', 0),\n",
              " ('CI422', 0),\n",
              " ('ENG201', 0),\n",
              " ('ENG494', 0),\n",
              " ('BIOL460', 0),\n",
              " ('ENG479', 0),\n",
              " ('BIOL473', 0),\n",
              " ('MRE380', 0),\n",
              " ('BIOL335', 0),\n",
              " ('ECON431', 0),\n",
              " ('BIOL466', 0),\n",
              " ('BIOL440', 0),\n",
              " ('PHYS296', 0),\n",
              " ('KIN460', 0),\n",
              " ('ENG214', 0),\n",
              " ('ECON445', 0),\n",
              " ('BIOL441', 0),\n",
              " ('ENSC450', 0),\n",
              " ('ENG343', 0)]"
            ]
          },
          "metadata": {},
          "execution_count": 44
        }
      ]
    },
    {
      "cell_type": "code",
      "source": [],
      "metadata": {
        "id": "8mql22jdWqtY"
      },
      "execution_count": null,
      "outputs": []
    },
    {
      "cell_type": "code",
      "source": [],
      "metadata": {
        "id": "dKgq-qidWqwX"
      },
      "execution_count": null,
      "outputs": []
    },
    {
      "cell_type": "code",
      "source": [
        "nx.find_cycle(J, source=None, orientation=None)"
      ],
      "metadata": {
        "colab": {
          "base_uri": "https://localhost:8080/"
        },
        "id": "IxhcJcXd6G2d",
        "outputId": "e02a6381-0129-4653-f4ef-e237d6cd4d32"
      },
      "execution_count": null,
      "outputs": [
        {
          "output_type": "execute_result",
          "data": {
            "text/plain": [
              "[('SPE412/417B/418/430B', 'SPE422'), ('SPE422', 'SPE412/417B/418/430B')]"
            ]
          },
          "metadata": {},
          "execution_count": 8
        }
      ]
    },
    {
      "cell_type": "code",
      "source": [
        "J.remove_edge('SPE422', 'SPE412/417B/418/430B')"
      ],
      "metadata": {
        "id": "8dUJS4tK6zAn"
      },
      "execution_count": null,
      "outputs": []
    },
    {
      "cell_type": "code",
      "source": [
        "J.remove_edge(\"MATH150\",\"PHYS141/151/151L\")"
      ],
      "metadata": {
        "id": "dostokF8F-IV"
      },
      "execution_count": null,
      "outputs": []
    },
    {
      "cell_type": "code",
      "source": [
        "nx.dag_longest_path(J)"
      ],
      "metadata": {
        "colab": {
          "base_uri": "https://localhost:8080/"
        },
        "id": "gl5xKzDQ5b9R",
        "outputId": "2c404e9a-7376-43da-b14d-6d01a020560c"
      },
      "execution_count": null,
      "outputs": [
        {
          "output_type": "execute_result",
          "data": {
            "text/plain": [
              "['MATH120',\n",
              " 'MATH125',\n",
              " 'CHEM121A/125A',\n",
              " 'CHEM121B/125B',\n",
              " 'CHEM241A',\n",
              " 'BIOL250',\n",
              " 'NURS240R',\n",
              " 'NURS335R',\n",
              " 'NURS475R',\n",
              " 'NURS472R',\n",
              " 'NURS480R']"
            ]
          },
          "metadata": {},
          "execution_count": 11
        }
      ]
    },
    {
      "cell_type": "code",
      "source": [
        "BFS = nx.DiGraph()\n",
        "BFS.add_edges_from(a)\n",
        "nx.write_gml(BFS,\"BFS.gml\")"
      ],
      "metadata": {
        "id": "VekrfcNAA6qT"
      },
      "execution_count": null,
      "outputs": []
    },
    {
      "cell_type": "code",
      "source": [
        "BFS.remove_edge(\"MATH150\",\"PHYS141/151/151L\")"
      ],
      "metadata": {
        "id": "StV6AhffFra7"
      },
      "execution_count": null,
      "outputs": []
    },
    {
      "cell_type": "code",
      "source": [
        "b = nx.all_simple_paths(BFS, \"MATH120\", \"ECE405\", cutoff=None)\n",
        "list(b)"
      ],
      "metadata": {
        "colab": {
          "base_uri": "https://localhost:8080/"
        },
        "id": "oXYN_N1UEFly",
        "outputId": "adc8a4de-0f09-486a-a887-1a3c68329d2b"
      },
      "execution_count": null,
      "outputs": [
        {
          "output_type": "execute_result",
          "data": {
            "text/plain": [
              "[['MATH120', 'CS140', 'ECE282', 'ECE404', 'ECE405']]"
            ]
          },
          "metadata": {},
          "execution_count": 16
        }
      ]
    },
    {
      "cell_type": "code",
      "source": [
        "nx.dag_longest_path(BFS)"
      ],
      "metadata": {
        "colab": {
          "base_uri": "https://localhost:8080/"
        },
        "id": "c-QHjU_xCgnP",
        "outputId": "b4c915bc-2782-4a46-ab3e-39ed4f18b6ef"
      },
      "execution_count": null,
      "outputs": [
        {
          "output_type": "execute_result",
          "data": {
            "text/plain": [
              "['MATH120',\n",
              " 'MATH125',\n",
              " 'CHEM121A/125A',\n",
              " 'BIOL150',\n",
              " 'BIOL240A',\n",
              " 'BIOL240B',\n",
              " 'NURS240',\n",
              " 'NURS354/354C',\n",
              " 'NURS474',\n",
              " 'NURS474C']"
            ]
          },
          "metadata": {},
          "execution_count": 17
        }
      ]
    },
    {
      "cell_type": "markdown",
      "source": [],
      "metadata": {
        "id": "c2k-ndGQ9-UX"
      }
    },
    {
      "cell_type": "code",
      "source": [
        "list((list(nx.topological_sort(J))))"
      ],
      "metadata": {
        "id": "rBjQFbxW86uP"
      },
      "execution_count": null,
      "outputs": []
    }
  ]
}